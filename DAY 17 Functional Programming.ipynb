{
 "cells": [
  {
   "cell_type": "markdown",
   "id": "e1c7e0b4-f6d3-4926-8611-a1b9cfff1409",
   "metadata": {},
   "source": [
    "# Functional Programming"
   ]
  },
  {
   "cell_type": "code",
   "execution_count": null,
   "id": "38e13972-b1aa-4ecb-a9c1-71ca349aed05",
   "metadata": {},
   "outputs": [],
   "source": []
  },
  {
   "cell_type": "code",
   "execution_count": 3,
   "id": "d434372c-6f35-470f-ad0c-51dcb10f6d6f",
   "metadata": {},
   "outputs": [
    {
     "name": "stdout",
     "output_type": "stream",
     "text": [
      "Hello world!!\n"
     ]
    }
   ],
   "source": [
    "say_hello()"
   ]
  },
  {
   "cell_type": "code",
   "execution_count": 4,
   "id": "8e9cdb2c-b883-4e49-b84e-012b906a53f4",
   "metadata": {},
   "outputs": [],
   "source": [
    "#1.without parameter ex:say_hello()\n",
    "#syntax:\n",
    "#def function_name():\n",
    "    #code block\n",
    "    #print(your_ans) or \n",
    "    #return your_ans\n",
    "\n",
    "\n",
    "\n",
    "def say_hello():\n",
    "    print('Hello world!!')"
   ]
  },
  {
   "cell_type": "code",
   "execution_count": 5,
   "id": "37178cfc-a568-48ce-adb6-180a74454f5d",
   "metadata": {},
   "outputs": [
    {
     "name": "stdout",
     "output_type": "stream",
     "text": [
      "Hello world!!\n"
     ]
    }
   ],
   "source": [
    "# function_call\n",
    "say_hello()"
   ]
  },
  {
   "cell_type": "code",
   "execution_count": 6,
   "id": "352d019d-dfaa-43fe-9e5e-2cd513b6b23a",
   "metadata": {},
   "outputs": [
    {
     "name": "stdout",
     "output_type": "stream",
     "text": [
      "Hello world!!\n"
     ]
    }
   ],
   "source": [
    "say_hello()"
   ]
  },
  {
   "cell_type": "code",
   "execution_count": 7,
   "id": "fe42acf7-3fee-4d46-a225-8a976c2d592c",
   "metadata": {},
   "outputs": [],
   "source": [
    "# inbuilt function ==>\n",
    "# min(),max(),sum(),round(),id(),len(),input(),...etc\n",
    "\n",
    "# user defined function : UDF\n"
   ]
  },
  {
   "cell_type": "code",
   "execution_count": 8,
   "id": "62764c96-0d2c-4578-85d9-18c33344af36",
   "metadata": {},
   "outputs": [],
   "source": [
    "# UDF ==>\n",
    "#    1.without parameter ex:say_hello()\n",
    "#    2.With parameter ==> it takes arguements\n",
    "\n"
   ]
  },
  {
   "cell_type": "code",
   "execution_count": 9,
   "id": "cd044b84-1c8d-4079-9e78-859766e97a13",
   "metadata": {},
   "outputs": [],
   "source": [
    "#    2.With parameter ==> it takes arguements\n",
    "def greet(name):\n",
    "    import random\n",
    "    all_msg = ['hello','Hii','Welcome','Hey!','WhatsUp']\n",
    "\n",
    "    start = random.choice(all_msg)\n",
    "    final_msg = f'{start} {name}, How are You ?'\n",
    "    return final_msg"
   ]
  },
  {
   "cell_type": "code",
   "execution_count": 12,
   "id": "348f6890-a1cd-456b-b076-594383df1e46",
   "metadata": {},
   "outputs": [
    {
     "data": {
      "text/plain": [
       "'Hii Aarab, How are You ?'"
      ]
     },
     "execution_count": 12,
     "metadata": {},
     "output_type": "execute_result"
    }
   ],
   "source": [
    "greet('Aarab')"
   ]
  },
  {
   "cell_type": "code",
   "execution_count": 11,
   "id": "497ab113-2276-4e68-bc1c-ba712040938b",
   "metadata": {},
   "outputs": [
    {
     "data": {
      "text/plain": [
       "'WhatsUp tushar, How are You ?'"
      ]
     },
     "execution_count": 11,
     "metadata": {},
     "output_type": "execute_result"
    }
   ],
   "source": [
    "greet('tushar')"
   ]
  },
  {
   "cell_type": "code",
   "execution_count": null,
   "id": "792491a2-8d14-4980-923f-d5aa72f13167",
   "metadata": {},
   "outputs": [],
   "source": []
  },
  {
   "cell_type": "code",
   "execution_count": 20,
   "id": "1b11991a-8073-4672-ae15-813ef7091bb8",
   "metadata": {},
   "outputs": [],
   "source": [
    "def greet_person(name):\n",
    "    import random\n",
    "    all_msg = ['hello','Hii','Welcome','Hey!','WhatsUp']\n",
    "\n",
    "    first_msg= random.choice(all_msg) \n",
    "\n",
    "    # print(first_msg)\n",
    "    last_all_msg =  [\n",
    "    \"How's it going?\",\n",
    "    \"How are you doing?\",\n",
    "    \"What's up?\",\n",
    "    \"How are things?\",\n",
    "    \"How have you been?\",\n",
    "    \"How's everything?\",\n",
    "    \"How's life treating you?\",\n",
    "    \"What's good?\",\n",
    "    \"How's your day going?\",\n",
    "    \"How are things with you?\"]\n",
    "\n",
    "    last_msg = random.choice(last_all_msg)\n",
    "\n",
    "    final_msg =f'{first_msg} {name} , {last_msg}'\n",
    "    \n",
    "    return final_msg"
   ]
  },
  {
   "cell_type": "code",
   "execution_count": 21,
   "id": "475f538e-1e42-4ebe-8a3a-2cede8a75147",
   "metadata": {},
   "outputs": [
    {
     "data": {
      "text/plain": [
       "'hello saurabh , How are you doing?'"
      ]
     },
     "execution_count": 21,
     "metadata": {},
     "output_type": "execute_result"
    }
   ],
   "source": [
    "greet_person('saurabh')"
   ]
  },
  {
   "cell_type": "code",
   "execution_count": null,
   "id": "09cb6a36-6060-4803-b647-46ae2549b55c",
   "metadata": {},
   "outputs": [],
   "source": []
  },
  {
   "cell_type": "code",
   "execution_count": null,
   "id": "248ab670-b984-4945-ba25-cad4bb9c975e",
   "metadata": {},
   "outputs": [],
   "source": []
  }
 ],
 "metadata": {
  "kernelspec": {
   "display_name": "Python [conda env:base] *",
   "language": "python",
   "name": "conda-base-py"
  },
  "language_info": {
   "codemirror_mode": {
    "name": "ipython",
    "version": 3
   },
   "file_extension": ".py",
   "mimetype": "text/x-python",
   "name": "python",
   "nbconvert_exporter": "python",
   "pygments_lexer": "ipython3",
   "version": "3.12.7"
  }
 },
 "nbformat": 4,
 "nbformat_minor": 5
}
