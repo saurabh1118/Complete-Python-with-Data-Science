{
 "cells": [
  {
   "cell_type": "markdown",
   "id": "3ac0ca77-0e2b-4fe8-83b6-b73f005af8f7",
   "metadata": {},
   "source": [
    "# WHILE LOOP"
   ]
  },
  {
   "cell_type": "code",
   "execution_count": 1,
   "id": "50307077-bbfa-4f80-9139-60c360345689",
   "metadata": {},
   "outputs": [],
   "source": [
    "# WHILE :WHEN WE HAVE A SPECIFIC CONDITION , LOOP RUN CONDITIONALY"
   ]
  },
  {
   "cell_type": "code",
   "execution_count": 5,
   "id": "ebfe0f20-1647-43c6-8cd9-34e2c94ee30f",
   "metadata": {},
   "outputs": [
    {
     "name": "stdout",
     "output_type": "stream",
     "text": [
      "2 x 1 = 2\n",
      "2 x 2 = 4\n",
      "2 x 3 = 6\n",
      "2 x 4 = 8\n",
      "2 x 5 = 10\n",
      "2 x 6 = 12\n",
      "2 x 7 = 14\n",
      "2 x 8 = 16\n",
      "2 x 9 = 18\n",
      "2 x 10 = 20\n"
     ]
    }
   ],
   "source": [
    "table = 2\n",
    "counter = 1\n",
    "while counter <= 10:\n",
    "    print(f'{table} x {counter} = {table * counter}')\n",
    "    counter +=1\n"
   ]
  },
  {
   "cell_type": "markdown",
   "id": "30e766d4-2554-436c-b368-e0e5f57c6997",
   "metadata": {},
   "source": [
    "# Problem No.2"
   ]
  },
  {
   "cell_type": "code",
   "execution_count": 9,
   "id": "f4b41d99-26c6-4305-b581-2721c8953e77",
   "metadata": {},
   "outputs": [
    {
     "name": "stdout",
     "output_type": "stream",
     "text": [
      "all list:  [455, 19465, 5, 95, 7745]\n"
     ]
    }
   ],
   "source": [
    "data = [455,4846,996,19465,644,5,4486,95,5548,7745]\n",
    "\n",
    "divide_by_5 =[]\n",
    "\n",
    "c = 0\n",
    "\n",
    "while c <len(data):\n",
    "    if data[c]%5==0:\n",
    "        divide_by_5.append(data[c])\n",
    "\n",
    "    c+=1\n",
    "\n",
    "print('all list: ',divide_by_5)"
   ]
  },
  {
   "cell_type": "markdown",
   "id": "8a1a0a46-dca6-47e6-b3f4-f2aefa20a2a4",
   "metadata": {},
   "source": [
    "# Problem No.3"
   ]
  },
  {
   "cell_type": "code",
   "execution_count": 2,
   "id": "4b88f745-2c1b-4270-af39-6f8ba076f4f2",
   "metadata": {},
   "outputs": [
    {
     "name": "stdout",
     "output_type": "stream",
     "text": [
      "common :  [2, 452, 145]\n"
     ]
    }
   ],
   "source": [
    "data1 = [2,452,14,52,5564,1445,145]\n",
    "\n",
    "data2 = [452,145,588,446,2,4524]\n",
    "\n",
    "common = []\n",
    "\n",
    "c1,c2 =0,0\n",
    "\n",
    "while c1 < len(data1):\n",
    "    while c2 < len(data2):\n",
    "        if data1[c1] == data2[c2]:\n",
    "            common.append(data1[c1])\n",
    "\n",
    "        c2+=1\n",
    "    c1 += 1\n",
    "    c2 = 0\n",
    "\n",
    "print('common : ',common)"
   ]
  },
  {
   "cell_type": "code",
   "execution_count": 3,
   "id": "44ba3565-cd44-4750-83a8-4f1f5318f6c8",
   "metadata": {},
   "outputs": [
    {
     "name": "stdout",
     "output_type": "stream",
     "text": [
      "Done\n"
     ]
    }
   ],
   "source": [
    "import webbrowser\n",
    "print('Done')"
   ]
  },
  {
   "cell_type": "code",
   "execution_count": 4,
   "id": "a0c67704-bab7-49dd-aa94-a0ef55cb308c",
   "metadata": {},
   "outputs": [
    {
     "data": {
      "text/plain": [
       "135"
      ]
     },
     "execution_count": 4,
     "metadata": {},
     "output_type": "execute_result"
    }
   ],
   "source": [
    "45+45+45"
   ]
  },
  {
   "cell_type": "code",
   "execution_count": 5,
   "id": "ffc5e918-2ae6-4c29-bfb8-5670fd62aa8b",
   "metadata": {},
   "outputs": [
    {
     "name": "stdout",
     "output_type": "stream",
     "text": [
      "url>>:https://www.medium.com\n",
      "url>>:https://www.reddit.com/r/SEO\n",
      "url>>:https://www.quora.com\n",
      "url>>:https://www.linkedin.com\n",
      "url>>:https://www.yelp.com\n",
      "url>>:https://www.crunchbase.com\n",
      "url>>:https://www.ahrefs.com/blog\n",
      "url>>:https://moz.com/blog\n",
      "url>>:https://www.forbes.com\n",
      "url>>:https://www.prnewswire.com\n"
     ]
    }
   ],
   "source": [
    "import webbrowser\n",
    "import time\n",
    "top_backlink_urls = [\n",
    "    \"https://www.medium.com\",\n",
    "    \"https://www.reddit.com/r/SEO\",\n",
    "    \"https://www.quora.com\",\n",
    "    \"https://www.linkedin.com\",\n",
    "    \"https://www.yelp.com\",\n",
    "    \"https://www.crunchbase.com\",\n",
    "    \"https://www.ahrefs.com/blog\",\n",
    "    \"https://moz.com/blog\",\n",
    "    \"https://www.forbes.com\",\n",
    "    \"https://www.prnewswire.com\"\n",
    "]\n",
    "\n",
    "c = 0\n",
    "\n",
    "while c < len(top_backlink_urls):\n",
    "    url=top_backlink_urls[c]\n",
    "    webbrowser.open_new(url)\n",
    "    time.sleep(4)\n",
    "    print(f\"url>>:{url}\")\n",
    "    c +=1"
   ]
  },
  {
   "cell_type": "code",
   "execution_count": 9,
   "id": "aa5b7e41-feb6-4e16-9fc6-e8dc3cbc6e9b",
   "metadata": {},
   "outputs": [
    {
     "name": "stdout",
     "output_type": "stream",
     "text": [
      "Collecting PyAutoGUI\n",
      "  Downloading PyAutoGUI-0.9.54.tar.gz (61 kB)\n",
      "  Installing build dependencies: started\n",
      "  Installing build dependencies: finished with status 'done'\n",
      "  Getting requirements to build wheel: started\n",
      "  Getting requirements to build wheel: finished with status 'done'\n",
      "  Preparing metadata (pyproject.toml): started\n",
      "  Preparing metadata (pyproject.toml): finished with status 'done'\n",
      "Collecting pymsgbox (from PyAutoGUI)\n",
      "  Downloading pymsgbox-2.0.1-py3-none-any.whl.metadata (4.4 kB)\n",
      "Collecting pytweening>=1.0.4 (from PyAutoGUI)\n",
      "  Downloading pytweening-1.2.0.tar.gz (171 kB)\n",
      "  Preparing metadata (setup.py): started\n",
      "  Preparing metadata (setup.py): finished with status 'done'\n",
      "Collecting pyscreeze>=0.1.21 (from PyAutoGUI)\n",
      "  Downloading pyscreeze-1.0.1.tar.gz (27 kB)\n",
      "  Installing build dependencies: started\n",
      "  Installing build dependencies: finished with status 'done'\n",
      "  Getting requirements to build wheel: started\n",
      "  Getting requirements to build wheel: finished with status 'done'\n",
      "  Preparing metadata (pyproject.toml): started\n",
      "  Preparing metadata (pyproject.toml): finished with status 'done'\n",
      "Collecting pygetwindow>=0.0.5 (from PyAutoGUI)\n",
      "  Downloading PyGetWindow-0.0.9.tar.gz (9.7 kB)\n",
      "  Preparing metadata (setup.py): started\n",
      "  Preparing metadata (setup.py): finished with status 'done'\n",
      "Collecting mouseinfo (from PyAutoGUI)\n",
      "  Downloading MouseInfo-0.1.3.tar.gz (10 kB)\n",
      "  Preparing metadata (setup.py): started\n",
      "  Preparing metadata (setup.py): finished with status 'done'\n",
      "Collecting pyrect (from pygetwindow>=0.0.5->PyAutoGUI)\n",
      "  Downloading PyRect-0.2.0.tar.gz (17 kB)\n",
      "  Preparing metadata (setup.py): started\n",
      "  Preparing metadata (setup.py): finished with status 'done'\n",
      "Collecting pyperclip (from mouseinfo->PyAutoGUI)\n",
      "  Downloading pyperclip-1.10.0-py3-none-any.whl.metadata (2.4 kB)\n",
      "Downloading pymsgbox-2.0.1-py3-none-any.whl (10.0 kB)\n",
      "Downloading pyperclip-1.10.0-py3-none-any.whl (11 kB)\n",
      "Building wheels for collected packages: PyAutoGUI, pygetwindow, pyscreeze, pytweening, mouseinfo, pyrect\n",
      "  Building wheel for PyAutoGUI (pyproject.toml): started\n",
      "  Building wheel for PyAutoGUI (pyproject.toml): finished with status 'done'\n",
      "  Created wheel for PyAutoGUI: filename=pyautogui-0.9.54-py3-none-any.whl size=37707 sha256=ba817a7c7460a1d82400f902e3de36bc312e323ab110b2f0dcfe643204f55fa7\n",
      "  Stored in directory: c:\\users\\saurabh\\appdata\\local\\pip\\cache\\wheels\\d9\\d6\\47\\04075995b093ecc87c212c9a3dbd34e59456c6fe504d65c3e4\n",
      "  Building wheel for pygetwindow (setup.py): started\n",
      "  Building wheel for pygetwindow (setup.py): finished with status 'done'\n",
      "  Created wheel for pygetwindow: filename=PyGetWindow-0.0.9-py3-none-any.whl size=11081 sha256=1402b1b3a39180b727a9153f40d46d98cb573636c2d46370108992c5446b6a5e\n",
      "  Stored in directory: c:\\users\\saurabh\\appdata\\local\\pip\\cache\\wheels\\b3\\39\\81\\34dd7a2eca5f885f1f6e2796761970daf66a2d98ac1904f5f4\n",
      "  Building wheel for pyscreeze (pyproject.toml): started\n",
      "  Building wheel for pyscreeze (pyproject.toml): finished with status 'done'\n",
      "  Created wheel for pyscreeze: filename=pyscreeze-1.0.1-py3-none-any.whl size=14481 sha256=4555c08a081363eae010f061daba4d2327fd22ad828a8e29dac69edc0a25fdc6\n",
      "  Stored in directory: c:\\users\\saurabh\\appdata\\local\\pip\\cache\\wheels\\cd\\3a\\c2\\7f2839239a069aa3c9564f6777cbb29d733720ef673f104f0d\n",
      "  Building wheel for pytweening (setup.py): started\n",
      "  Building wheel for pytweening (setup.py): finished with status 'done'\n",
      "  Created wheel for pytweening: filename=pytweening-1.2.0-py3-none-any.whl size=8029 sha256=ef6e6ae5bdf90a1040f7e2f086ef2da263492fb427888c2425cc6c8640673436\n",
      "  Stored in directory: c:\\users\\saurabh\\appdata\\local\\pip\\cache\\wheels\\23\\d5\\13\\4e9bdadbfe3c78e47c675e7410c0eed2fbb63c5ea6cf1b40e7\n",
      "  Building wheel for mouseinfo (setup.py): started\n",
      "  Building wheel for mouseinfo (setup.py): finished with status 'done'\n",
      "  Created wheel for mouseinfo: filename=MouseInfo-0.1.3-py3-none-any.whl size=10903 sha256=afd2707377be57a180864d9b0ed183470fbe4050279e67bb49d2eb22bffd3b14\n",
      "  Stored in directory: c:\\users\\saurabh\\appdata\\local\\pip\\cache\\wheels\\b1\\9b\\f3\\08650eb7f00af32f07789f3c6a101e0d7fc762b9891ae843bb\n",
      "  Building wheel for pyrect (setup.py): started\n",
      "  Building wheel for pyrect (setup.py): finished with status 'done'\n",
      "  Created wheel for pyrect: filename=PyRect-0.2.0-py2.py3-none-any.whl size=11207 sha256=acd4a4f0a22b7bc15d8ead5092f66e92bb8050967907311ddf744f560630571f\n",
      "  Stored in directory: c:\\users\\saurabh\\appdata\\local\\pip\\cache\\wheels\\0b\\1e\\d7\\0c74bd8f60b39c14d84e307398786002aa7ddc905927cc03c5\n",
      "Successfully built PyAutoGUI pygetwindow pyscreeze pytweening mouseinfo pyrect\n",
      "Installing collected packages: pytweening, pyscreeze, pyrect, pyperclip, pymsgbox, pygetwindow, mouseinfo, PyAutoGUI\n",
      "Successfully installed PyAutoGUI-0.9.54 mouseinfo-0.1.3 pygetwindow-0.0.9 pymsgbox-2.0.1 pyperclip-1.10.0 pyrect-0.2.0 pyscreeze-1.0.1 pytweening-1.2.0\n",
      "Collecting PyAutoGUI\n",
      "  Using cached pyautogui-0.9.54-py3-none-any.whl\n",
      "Collecting pymsgbox (from PyAutoGUI)\n",
      "  Using cached pymsgbox-2.0.1-py3-none-any.whl.metadata (4.4 kB)\n",
      "Collecting pytweening>=1.0.4 (from PyAutoGUI)\n",
      "  Using cached pytweening-1.2.0.tar.gz (171 kB)\n",
      "  Preparing metadata (setup.py): started\n",
      "  Preparing metadata (setup.py): finished with status 'done'\n",
      "Collecting pyscreeze>=0.1.21 (from PyAutoGUI)\n",
      "  Using cached pyscreeze-1.0.1.tar.gz (27 kB)\n",
      "  Installing build dependencies: started\n",
      "  Installing build dependencies: finished with status 'done'\n",
      "  Getting requirements to build wheel: started\n",
      "  Getting requirements to build wheel: finished with status 'done'\n",
      "  Preparing metadata (pyproject.toml): started\n",
      "  Preparing metadata (pyproject.toml): finished with status 'done'\n",
      "Collecting pygetwindow>=0.0.5 (from PyAutoGUI)\n",
      "  Using cached PyGetWindow-0.0.9-py3-none-any.whl\n",
      "Collecting mouseinfo (from PyAutoGUI)\n",
      "  Using cached MouseInfo-0.1.3-py3-none-any.whl\n",
      "Collecting pyrect (from pygetwindow>=0.0.5->PyAutoGUI)\n",
      "  Using cached PyRect-0.2.0-py2.py3-none-any.whl\n",
      "Collecting pyperclip (from mouseinfo->PyAutoGUI)\n",
      "  Using cached pyperclip-1.10.0-py3-none-any.whl.metadata (2.4 kB)\n",
      "Using cached pymsgbox-2.0.1-py3-none-any.whl (10.0 kB)\n",
      "Using cached pyperclip-1.10.0-py3-none-any.whl (11 kB)\n",
      "Building wheels for collected packages: pyscreeze, pytweening\n",
      "  Building wheel for pyscreeze (pyproject.toml): started\n",
      "  Building wheel for pyscreeze (pyproject.toml): finished with status 'done'\n",
      "  Created wheel for pyscreeze: filename=pyscreeze-1.0.1-py3-none-any.whl size=14481 sha256=14583a3b4fe6175dfd45bd11c8f4e60e16ab99af4ad187aa61cdbff24d87f5d0\n",
      "  Stored in directory: c:\\users\\saurabh\\appdata\\local\\pip\\cache\\wheels\\cd\\3a\\c2\\7f2839239a069aa3c9564f6777cbb29d733720ef673f104f0d\n",
      "  Building wheel for pytweening (setup.py): started\n",
      "  Building wheel for pytweening (setup.py): finished with status 'done'\n",
      "  Created wheel for pytweening: filename=pytweening-1.2.0-py3-none-any.whl size=8029 sha256=75049cf4abbb0f5643e8b5b5f159befe5ded764bbb85cc5ad09e6d9cc725f7c0\n",
      "  Stored in directory: c:\\users\\saurabh\\appdata\\local\\pip\\cache\\wheels\\23\\d5\\13\\4e9bdadbfe3c78e47c675e7410c0eed2fbb63c5ea6cf1b40e7\n",
      "Successfully built pyscreeze pytweening\n",
      "Installing collected packages: pytweening, pyscreeze, pyrect, pyperclip, pymsgbox, pygetwindow, mouseinfo, PyAutoGUI\n",
      "Successfully installed PyAutoGUI-0.9.54 mouseinfo-0.1.3 pygetwindow-0.0.9 pymsgbox-2.0.1 pyperclip-1.10.0 pyrect-0.2.0 pyscreeze-1.0.1 pytweening-1.2.0\n",
      "Done\n"
     ]
    }
   ],
   "source": [
    "!pip install PyAutoGUI\n",
    "print('Done')"
   ]
  },
  {
   "cell_type": "code",
   "execution_count": 13,
   "id": "5e3e3f88-470c-4f63-9204-c804972a7f0c",
   "metadata": {},
   "outputs": [
    {
     "ename": "KeyboardInterrupt",
     "evalue": "",
     "output_type": "error",
     "traceback": [
      "\u001b[1;31m---------------------------------------------------------------------------\u001b[0m",
      "\u001b[1;31mKeyboardInterrupt\u001b[0m                         Traceback (most recent call last)",
      "Cell \u001b[1;32mIn[13], line 10\u001b[0m\n\u001b[0;32m      8\u001b[0m \u001b[38;5;28;01mwhile\u001b[39;00m \u001b[38;5;28;01mTrue\u001b[39;00m:\n\u001b[0;32m      9\u001b[0m     alpha \u001b[38;5;241m=\u001b[39m random\u001b[38;5;241m.\u001b[39mchoice(all_string)\n\u001b[1;32m---> 10\u001b[0m     pyautogui\u001b[38;5;241m.\u001b[39mpress(alpha)\n\u001b[0;32m     11\u001b[0m     time\u001b[38;5;241m.\u001b[39msleep(\u001b[38;5;241m0.25\u001b[39m)\n",
      "File \u001b[1;32m~\\anaconda3\\Lib\\site-packages\\pyautogui\\__init__.py:595\u001b[0m, in \u001b[0;36m_genericPyAutoGUIChecks.<locals>.wrapper\u001b[1;34m(*args, **kwargs)\u001b[0m\n\u001b[0;32m    593\u001b[0m failSafeCheck()\n\u001b[0;32m    594\u001b[0m returnVal \u001b[38;5;241m=\u001b[39m wrappedFunction(\u001b[38;5;241m*\u001b[39margs, \u001b[38;5;241m*\u001b[39m\u001b[38;5;241m*\u001b[39mkwargs)\n\u001b[1;32m--> 595\u001b[0m _handlePause(kwargs\u001b[38;5;241m.\u001b[39mget(\u001b[38;5;124m\"\u001b[39m\u001b[38;5;124m_pause\u001b[39m\u001b[38;5;124m\"\u001b[39m, \u001b[38;5;28;01mTrue\u001b[39;00m))\n\u001b[0;32m    596\u001b[0m \u001b[38;5;28;01mreturn\u001b[39;00m returnVal\n",
      "File \u001b[1;32m~\\anaconda3\\Lib\\site-packages\\pyautogui\\__init__.py:639\u001b[0m, in \u001b[0;36m_handlePause\u001b[1;34m(_pause)\u001b[0m\n\u001b[0;32m    637\u001b[0m \u001b[38;5;28;01mif\u001b[39;00m _pause:\n\u001b[0;32m    638\u001b[0m     \u001b[38;5;28;01massert\u001b[39;00m \u001b[38;5;28misinstance\u001b[39m(PAUSE, \u001b[38;5;28mint\u001b[39m) \u001b[38;5;129;01mor\u001b[39;00m \u001b[38;5;28misinstance\u001b[39m(PAUSE, \u001b[38;5;28mfloat\u001b[39m)\n\u001b[1;32m--> 639\u001b[0m     time\u001b[38;5;241m.\u001b[39msleep(PAUSE)\n",
      "\u001b[1;31mKeyboardInterrupt\u001b[0m: "
     ]
    }
   ],
   "source": [
    "import string\n",
    "import random\n",
    "import pyautogui\n",
    "import time\n",
    "\n",
    "all_string = string.ascii_letters\n",
    "time.sleep(3)\n",
    "while True:\n",
    "    alpha = random.choice(all_string)\n",
    "    pyautogui.press(alpha)\n",
    "    time.sleep(0.25)"
   ]
  },
  {
   "cell_type": "code",
   "execution_count": null,
   "id": "b5249986-0778-4a03-b73c-b7fb84af6f68",
   "metadata": {},
   "outputs": [],
   "source": []
  }
 ],
 "metadata": {
  "kernelspec": {
   "display_name": "Python [conda env:base] *",
   "language": "python",
   "name": "conda-base-py"
  },
  "language_info": {
   "codemirror_mode": {
    "name": "ipython",
    "version": 3
   },
   "file_extension": ".py",
   "mimetype": "text/x-python",
   "name": "python",
   "nbconvert_exporter": "python",
   "pygments_lexer": "ipython3",
   "version": "3.12.7"
  }
 },
 "nbformat": 4,
 "nbformat_minor": 5
}
