{
 "cells": [
  {
   "cell_type": "markdown",
   "id": "3e191b6a-4c82-4a21-8477-2c95db75737c",
   "metadata": {},
   "source": [
    "# TUPLE\n"
   ]
  },
  {
   "cell_type": "code",
   "execution_count": 1,
   "id": "7d75c76d-1892-43b0-8714-828370e76e79",
   "metadata": {},
   "outputs": [],
   "source": [
    "a = (23,45,78,45)"
   ]
  },
  {
   "cell_type": "code",
   "execution_count": 4,
   "id": "4b3bfea9-1515-4a30-ab2a-46a7e8af1ea7",
   "metadata": {},
   "outputs": [
    {
     "name": "stdout",
     "output_type": "stream",
     "text": [
      "(23, 45, 78, 45)\n"
     ]
    },
    {
     "data": {
      "text/plain": [
       "tuple"
      ]
     },
     "execution_count": 4,
     "metadata": {},
     "output_type": "execute_result"
    }
   ],
   "source": [
    "print(a)\n",
    "type(a)"
   ]
  },
  {
   "cell_type": "code",
   "execution_count": 5,
   "id": "2d4d48db-8e28-4bc0-91a8-dce70b79521c",
   "metadata": {},
   "outputs": [],
   "source": [
    "a = (23,53,456,67,+0.7,[4,346,7],{'Name':'Mohan'},True)"
   ]
  },
  {
   "cell_type": "code",
   "execution_count": 6,
   "id": "98d6da76-a3bc-488b-978b-2b112709c576",
   "metadata": {},
   "outputs": [
    {
     "data": {
      "text/plain": [
       "tuple"
      ]
     },
     "execution_count": 6,
     "metadata": {},
     "output_type": "execute_result"
    }
   ],
   "source": [
    "type(a)"
   ]
  },
  {
   "cell_type": "code",
   "execution_count": 7,
   "id": "7a40b41f-0bb6-4a17-9aaa-69c074ae3198",
   "metadata": {},
   "outputs": [],
   "source": [
    "#nested tuple"
   ]
  },
  {
   "cell_type": "code",
   "execution_count": 9,
   "id": "8839cb43-dd48-4da7-8253-11a005e582e8",
   "metadata": {},
   "outputs": [],
   "source": [
    "a = (23,56,4556,116,0.7,[4,85,668,12],{'name':'karan'},True)"
   ]
  },
  {
   "cell_type": "code",
   "execution_count": 10,
   "id": "31cc4b71-d40c-45aa-aa9f-0260869cf942",
   "metadata": {},
   "outputs": [
    {
     "data": {
      "text/plain": [
       "(23, 56, 4556, 116, 0.7, [4, 85, 668, 12], {'name': 'karan'}, True)"
      ]
     },
     "execution_count": 10,
     "metadata": {},
     "output_type": "execute_result"
    }
   ],
   "source": [
    "a"
   ]
  },
  {
   "cell_type": "code",
   "execution_count": 11,
   "id": "5833ca96-a607-4d0d-8e0a-0a20094389b2",
   "metadata": {},
   "outputs": [],
   "source": [
    "#indexing and slicing"
   ]
  },
  {
   "cell_type": "code",
   "execution_count": 14,
   "id": "a78d271e-e1d4-4b97-867a-0ca7eb8e1b0d",
   "metadata": {},
   "outputs": [
    {
     "ename": "TypeError",
     "evalue": "'int' object does not support item assignment",
     "output_type": "error",
     "traceback": [
      "\u001b[1;31m---------------------------------------------------------------------------\u001b[0m",
      "\u001b[1;31mTypeError\u001b[0m                                 Traceback (most recent call last)",
      "Cell \u001b[1;32mIn[14], line 1\u001b[0m\n\u001b[1;32m----> 1\u001b[0m a[\u001b[38;5;241m3\u001b[39m][\u001b[38;5;241m-\u001b[39m\u001b[38;5;241m1\u001b[39m] \u001b[38;5;241m=\u001b[39m \u001b[38;5;241m545\u001b[39m\n",
      "\u001b[1;31mTypeError\u001b[0m: 'int' object does not support item assignment"
     ]
    }
   ],
   "source": [
    "a[3][-1] = 545"
   ]
  },
  {
   "cell_type": "code",
   "execution_count": 15,
   "id": "e8ad7e8f-0576-4c5c-81b7-ad6874a7a3d6",
   "metadata": {},
   "outputs": [],
   "source": [
    "#reverse"
   ]
  },
  {
   "cell_type": "code",
   "execution_count": 16,
   "id": "7b101704-6fc5-45a6-ad2b-c5bb8e8872ad",
   "metadata": {},
   "outputs": [],
   "source": [
    "a = (23,54,69,55,141,16,66)"
   ]
  },
  {
   "cell_type": "code",
   "execution_count": 17,
   "id": "c06f4228-7f77-48d2-b7ba-c2747a3d3241",
   "metadata": {},
   "outputs": [
    {
     "data": {
      "text/plain": [
       "(23, 54, 69, 55, 141, 16, 66)"
      ]
     },
     "execution_count": 17,
     "metadata": {},
     "output_type": "execute_result"
    }
   ],
   "source": [
    "a\n"
   ]
  },
  {
   "cell_type": "code",
   "execution_count": 18,
   "id": "14ab90e3-d874-4bdd-a882-2ea536a78231",
   "metadata": {},
   "outputs": [
    {
     "data": {
      "text/plain": [
       "(66, 16, 141, 55, 69, 54, 23)"
      ]
     },
     "execution_count": 18,
     "metadata": {},
     "output_type": "execute_result"
    }
   ],
   "source": [
    "a[::-1]"
   ]
  },
  {
   "cell_type": "code",
   "execution_count": 19,
   "id": "0e93cc7e-a738-4049-9f62-a53ad9fd0d19",
   "metadata": {},
   "outputs": [
    {
     "data": {
      "text/plain": [
       "424"
      ]
     },
     "execution_count": 19,
     "metadata": {},
     "output_type": "execute_result"
    }
   ],
   "source": [
    "sum(a)"
   ]
  },
  {
   "cell_type": "code",
   "execution_count": 20,
   "id": "9d6a77eb-2fb0-4a86-ab3a-8617f8c4117b",
   "metadata": {},
   "outputs": [
    {
     "data": {
      "text/plain": [
       "16"
      ]
     },
     "execution_count": 20,
     "metadata": {},
     "output_type": "execute_result"
    }
   ],
   "source": [
    "min(a)"
   ]
  },
  {
   "cell_type": "code",
   "execution_count": 21,
   "id": "504a1e2d-6aab-41d6-898f-93b7c87f1b38",
   "metadata": {},
   "outputs": [
    {
     "data": {
      "text/plain": [
       "141"
      ]
     },
     "execution_count": 21,
     "metadata": {},
     "output_type": "execute_result"
    }
   ],
   "source": [
    "max(a)"
   ]
  },
  {
   "cell_type": "code",
   "execution_count": 22,
   "id": "b5dff8b5-9d24-44f6-8359-7c97d58851a2",
   "metadata": {},
   "outputs": [],
   "source": [
    "\n",
    "a = (6,23,567)\n",
    "b = (5,3246,7)"
   ]
  },
  {
   "cell_type": "code",
   "execution_count": 23,
   "id": "05823c0a-3fdf-489b-b3a7-f2818c4f4f49",
   "metadata": {},
   "outputs": [
    {
     "data": {
      "text/plain": [
       "(6, 23, 567, 5, 3246, 7)"
      ]
     },
     "execution_count": 23,
     "metadata": {},
     "output_type": "execute_result"
    }
   ],
   "source": [
    "a + b # + : append the tuple items next"
   ]
  },
  {
   "cell_type": "code",
   "execution_count": 25,
   "id": "d40585d8-13e8-4995-9316-4664780df665",
   "metadata": {},
   "outputs": [
    {
     "ename": "TypeError",
     "evalue": "unsupported operand type(s) for -: 'tuple' and 'tuple'",
     "output_type": "error",
     "traceback": [
      "\u001b[1;31m---------------------------------------------------------------------------\u001b[0m",
      "\u001b[1;31mTypeError\u001b[0m                                 Traceback (most recent call last)",
      "Cell \u001b[1;32mIn[25], line 1\u001b[0m\n\u001b[1;32m----> 1\u001b[0m a \u001b[38;5;241m-\u001b[39m b\n",
      "\u001b[1;31mTypeError\u001b[0m: unsupported operand type(s) for -: 'tuple' and 'tuple'"
     ]
    }
   ],
   "source": [
    "a - b # - : unsupported operand : generate error"
   ]
  },
  {
   "cell_type": "code",
   "execution_count": 26,
   "id": "8e1eda9c-88a0-40d8-b739-e93ff32e66b0",
   "metadata": {},
   "outputs": [
    {
     "data": {
      "text/plain": [
       "(6, 23, 567)"
      ]
     },
     "execution_count": 26,
     "metadata": {},
     "output_type": "execute_result"
    }
   ],
   "source": [
    "a"
   ]
  },
  {
   "cell_type": "code",
   "execution_count": 27,
   "id": "893565f2-2fa5-456c-9133-5ae6a6d075b8",
   "metadata": {},
   "outputs": [
    {
     "data": {
      "text/plain": [
       "(6, 23, 567, 6, 23, 567, 6, 23, 567)"
      ]
     },
     "execution_count": 27,
     "metadata": {},
     "output_type": "execute_result"
    }
   ],
   "source": [
    "a * 3"
   ]
  },
  {
   "cell_type": "code",
   "execution_count": 28,
   "id": "8a2f27f1-5ea6-44e6-877a-d0af8e018904",
   "metadata": {},
   "outputs": [],
   "source": [
    "# Methods 2"
   ]
  },
  {
   "cell_type": "code",
   "execution_count": 29,
   "id": "1a2af922-c27e-4d21-b69f-2aca7ab43c47",
   "metadata": {},
   "outputs": [],
   "source": [
    "# a.count\n",
    "#a.index"
   ]
  },
  {
   "cell_type": "code",
   "execution_count": 38,
   "id": "165e4456-c865-4fe7-bf63-11de6eec7071",
   "metadata": {},
   "outputs": [],
   "source": [
    "a = (3561,54,654,5,55,36441,1441,641,441,44,55)"
   ]
  },
  {
   "cell_type": "code",
   "execution_count": 39,
   "id": "dfcca6b2-763a-48ae-b6a9-9a313b8ba280",
   "metadata": {},
   "outputs": [
    {
     "data": {
      "text/plain": [
       "2"
      ]
     },
     "execution_count": 39,
     "metadata": {},
     "output_type": "execute_result"
    }
   ],
   "source": [
    "a.count(55)"
   ]
  },
  {
   "cell_type": "code",
   "execution_count": 40,
   "id": "b53ecfea-8c8f-4c9d-86e3-9183644a37f5",
   "metadata": {},
   "outputs": [],
   "source": [
    "# slicing"
   ]
  },
  {
   "cell_type": "code",
   "execution_count": 41,
   "id": "5836d79b-b908-4a6c-b97e-f857111c8160",
   "metadata": {},
   "outputs": [
    {
     "data": {
      "text/plain": [
       "(5, 55, 36441, 1441, 641)"
      ]
     },
     "execution_count": 41,
     "metadata": {},
     "output_type": "execute_result"
    }
   ],
   "source": [
    "a[3:8]"
   ]
  },
  {
   "cell_type": "code",
   "execution_count": 45,
   "id": "771bb1fa-bd91-4d88-b25b-bb55ed04bc71",
   "metadata": {},
   "outputs": [
    {
     "data": {
      "text/plain": [
       "(3561, 54, 654, 5, 55, 36441, 1441, 641, 441, 44, 55)"
      ]
     },
     "execution_count": 45,
     "metadata": {},
     "output_type": "execute_result"
    }
   ],
   "source": [
    "a"
   ]
  },
  {
   "cell_type": "code",
   "execution_count": null,
   "id": "bc657850-1f52-404a-b44d-b35440d9b4c1",
   "metadata": {},
   "outputs": [],
   "source": []
  },
  {
   "cell_type": "code",
   "execution_count": 46,
   "id": "6766550c-86f1-4187-82f0-ec48fc137182",
   "metadata": {},
   "outputs": [
    {
     "data": {
      "text/plain": [
       "(654, 5, 55, 36441, 1441, 641)"
      ]
     },
     "execution_count": 46,
     "metadata": {},
     "output_type": "execute_result"
    }
   ],
   "source": [
    "a[a.index(654):a.index(641)+1]"
   ]
  },
  {
   "cell_type": "markdown",
   "id": "a484ffc0-81b4-41db-a619-c0d06ac1ff64",
   "metadata": {},
   "source": [
    "# DICT , Key-Value , Hash , Mapping , Map"
   ]
  },
  {
   "cell_type": "code",
   "execution_count": 44,
   "id": "a4910e1f-d8de-482a-a91e-4196d542950a",
   "metadata": {},
   "outputs": [],
   "source": [
    "# data = {'key':'value'}"
   ]
  },
  {
   "cell_type": "code",
   "execution_count": 47,
   "id": "544736eb-2b33-41e5-80e0-cd5fa0e14106",
   "metadata": {},
   "outputs": [],
   "source": [
    "data = {'Name':'Mohan','Age':34,'Class':12,'Address':'Noida'}"
   ]
  },
  {
   "cell_type": "code",
   "execution_count": 48,
   "id": "9a9aa9eb-1beb-43e8-b120-bc6f6be9fe29",
   "metadata": {},
   "outputs": [
    {
     "name": "stdout",
     "output_type": "stream",
     "text": [
      "{'Name': 'Mohan', 'Age': 34, 'Class': 12, 'Address': 'Noida'}\n"
     ]
    }
   ],
   "source": [
    "print(data)"
   ]
  },
  {
   "cell_type": "code",
   "execution_count": 49,
   "id": "10ae114b-243f-48e4-9985-96002b1ca77c",
   "metadata": {},
   "outputs": [],
   "source": [
    "# key: immutable: does not change\n",
    "# value: all data type"
   ]
  },
  {
   "cell_type": "code",
   "execution_count": 51,
   "id": "72064fb1-b794-414d-ad51-9f0e11bfde3d",
   "metadata": {},
   "outputs": [
    {
     "name": "stdout",
     "output_type": "stream",
     "text": [
      "{1: 'Ajay', 2.6: 'Mohan', (214, 35, 6): 'Komal', (45-8j): 'Lucky', False: False, 'Harry': 'Jai', frozenset({345, 2, 4}): 45, None: '456'}\n"
     ]
    }
   ],
   "source": [
    "data = {1:'Ajay',\n",
    "        2.6:'Mohan',\n",
    "        (214,35,6):'Komal',\n",
    "        45-8j:'Lucky',\n",
    "        False:False,\n",
    "        'Harry':'Jai',\n",
    "        frozenset((2,345,4)):45,\n",
    "        None:'456'}\n",
    "print(data)\n",
    "\n",
    "        "
   ]
  },
  {
   "cell_type": "code",
   "execution_count": 52,
   "id": "ef21f2e3-17c5-4e6a-8a22-2e7f1e694ceb",
   "metadata": {},
   "outputs": [
    {
     "ename": "TypeError",
     "evalue": "unhashable type: 'list'",
     "output_type": "error",
     "traceback": [
      "\u001b[1;31m---------------------------------------------------------------------------\u001b[0m",
      "\u001b[1;31mTypeError\u001b[0m                                 Traceback (most recent call last)",
      "Cell \u001b[1;32mIn[52], line 1\u001b[0m\n\u001b[1;32m----> 1\u001b[0m data \u001b[38;5;241m=\u001b[39m {[\u001b[38;5;241m23\u001b[39m,\u001b[38;5;241m45\u001b[39m,\u001b[38;5;241m78\u001b[39m]:\u001b[38;5;124m'\u001b[39m\u001b[38;5;124mMohan\u001b[39m\u001b[38;5;124m'\u001b[39m}\n",
      "\u001b[1;31mTypeError\u001b[0m: unhashable type: 'list'"
     ]
    }
   ],
   "source": [
    "data = {[23,45,78]:'Mohan'}"
   ]
  },
  {
   "cell_type": "code",
   "execution_count": 53,
   "id": "22116e83-747b-40ff-a08c-236b90d8a4de",
   "metadata": {},
   "outputs": [
    {
     "ename": "TypeError",
     "evalue": "unhashable type: 'set'",
     "output_type": "error",
     "traceback": [
      "\u001b[1;31m---------------------------------------------------------------------------\u001b[0m",
      "\u001b[1;31mTypeError\u001b[0m                                 Traceback (most recent call last)",
      "Cell \u001b[1;32mIn[53], line 1\u001b[0m\n\u001b[1;32m----> 1\u001b[0m data \u001b[38;5;241m=\u001b[39m {{\u001b[38;5;241m2\u001b[39m,\u001b[38;5;241m354\u001b[39m,\u001b[38;5;241m657\u001b[39m}:\u001b[38;5;124m'\u001b[39m\u001b[38;5;124mMohan\u001b[39m\u001b[38;5;124m'\u001b[39m}\n",
      "\u001b[1;31mTypeError\u001b[0m: unhashable type: 'set'"
     ]
    }
   ],
   "source": [
    "\n",
    "data = {{2,354,657}:'Mohan'}"
   ]
  },
  {
   "cell_type": "code",
   "execution_count": 54,
   "id": "cffffd08-cb69-44b0-bf43-a69d63e9aa3e",
   "metadata": {},
   "outputs": [
    {
     "ename": "TypeError",
     "evalue": "unhashable type: 'dict'",
     "output_type": "error",
     "traceback": [
      "\u001b[1;31m---------------------------------------------------------------------------\u001b[0m",
      "\u001b[1;31mTypeError\u001b[0m                                 Traceback (most recent call last)",
      "Cell \u001b[1;32mIn[54], line 1\u001b[0m\n\u001b[1;32m----> 1\u001b[0m data \u001b[38;5;241m=\u001b[39m {{\u001b[38;5;124m'\u001b[39m\u001b[38;5;124mName\u001b[39m\u001b[38;5;124m'\u001b[39m:\u001b[38;5;124m'\u001b[39m\u001b[38;5;124mAjay\u001b[39m\u001b[38;5;124m'\u001b[39m}:\u001b[38;5;124m'\u001b[39m\u001b[38;5;124mMohan\u001b[39m\u001b[38;5;124m'\u001b[39m}\n",
      "\u001b[1;31mTypeError\u001b[0m: unhashable type: 'dict'"
     ]
    }
   ],
   "source": [
    "data = {{'Name':'Ajay'}:'Mohan'}"
   ]
  },
  {
   "cell_type": "code",
   "execution_count": 55,
   "id": "6f58714d-87f8-41f3-9161-b3a558995366",
   "metadata": {},
   "outputs": [],
   "source": [
    "# list , dict , set cannot be a key , because it can be mutable(changable)"
   ]
  },
  {
   "cell_type": "code",
   "execution_count": null,
   "id": "fd53b0c9-995c-4498-9edb-18bd264b3897",
   "metadata": {},
   "outputs": [],
   "source": [
    "# value: all data type: infuture: all"
   ]
  },
  {
   "cell_type": "code",
   "execution_count": 56,
   "id": "c4aedae3-39cf-4494-89bc-7e158924464d",
   "metadata": {},
   "outputs": [
    {
     "name": "stdout",
     "output_type": "stream",
     "text": [
      "{1: [235, 456, 7, 8], 2: (2, 43, 46, 7), 3: 56.6, 4: (89-9j), 5: True, 6: {2, 3, 467}, 7: {'Name': 'Mohan'}, 8: None, 9: 'Ajay', 10: 10, 11: frozenset({2, 34, 46})}\n"
     ]
    }
   ],
   "source": [
    "\n",
    "data = {1:[235,456,7,8],\n",
    "       2:(2,43,46,7),\n",
    "       3:56.6,\n",
    "       4:89-9j,\n",
    "       5:True,\n",
    "       6:{2,3,467},\n",
    "       7:{'Name':'Mohan'},\n",
    "       8:None,\n",
    "       9:'Ajay',\n",
    "       10:10,\n",
    "       11:frozenset((2,34,46))}\n",
    "print(data)"
   ]
  },
  {
   "cell_type": "code",
   "execution_count": 57,
   "id": "084c6129-e97a-4005-9798-422896d42d77",
   "metadata": {},
   "outputs": [],
   "source": [
    "# Nested DICT\n"
   ]
  },
  {
   "cell_type": "code",
   "execution_count": 58,
   "id": "537e2a5d-f119-412b-83c8-453c7bfb91ca",
   "metadata": {},
   "outputs": [],
   "source": [
    "data = {'one':{'one':1,\"two\":2}}"
   ]
  },
  {
   "cell_type": "code",
   "execution_count": 60,
   "id": "1eea0684-186d-4cf7-a2a8-7382f9d7de4a",
   "metadata": {},
   "outputs": [
    {
     "data": {
      "text/plain": [
       "{'one': {'one': 1, 'two': 2}}"
      ]
     },
     "execution_count": 60,
     "metadata": {},
     "output_type": "execute_result"
    }
   ],
   "source": [
    "data"
   ]
  },
  {
   "cell_type": "code",
   "execution_count": 68,
   "id": "17a40223-c38a-423a-b250-d5a668f723fc",
   "metadata": {},
   "outputs": [
    {
     "name": "stdout",
     "output_type": "stream",
     "text": [
      "Requirement already satisfied: pandas in c:\\users\\saurabh\\anaconda3\\lib\\site-packages (2.2.2)\n",
      "Requirement already satisfied: numpy>=1.26.0 in c:\\users\\saurabh\\anaconda3\\lib\\site-packages (from pandas) (1.26.4)\n",
      "Requirement already satisfied: python-dateutil>=2.8.2 in c:\\users\\saurabh\\anaconda3\\lib\\site-packages (from pandas) (2.9.0.post0)\n",
      "Requirement already satisfied: pytz>=2020.1 in c:\\users\\saurabh\\anaconda3\\lib\\site-packages (from pandas) (2024.1)\n",
      "Requirement already satisfied: tzdata>=2022.7 in c:\\users\\saurabh\\anaconda3\\lib\\site-packages (from pandas) (2023.3)\n",
      "Requirement already satisfied: six>=1.5 in c:\\users\\saurabh\\anaconda3\\lib\\site-packages (from python-dateutil>=2.8.2->pandas) (1.16.0)\n"
     ]
    }
   ],
   "source": [
    "!pip install pandas"
   ]
  },
  {
   "cell_type": "code",
   "execution_count": 70,
   "id": "d14dcdb2-a0c1-4489-9413-0d7325ae8973",
   "metadata": {},
   "outputs": [],
   "source": [
    "import pandas as pd"
   ]
  },
  {
   "cell_type": "code",
   "execution_count": 72,
   "id": "224a0034-fa2f-4daf-afd5-77274c57c39f",
   "metadata": {},
   "outputs": [],
   "source": [
    "data = {'Emp_name':['Ajay','Ravi','Mohan','Karan'],\n",
    "       'Age':[34,45,43,32],\n",
    "       'Salary':[456678,56543,567898,767659],\n",
    "       'Address':['Noida']*4}"
   ]
  },
  {
   "cell_type": "code",
   "execution_count": 74,
   "id": "382a292c-bf2a-421c-8046-9e109f877689",
   "metadata": {},
   "outputs": [
    {
     "data": {
      "text/plain": [
       "{'Emp_name': ['Ajay', 'Ravi', 'Mohan', 'Karan'],\n",
       " 'Age': [34, 45, 43, 32],\n",
       " 'Salary': [456678, 56543, 567898, 767659],\n",
       " 'Address': ['Noida', 'Noida', 'Noida', 'Noida']}"
      ]
     },
     "execution_count": 74,
     "metadata": {},
     "output_type": "execute_result"
    }
   ],
   "source": [
    "data"
   ]
  },
  {
   "cell_type": "code",
   "execution_count": 76,
   "id": "224d82b7-d464-443d-b142-aae5047e0fd4",
   "metadata": {},
   "outputs": [],
   "source": [
    "table = pd.DataFrame(data)"
   ]
  },
  {
   "cell_type": "code",
   "execution_count": 77,
   "id": "35111a4b-a251-4b25-91d4-e3ec725c5c52",
   "metadata": {},
   "outputs": [
    {
     "data": {
      "text/html": [
       "<div>\n",
       "<style scoped>\n",
       "    .dataframe tbody tr th:only-of-type {\n",
       "        vertical-align: middle;\n",
       "    }\n",
       "\n",
       "    .dataframe tbody tr th {\n",
       "        vertical-align: top;\n",
       "    }\n",
       "\n",
       "    .dataframe thead th {\n",
       "        text-align: right;\n",
       "    }\n",
       "</style>\n",
       "<table border=\"1\" class=\"dataframe\">\n",
       "  <thead>\n",
       "    <tr style=\"text-align: right;\">\n",
       "      <th></th>\n",
       "      <th>Emp_name</th>\n",
       "      <th>Age</th>\n",
       "      <th>Salary</th>\n",
       "      <th>Address</th>\n",
       "    </tr>\n",
       "  </thead>\n",
       "  <tbody>\n",
       "    <tr>\n",
       "      <th>0</th>\n",
       "      <td>Ajay</td>\n",
       "      <td>34</td>\n",
       "      <td>456678</td>\n",
       "      <td>Noida</td>\n",
       "    </tr>\n",
       "    <tr>\n",
       "      <th>1</th>\n",
       "      <td>Ravi</td>\n",
       "      <td>45</td>\n",
       "      <td>56543</td>\n",
       "      <td>Noida</td>\n",
       "    </tr>\n",
       "    <tr>\n",
       "      <th>2</th>\n",
       "      <td>Mohan</td>\n",
       "      <td>43</td>\n",
       "      <td>567898</td>\n",
       "      <td>Noida</td>\n",
       "    </tr>\n",
       "    <tr>\n",
       "      <th>3</th>\n",
       "      <td>Karan</td>\n",
       "      <td>32</td>\n",
       "      <td>767659</td>\n",
       "      <td>Noida</td>\n",
       "    </tr>\n",
       "  </tbody>\n",
       "</table>\n",
       "</div>"
      ],
      "text/plain": [
       "  Emp_name  Age  Salary Address\n",
       "0     Ajay   34  456678   Noida\n",
       "1     Ravi   45   56543   Noida\n",
       "2    Mohan   43  567898   Noida\n",
       "3    Karan   32  767659   Noida"
      ]
     },
     "execution_count": 77,
     "metadata": {},
     "output_type": "execute_result"
    }
   ],
   "source": [
    "table"
   ]
  },
  {
   "cell_type": "code",
   "execution_count": 79,
   "id": "8bddb37a-5083-49ad-801b-fbdb94a749ca",
   "metadata": {},
   "outputs": [
    {
     "data": {
      "text/plain": [
       "{'Emp_name': ['Ajay', 'Ravi', 'Mohan', 'Karan'],\n",
       " 'Age': [34, 45, 43, 32],\n",
       " 'Salary': [456678, 56543, 567898, 767659],\n",
       " 'Address': ['Noida', 'Noida', 'Noida', 'Noida']}"
      ]
     },
     "execution_count": 79,
     "metadata": {},
     "output_type": "execute_result"
    }
   ],
   "source": [
    "data"
   ]
  },
  {
   "cell_type": "code",
   "execution_count": 80,
   "id": "683b5b5e-b9d5-496a-8c15-9f87ca3a9bcc",
   "metadata": {},
   "outputs": [],
   "source": [
    "# Elementd can be changed based on key"
   ]
  },
  {
   "cell_type": "code",
   "execution_count": 82,
   "id": "6d2032c4-cd77-455b-a6f0-36d5b4e8f974",
   "metadata": {},
   "outputs": [],
   "source": [
    "data['Emp_name'][2] = 'Mohan Lal Singh'\n"
   ]
  },
  {
   "cell_type": "code",
   "execution_count": 83,
   "id": "91e11654-f621-4e20-a62d-1f13fa53c759",
   "metadata": {},
   "outputs": [
    {
     "data": {
      "text/plain": [
       "{'Emp_name': ['Ajay', 'Ravi', 'Mohan Lal Singh', 'Karan'],\n",
       " 'Age': [34, 45, 43, 32],\n",
       " 'Salary': [456678, 56543, 567898, 767659],\n",
       " 'Address': ['Noida', 'Noida', 'Noida', 'Noida']}"
      ]
     },
     "execution_count": 83,
     "metadata": {},
     "output_type": "execute_result"
    }
   ],
   "source": [
    "data"
   ]
  },
  {
   "cell_type": "code",
   "execution_count": 84,
   "id": "e9963f23-94c7-4b7f-bde8-f8e4e6487812",
   "metadata": {},
   "outputs": [],
   "source": [
    "data['Address'][-1]='Greater Noida'"
   ]
  },
  {
   "cell_type": "code",
   "execution_count": 85,
   "id": "15a5a79f-ff55-4cce-9aec-3e76446e7710",
   "metadata": {},
   "outputs": [
    {
     "data": {
      "text/plain": [
       "{'Emp_name': ['Ajay', 'Ravi', 'Mohan Lal Singh', 'Karan'],\n",
       " 'Age': [34, 45, 43, 32],\n",
       " 'Salary': [456678, 56543, 567898, 767659],\n",
       " 'Address': ['Noida', 'Noida', 'Noida', 'Greater Noida']}"
      ]
     },
     "execution_count": 85,
     "metadata": {},
     "output_type": "execute_result"
    }
   ],
   "source": [
    "data"
   ]
  },
  {
   "cell_type": "code",
   "execution_count": 86,
   "id": "8f4d4c8e-8e93-4aec-a30f-eda0a24d03ec",
   "metadata": {},
   "outputs": [],
   "source": [
    "\n",
    "car_collections = {'Kia':456789,'Audi':567896}"
   ]
  },
  {
   "cell_type": "code",
   "execution_count": 87,
   "id": "0feae723-780f-4444-a6ba-595d6b9c2ce3",
   "metadata": {},
   "outputs": [
    {
     "data": {
      "text/plain": [
       "{'Kia': 456789, 'Audi': 567896}"
      ]
     },
     "execution_count": 87,
     "metadata": {},
     "output_type": "execute_result"
    }
   ],
   "source": [
    "car_collections"
   ]
  },
  {
   "cell_type": "code",
   "execution_count": 88,
   "id": "cf695f78-dac7-46b4-8694-dcbcade0f9cd",
   "metadata": {},
   "outputs": [],
   "source": [
    "car_collections['Maruti']=456789"
   ]
  },
  {
   "cell_type": "code",
   "execution_count": 90,
   "id": "e50f9139-57d6-41bb-b543-bce976f6331c",
   "metadata": {},
   "outputs": [
    {
     "data": {
      "text/plain": [
       "{'Kia': 456789, 'Audi': 567896, 'Maruti': 456789}"
      ]
     },
     "execution_count": 90,
     "metadata": {},
     "output_type": "execute_result"
    }
   ],
   "source": [
    "car_collections"
   ]
  },
  {
   "cell_type": "code",
   "execution_count": 91,
   "id": "42c18a87-b390-4302-8934-4d89f11024fd",
   "metadata": {},
   "outputs": [],
   "source": [
    "\n",
    "car_collections['Bmw'] = 34567890"
   ]
  },
  {
   "cell_type": "code",
   "execution_count": 92,
   "id": "ca24f71b-1c70-452f-971e-2ab4f28cf1b8",
   "metadata": {},
   "outputs": [
    {
     "data": {
      "text/plain": [
       "{'Kia': 456789, 'Audi': 567896, 'Maruti': 456789, 'Bmw': 34567890}"
      ]
     },
     "execution_count": 92,
     "metadata": {},
     "output_type": "execute_result"
    }
   ],
   "source": [
    "car_collections"
   ]
  },
  {
   "cell_type": "code",
   "execution_count": 94,
   "id": "75584d12-3037-4816-b506-b57928ff5348",
   "metadata": {},
   "outputs": [],
   "source": [
    "car_collections['Kia']=159263847\n",
    "#if key already exists , then it can not create va"
   ]
  },
  {
   "cell_type": "code",
   "execution_count": 95,
   "id": "ff0f87e5-a741-47b0-ade3-ce23f7f3d0aa",
   "metadata": {},
   "outputs": [
    {
     "data": {
      "text/plain": [
       "{'Kia': 159263847, 'Audi': 567896, 'Maruti': 456789, 'Bmw': 34567890}"
      ]
     },
     "execution_count": 95,
     "metadata": {},
     "output_type": "execute_result"
    }
   ],
   "source": [
    "car_collections"
   ]
  },
  {
   "cell_type": "code",
   "execution_count": 96,
   "id": "d5ec9f02-a6e1-4adc-8f22-0e3f555c4ffc",
   "metadata": {},
   "outputs": [],
   "source": [
    "car = {'kia':456789,'Audi':45678,'Maruti':567890,'kia':4567,'Maruti':6789,'Kia':765}"
   ]
  },
  {
   "cell_type": "code",
   "execution_count": 97,
   "id": "d7d25137-3df9-4f29-970a-0280090057f1",
   "metadata": {},
   "outputs": [
    {
     "data": {
      "text/plain": [
       "{'kia': 4567, 'Audi': 45678, 'Maruti': 6789, 'Kia': 765}"
      ]
     },
     "execution_count": 97,
     "metadata": {},
     "output_type": "execute_result"
    }
   ],
   "source": [
    "car"
   ]
  },
  {
   "cell_type": "code",
   "execution_count": 104,
   "id": "fd53b917-b371-4d7f-9574-dffb8b7944a6",
   "metadata": {},
   "outputs": [],
   "source": [
    "banks_quiz = {'Delhi':{'Banks':[{'SBI':[[1200],[1500]],\"PNB\":[[345],[567],[678]]}],\"RBI_Bank\":{\"Locker1\":[1234]}}}"
   ]
  },
  {
   "cell_type": "code",
   "execution_count": 105,
   "id": "73ff062f-adc7-4608-babb-15c20d48f03c",
   "metadata": {},
   "outputs": [
    {
     "data": {
      "text/plain": [
       "{'Delhi': {'Banks': [{'SBI': [[1200], [1500]], 'PNB': [[345], [567], [678]]}],\n",
       "  'RBI_Bank': {'Locker1': [1234]}}}"
      ]
     },
     "execution_count": 105,
     "metadata": {},
     "output_type": "execute_result"
    }
   ],
   "source": [
    "banks_quiz"
   ]
  },
  {
   "cell_type": "code",
   "execution_count": 106,
   "id": "0e604d78-ebfc-4b8d-b150-481bb71251fa",
   "metadata": {},
   "outputs": [
    {
     "data": {
      "text/plain": [
       "{'Banks': [{'SBI': [[1200], [1500]], 'PNB': [[345], [567], [678]]}],\n",
       " 'RBI_Bank': {'Locker1': [1234]}}"
      ]
     },
     "execution_count": 106,
     "metadata": {},
     "output_type": "execute_result"
    }
   ],
   "source": [
    "banks_quiz['Delhi']"
   ]
  },
  {
   "cell_type": "code",
   "execution_count": 112,
   "id": "6c66a0e3-6fb2-49fc-aaf9-62fc166ea919",
   "metadata": {},
   "outputs": [],
   "source": [
    "banks_quiz['Delhi']['Banks'][0]['PNB'][-1][0]=0"
   ]
  },
  {
   "cell_type": "code",
   "execution_count": 113,
   "id": "665205f8-b35f-4398-b7cb-88966b4e7c17",
   "metadata": {},
   "outputs": [
    {
     "data": {
      "text/plain": [
       "{'Delhi': {'Banks': [{'SBI': [[1200], [1500]], 'PNB': [[345], [567], [0]]}],\n",
       "  'RBI_Bank': {'Locker1': [1234]}}}"
      ]
     },
     "execution_count": 113,
     "metadata": {},
     "output_type": "execute_result"
    }
   ],
   "source": [
    "banks_quiz"
   ]
  },
  {
   "cell_type": "code",
   "execution_count": 115,
   "id": "a88fac02-4f7d-4355-b3e9-c2dc8f4293ee",
   "metadata": {},
   "outputs": [],
   "source": [
    " ans = banks_quiz['Delhi']['RBI_Bank'][\"Locker1\"][0]"
   ]
  },
  {
   "cell_type": "code",
   "execution_count": 118,
   "id": "c72b15bd-033d-43d7-89fe-73f7c60957a3",
   "metadata": {},
   "outputs": [],
   "source": [
    "banks_quiz['Delhi']['Banks'][0]['SBI'].append([ans])"
   ]
  },
  {
   "cell_type": "code",
   "execution_count": 119,
   "id": "65460ea3-4cb2-44d9-99d0-1fcc34e516dd",
   "metadata": {},
   "outputs": [
    {
     "data": {
      "text/plain": [
       "{'Delhi': {'Banks': [{'SBI': [[1200], [1500], [1234]],\n",
       "    'PNB': [[345], [567], [0]]}],\n",
       "  'RBI_Bank': {'Locker1': [1234]}}}"
      ]
     },
     "execution_count": 119,
     "metadata": {},
     "output_type": "execute_result"
    }
   ],
   "source": [
    "banks_quiz"
   ]
  },
  {
   "cell_type": "code",
   "execution_count": null,
   "id": "d22eea65-76f0-49c9-bb2e-3c45a0787df2",
   "metadata": {},
   "outputs": [],
   "source": []
  },
  {
   "cell_type": "code",
   "execution_count": 120,
   "id": "b489a067-df8c-4341-9973-bf5c37a576d2",
   "metadata": {},
   "outputs": [
    {
     "data": {
      "text/plain": [
       "{'Kia': 159263847, 'Audi': 567896, 'Maruti': 456789, 'Bmw': 34567890}"
      ]
     },
     "execution_count": 120,
     "metadata": {},
     "output_type": "execute_result"
    }
   ],
   "source": [
    "car_collections"
   ]
  },
  {
   "cell_type": "code",
   "execution_count": 121,
   "id": "85012196-a71e-496a-9f3c-e337e8fb9738",
   "metadata": {},
   "outputs": [
    {
     "data": {
      "text/plain": [
       "4"
      ]
     },
     "execution_count": 121,
     "metadata": {},
     "output_type": "execute_result"
    }
   ],
   "source": [
    "len(car_collections)"
   ]
  },
  {
   "cell_type": "code",
   "execution_count": 122,
   "id": "1d5dbf22-0a32-4bdc-950a-915a34ea2517",
   "metadata": {},
   "outputs": [
    {
     "data": {
      "text/plain": [
       "['Kia', 'Audi', 'Maruti', 'Bmw']"
      ]
     },
     "execution_count": 122,
     "metadata": {},
     "output_type": "execute_result"
    }
   ],
   "source": [
    "list(car_collections)"
   ]
  },
  {
   "cell_type": "code",
   "execution_count": 123,
   "id": "f0d9b88f-8921-405d-8b2c-d03498c36b0d",
   "metadata": {},
   "outputs": [
    {
     "data": {
      "text/plain": [
       "{'Kia': 159263847, 'Audi': 567896, 'Maruti': 456789, 'Bmw': 34567890}"
      ]
     },
     "execution_count": 123,
     "metadata": {},
     "output_type": "execute_result"
    }
   ],
   "source": [
    "car_collections"
   ]
  },
  {
   "cell_type": "code",
   "execution_count": 124,
   "id": "6a23aede-1dc7-410d-8676-ee0e798626c6",
   "metadata": {},
   "outputs": [],
   "source": [
    "a = {'Name':'Mohan'}\n",
    "b = {'class':23}"
   ]
  },
  {
   "cell_type": "code",
   "execution_count": 125,
   "id": "6548697a-98d1-4df6-8222-d7997fa55fb6",
   "metadata": {},
   "outputs": [
    {
     "ename": "TypeError",
     "evalue": "unsupported operand type(s) for +: 'dict' and 'dict'",
     "output_type": "error",
     "traceback": [
      "\u001b[1;31m---------------------------------------------------------------------------\u001b[0m",
      "\u001b[1;31mTypeError\u001b[0m                                 Traceback (most recent call last)",
      "Cell \u001b[1;32mIn[125], line 1\u001b[0m\n\u001b[1;32m----> 1\u001b[0m a \u001b[38;5;241m+\u001b[39m b\n",
      "\u001b[1;31mTypeError\u001b[0m: unsupported operand type(s) for +: 'dict' and 'dict'"
     ]
    }
   ],
   "source": [
    "a + b"
   ]
  },
  {
   "cell_type": "code",
   "execution_count": 126,
   "id": "f4f2db72-b8f4-4f96-91a6-3cabda0ad7a6",
   "metadata": {},
   "outputs": [
    {
     "ename": "TypeError",
     "evalue": "unsupported operand type(s) for *: 'dict' and 'int'",
     "output_type": "error",
     "traceback": [
      "\u001b[1;31m---------------------------------------------------------------------------\u001b[0m",
      "\u001b[1;31mTypeError\u001b[0m                                 Traceback (most recent call last)",
      "Cell \u001b[1;32mIn[126], line 1\u001b[0m\n\u001b[1;32m----> 1\u001b[0m a \u001b[38;5;241m*\u001b[39m \u001b[38;5;241m3\u001b[39m\n",
      "\u001b[1;31mTypeError\u001b[0m: unsupported operand type(s) for *: 'dict' and 'int'"
     ]
    }
   ],
   "source": [
    "a * 3"
   ]
  },
  {
   "cell_type": "code",
   "execution_count": 127,
   "id": "884dbd4e-2d2a-4376-b2be-0909f8ac9b36",
   "metadata": {},
   "outputs": [],
   "source": [
    "car_collections.clear()"
   ]
  },
  {
   "cell_type": "code",
   "execution_count": 128,
   "id": "88f7157a-41f4-4132-a285-1c68c8f26076",
   "metadata": {},
   "outputs": [
    {
     "data": {
      "text/plain": [
       "{}"
      ]
     },
     "execution_count": 128,
     "metadata": {},
     "output_type": "execute_result"
    }
   ],
   "source": [
    "car_collections"
   ]
  },
  {
   "cell_type": "code",
   "execution_count": 129,
   "id": "caa2bf15-70c8-4221-bcd4-8f69122a849d",
   "metadata": {},
   "outputs": [
    {
     "name": "stdout",
     "output_type": "stream",
     "text": [
      "{}\n"
     ]
    }
   ],
   "source": [
    "empty = {}\n",
    "print(empty)"
   ]
  },
  {
   "cell_type": "code",
   "execution_count": 130,
   "id": "d421e289-bb02-408e-908e-a532b10e8cae",
   "metadata": {},
   "outputs": [
    {
     "data": {
      "text/plain": [
       "dict"
      ]
     },
     "execution_count": 130,
     "metadata": {},
     "output_type": "execute_result"
    }
   ],
   "source": [
    "type(empty)"
   ]
  },
  {
   "cell_type": "code",
   "execution_count": 131,
   "id": "c8dcc731-e6aa-48d6-8312-03debd3e5cc8",
   "metadata": {},
   "outputs": [],
   "source": [
    "#tuple"
   ]
  },
  {
   "cell_type": "code",
   "execution_count": 132,
   "id": "52859039-5f09-41f3-86e6-5e63ff45506c",
   "metadata": {},
   "outputs": [
    {
     "name": "stdout",
     "output_type": "stream",
     "text": [
      "45 <class 'int'>\n"
     ]
    }
   ],
   "source": [
    "a =(45)\n",
    "\n",
    "print(a,type(a))"
   ]
  },
  {
   "cell_type": "code",
   "execution_count": 133,
   "id": "97a17832-9257-4936-9f17-a7673722a58d",
   "metadata": {},
   "outputs": [
    {
     "name": "stdout",
     "output_type": "stream",
     "text": [
      "(45,) <class 'tuple'>\n"
     ]
    }
   ],
   "source": [
    "a = (45,)\n",
    "print(a,type(a))"
   ]
  },
  {
   "cell_type": "code",
   "execution_count": 134,
   "id": "00d1f6e7-36c8-426e-846a-e0f2107b4988",
   "metadata": {},
   "outputs": [
    {
     "ename": "SyntaxError",
     "evalue": "invalid syntax (1271987208.py, line 1)",
     "output_type": "error",
     "traceback": [
      "\u001b[1;36m  Cell \u001b[1;32mIn[134], line 1\u001b[1;36m\u001b[0m\n\u001b[1;33m    empty = {,}\u001b[0m\n\u001b[1;37m             ^\u001b[0m\n\u001b[1;31mSyntaxError\u001b[0m\u001b[1;31m:\u001b[0m invalid syntax\n"
     ]
    }
   ],
   "source": [
    "empty = {,}\n",
    "\n",
    "print(empty,type(empty))"
   ]
  },
  {
   "cell_type": "code",
   "execution_count": 135,
   "id": "8a0234bd-0dd5-482b-9606-ca9e744001da",
   "metadata": {},
   "outputs": [],
   "source": [
    "a = set()"
   ]
  },
  {
   "cell_type": "code",
   "execution_count": 136,
   "id": "9f1faec6-ea50-476d-ade4-d7ccc586d8bb",
   "metadata": {},
   "outputs": [
    {
     "name": "stdout",
     "output_type": "stream",
     "text": [
      "<class 'set'>\n"
     ]
    }
   ],
   "source": [
    "print(type(a))"
   ]
  },
  {
   "cell_type": "code",
   "execution_count": 137,
   "id": "cdec8222-1402-4f7d-b1c3-6f6b393d6f64",
   "metadata": {},
   "outputs": [
    {
     "data": {
      "text/plain": [
       "set()"
      ]
     },
     "execution_count": 137,
     "metadata": {},
     "output_type": "execute_result"
    }
   ],
   "source": [
    "a\n"
   ]
  },
  {
   "cell_type": "code",
   "execution_count": 138,
   "id": "5ba63696-52ab-462b-8ee4-6e8dbfa70f14",
   "metadata": {},
   "outputs": [],
   "source": [
    "a = {'Ajay':500}\n",
    "b = a"
   ]
  },
  {
   "cell_type": "code",
   "execution_count": 139,
   "id": "57ef861c-be0e-4f94-8b1b-c2ed74451d63",
   "metadata": {},
   "outputs": [
    {
     "data": {
      "text/plain": [
       "{'Ajay': 500}"
      ]
     },
     "execution_count": 139,
     "metadata": {},
     "output_type": "execute_result"
    }
   ],
   "source": [
    "b\n"
   ]
  },
  {
   "cell_type": "code",
   "execution_count": 140,
   "id": "fc88c321-abcd-4f1a-9761-4e4e8cc95320",
   "metadata": {},
   "outputs": [],
   "source": [
    "b['Ajay'] = 700"
   ]
  },
  {
   "cell_type": "code",
   "execution_count": 141,
   "id": "51cf0bb4-70c4-4d6d-a982-f16195f78bf4",
   "metadata": {},
   "outputs": [
    {
     "data": {
      "text/plain": [
       "{'Ajay': 700}"
      ]
     },
     "execution_count": 141,
     "metadata": {},
     "output_type": "execute_result"
    }
   ],
   "source": [
    "b\n"
   ]
  },
  {
   "cell_type": "code",
   "execution_count": 142,
   "id": "8a22dbdb-d860-42b9-baa6-60958764f851",
   "metadata": {},
   "outputs": [
    {
     "data": {
      "text/plain": [
       "{'Ajay': 700}"
      ]
     },
     "execution_count": 142,
     "metadata": {},
     "output_type": "execute_result"
    }
   ],
   "source": [
    "a"
   ]
  },
  {
   "cell_type": "code",
   "execution_count": 143,
   "id": "6f5a98fa-cced-443e-9e18-d09e78c21a25",
   "metadata": {},
   "outputs": [],
   "source": [
    "a = {'Ajay':500}\n",
    "b = a.copy()"
   ]
  },
  {
   "cell_type": "code",
   "execution_count": 144,
   "id": "60be6446-d32e-4dff-aa17-6868924d734c",
   "metadata": {},
   "outputs": [],
   "source": [
    "a['Ajay'] = 1000"
   ]
  },
  {
   "cell_type": "code",
   "execution_count": 145,
   "id": "0daf2779-71d3-4b7d-a55f-2a5b9a438f89",
   "metadata": {},
   "outputs": [
    {
     "data": {
      "text/plain": [
       "{'Ajay': 1000}"
      ]
     },
     "execution_count": 145,
     "metadata": {},
     "output_type": "execute_result"
    }
   ],
   "source": [
    "a"
   ]
  },
  {
   "cell_type": "code",
   "execution_count": 146,
   "id": "08279f7d-b5d3-447f-9a39-2a0fa607bc52",
   "metadata": {},
   "outputs": [
    {
     "data": {
      "text/plain": [
       "{'Ajay': 500}"
      ]
     },
     "execution_count": 146,
     "metadata": {},
     "output_type": "execute_result"
    }
   ],
   "source": [
    "b"
   ]
  },
  {
   "cell_type": "code",
   "execution_count": 147,
   "id": "160f0505-a616-43d5-89c9-a36393e36bed",
   "metadata": {},
   "outputs": [],
   "source": [
    "data = ['Aman','Ravi','Mohan','Jatin']"
   ]
  },
  {
   "cell_type": "code",
   "execution_count": 148,
   "id": "e2aca564-2898-428e-a8b7-87f7ef158742",
   "metadata": {},
   "outputs": [],
   "source": [
    "empty = {}"
   ]
  },
  {
   "cell_type": "code",
   "execution_count": 149,
   "id": "5eb43be7-0d63-4d69-8573-35798a7b9a44",
   "metadata": {},
   "outputs": [],
   "source": [
    "a = empty.fromkeys(data)"
   ]
  },
  {
   "cell_type": "code",
   "execution_count": 150,
   "id": "45e69c2a-e804-4654-a7f9-2093f68b6f83",
   "metadata": {},
   "outputs": [],
   "source": [
    "a['Jatin'] = 500"
   ]
  },
  {
   "cell_type": "code",
   "execution_count": 151,
   "id": "7c924a2c-0292-416f-8f80-fe89b3543ab0",
   "metadata": {},
   "outputs": [
    {
     "data": {
      "text/plain": [
       "{'Aman': None, 'Ravi': None, 'Mohan': None, 'Jatin': 500}"
      ]
     },
     "execution_count": 151,
     "metadata": {},
     "output_type": "execute_result"
    }
   ],
   "source": [
    "a\n"
   ]
  },
  {
   "cell_type": "code",
   "execution_count": 152,
   "id": "049b162e-075a-40b9-987c-e7d25df6dfa4",
   "metadata": {},
   "outputs": [
    {
     "data": {
      "text/plain": [
       "{'kia': 4567, 'Audi': 45678, 'Maruti': 6789, 'Kia': 765}"
      ]
     },
     "execution_count": 152,
     "metadata": {},
     "output_type": "execute_result"
    }
   ],
   "source": [
    "car"
   ]
  },
  {
   "cell_type": "code",
   "execution_count": 153,
   "id": "ae89434b-dc95-4ca8-b310-122001116774",
   "metadata": {},
   "outputs": [],
   "source": [
    "car['Maruti'] = 8"
   ]
  },
  {
   "cell_type": "code",
   "execution_count": 154,
   "id": "d337bc25-6ba3-49c4-97bc-d72ef130a4d1",
   "metadata": {},
   "outputs": [
    {
     "data": {
      "text/plain": [
       "{'kia': 4567, 'Audi': 45678, 'Maruti': 8, 'Kia': 765}"
      ]
     },
     "execution_count": 154,
     "metadata": {},
     "output_type": "execute_result"
    }
   ],
   "source": [
    "car"
   ]
  },
  {
   "cell_type": "code",
   "execution_count": 155,
   "id": "8611295f-8324-4989-9a95-07aee873de5a",
   "metadata": {},
   "outputs": [
    {
     "data": {
      "text/plain": [
       "765"
      ]
     },
     "execution_count": 155,
     "metadata": {},
     "output_type": "execute_result"
    }
   ],
   "source": [
    "car.get('Kia')"
   ]
  },
  {
   "cell_type": "code",
   "execution_count": 156,
   "id": "f5dff68a-2e1d-47e3-a735-a1503676b807",
   "metadata": {},
   "outputs": [
    {
     "ename": "SyntaxError",
     "evalue": "cannot assign to function call here. Maybe you meant '==' instead of '='? (1613184576.py, line 1)",
     "output_type": "error",
     "traceback": [
      "\u001b[1;36m  Cell \u001b[1;32mIn[156], line 1\u001b[1;36m\u001b[0m\n\u001b[1;33m    car.get('Kia') = 567\u001b[0m\n\u001b[1;37m    ^\u001b[0m\n\u001b[1;31mSyntaxError\u001b[0m\u001b[1;31m:\u001b[0m cannot assign to function call here. Maybe you meant '==' instead of '='?\n"
     ]
    }
   ],
   "source": [
    "car.get('Kia') = 567"
   ]
  },
  {
   "cell_type": "code",
   "execution_count": 157,
   "id": "24f2e9f1-aec1-42d6-b947-f4f984842d33",
   "metadata": {},
   "outputs": [
    {
     "data": {
      "text/plain": [
       "{'kia': 4567, 'Audi': 45678, 'Maruti': 8, 'Kia': 765}"
      ]
     },
     "execution_count": 157,
     "metadata": {},
     "output_type": "execute_result"
    }
   ],
   "source": [
    "car"
   ]
  },
  {
   "cell_type": "code",
   "execution_count": 158,
   "id": "7372e423-61b1-4f11-b2da-f2c16944a8c1",
   "metadata": {},
   "outputs": [
    {
     "data": {
      "text/plain": [
       "dict_keys(['kia', 'Audi', 'Maruti', 'Kia'])"
      ]
     },
     "execution_count": 158,
     "metadata": {},
     "output_type": "execute_result"
    }
   ],
   "source": [
    "car.keys()"
   ]
  },
  {
   "cell_type": "code",
   "execution_count": 159,
   "id": "21f3c98f-2aac-450b-9001-1444d97d4e8d",
   "metadata": {},
   "outputs": [
    {
     "data": {
      "text/plain": [
       "dict_values([4567, 45678, 8, 765])"
      ]
     },
     "execution_count": 159,
     "metadata": {},
     "output_type": "execute_result"
    }
   ],
   "source": [
    "car.values()\n"
   ]
  },
  {
   "cell_type": "code",
   "execution_count": 160,
   "id": "a6b86616-bcb3-4b51-8696-24cbf70fc0f1",
   "metadata": {},
   "outputs": [
    {
     "data": {
      "text/plain": [
       "dict_items([('kia', 4567), ('Audi', 45678), ('Maruti', 8), ('Kia', 765)])"
      ]
     },
     "execution_count": 160,
     "metadata": {},
     "output_type": "execute_result"
    }
   ],
   "source": [
    "car.items()"
   ]
  },
  {
   "cell_type": "code",
   "execution_count": 161,
   "id": "522408f6-f1b8-4241-93f5-58d17504ba45",
   "metadata": {},
   "outputs": [
    {
     "data": {
      "text/plain": [
       "['kia', 'Audi', 'Maruti', 'Kia']"
      ]
     },
     "execution_count": 161,
     "metadata": {},
     "output_type": "execute_result"
    }
   ],
   "source": [
    "list(car)"
   ]
  },
  {
   "cell_type": "code",
   "execution_count": 162,
   "id": "45cbef2c-3020-48f7-807e-abccf617090f",
   "metadata": {},
   "outputs": [
    {
     "data": {
      "text/plain": [
       "('kia', 'Audi', 'Maruti', 'Kia')"
      ]
     },
     "execution_count": 162,
     "metadata": {},
     "output_type": "execute_result"
    }
   ],
   "source": [
    "tuple(car)"
   ]
  },
  {
   "cell_type": "code",
   "execution_count": 163,
   "id": "d07e48e5-9d48-4d6c-a094-4ef7fb9ed9ca",
   "metadata": {},
   "outputs": [
    {
     "data": {
      "text/plain": [
       "{'kia': 4567, 'Audi': 45678, 'Maruti': 8, 'Kia': 765}"
      ]
     },
     "execution_count": 163,
     "metadata": {},
     "output_type": "execute_result"
    }
   ],
   "source": [
    "car"
   ]
  },
  {
   "cell_type": "code",
   "execution_count": 164,
   "id": "52b0f0b2-11d3-443f-9a80-58b5984933b9",
   "metadata": {},
   "outputs": [
    {
     "data": {
      "text/plain": [
       "8"
      ]
     },
     "execution_count": 164,
     "metadata": {},
     "output_type": "execute_result"
    }
   ],
   "source": [
    "car.pop('Maruti')"
   ]
  },
  {
   "cell_type": "code",
   "execution_count": 165,
   "id": "823f3676-10ba-417a-ab10-53472e558ede",
   "metadata": {},
   "outputs": [
    {
     "data": {
      "text/plain": [
       "{'kia': 4567, 'Audi': 45678, 'Kia': 765}"
      ]
     },
     "execution_count": 165,
     "metadata": {},
     "output_type": "execute_result"
    }
   ],
   "source": [
    "car"
   ]
  },
  {
   "cell_type": "code",
   "execution_count": 166,
   "id": "8a166b1a-9346-43d4-83f8-06d53e8ee55c",
   "metadata": {},
   "outputs": [],
   "source": [
    "del car['Audi']"
   ]
  },
  {
   "cell_type": "code",
   "execution_count": 167,
   "id": "829dc9c4-4867-4846-80f8-ac073a9d31c9",
   "metadata": {},
   "outputs": [
    {
     "data": {
      "text/plain": [
       "{'kia': 4567, 'Kia': 765}"
      ]
     },
     "execution_count": 167,
     "metadata": {},
     "output_type": "execute_result"
    }
   ],
   "source": [
    "car"
   ]
  },
  {
   "cell_type": "code",
   "execution_count": 168,
   "id": "8e4372c0-bcc1-46d1-a9d2-8c7bd775f981",
   "metadata": {},
   "outputs": [
    {
     "data": {
      "text/plain": [
       "('Kia', 765)"
      ]
     },
     "execution_count": 168,
     "metadata": {},
     "output_type": "execute_result"
    }
   ],
   "source": [
    "car.popitem()"
   ]
  },
  {
   "cell_type": "code",
   "execution_count": 169,
   "id": "c821acf8-15ca-4157-8c23-c91ef3d91e80",
   "metadata": {},
   "outputs": [
    {
     "data": {
      "text/plain": [
       "{'kia': 4567}"
      ]
     },
     "execution_count": 169,
     "metadata": {},
     "output_type": "execute_result"
    }
   ],
   "source": [
    "car"
   ]
  },
  {
   "cell_type": "code",
   "execution_count": 170,
   "id": "5b5068d6-ae0d-4431-871b-8e3232b8e04c",
   "metadata": {},
   "outputs": [
    {
     "data": {
      "text/plain": [
       "{'Aman': None, 'Ravi': None, 'Mohan': None, 'Jatin': 500}"
      ]
     },
     "execution_count": 170,
     "metadata": {},
     "output_type": "execute_result"
    }
   ],
   "source": [
    "a"
   ]
  },
  {
   "cell_type": "code",
   "execution_count": 171,
   "id": "dc8adf53-2d24-49bd-9c79-b809466c6111",
   "metadata": {},
   "outputs": [
    {
     "data": {
      "text/plain": [
       "('Jatin', 500)"
      ]
     },
     "execution_count": 171,
     "metadata": {},
     "output_type": "execute_result"
    }
   ],
   "source": [
    "a.popitem()"
   ]
  },
  {
   "cell_type": "code",
   "execution_count": 172,
   "id": "8e02d11f-dd09-4eaa-9e89-a4e368729344",
   "metadata": {},
   "outputs": [
    {
     "data": {
      "text/plain": [
       "{'Aman': None, 'Ravi': None, 'Mohan': None}"
      ]
     },
     "execution_count": 172,
     "metadata": {},
     "output_type": "execute_result"
    }
   ],
   "source": [
    "a"
   ]
  },
  {
   "cell_type": "code",
   "execution_count": 173,
   "id": "029972ec-c35f-4bc9-a728-380e2d556349",
   "metadata": {},
   "outputs": [],
   "source": [
    "a.update({'Aman':45})"
   ]
  },
  {
   "cell_type": "code",
   "execution_count": 174,
   "id": "9473a1dd-2052-4f9e-b987-6ad1318d0c01",
   "metadata": {},
   "outputs": [
    {
     "data": {
      "text/plain": [
       "{'Aman': 45, 'Ravi': None, 'Mohan': None}"
      ]
     },
     "execution_count": 174,
     "metadata": {},
     "output_type": "execute_result"
    }
   ],
   "source": [
    "a"
   ]
  },
  {
   "cell_type": "code",
   "execution_count": 175,
   "id": "652aa250-9928-4197-b425-802f184ce409",
   "metadata": {},
   "outputs": [],
   "source": [
    "a['Ravi'] = 560"
   ]
  },
  {
   "cell_type": "code",
   "execution_count": 176,
   "id": "31a8426e-c909-4ca8-b2c2-296372bed8a9",
   "metadata": {},
   "outputs": [
    {
     "data": {
      "text/plain": [
       "{'Aman': 45, 'Ravi': 560, 'Mohan': None}"
      ]
     },
     "execution_count": 176,
     "metadata": {},
     "output_type": "execute_result"
    }
   ],
   "source": [
    "a"
   ]
  },
  {
   "cell_type": "code",
   "execution_count": 178,
   "id": "038ee700-8a18-4a90-aa19-8518032da84f",
   "metadata": {},
   "outputs": [],
   "source": [
    "a.update({'Aman': 100, 'Ravi': 200, 'Mohan': 300})"
   ]
  },
  {
   "cell_type": "code",
   "execution_count": 179,
   "id": "606f291a-b825-4d04-b086-c1d2409564d8",
   "metadata": {},
   "outputs": [
    {
     "data": {
      "text/plain": [
       "{'Aman': 100, 'Ravi': 200, 'Mohan': 300}"
      ]
     },
     "execution_count": 179,
     "metadata": {},
     "output_type": "execute_result"
    }
   ],
   "source": [
    "a"
   ]
  },
  {
   "cell_type": "code",
   "execution_count": 181,
   "id": "43794c02-6ebc-4496-b17b-af8a1f73321b",
   "metadata": {},
   "outputs": [],
   "source": [
    "a.update({'Jatin':550})"
   ]
  },
  {
   "cell_type": "code",
   "execution_count": 182,
   "id": "be2eb9be-7a3e-4fd7-a876-d5e679784df8",
   "metadata": {},
   "outputs": [
    {
     "data": {
      "text/plain": [
       "{'Aman': 100, 'Ravi': 200, 'Mohan': 300, 'Jatin': 550}"
      ]
     },
     "execution_count": 182,
     "metadata": {},
     "output_type": "execute_result"
    }
   ],
   "source": [
    "a"
   ]
  },
  {
   "cell_type": "code",
   "execution_count": 183,
   "id": "c3244f4f-95a0-4c1a-8b15-d4f4f4aa6765",
   "metadata": {},
   "outputs": [],
   "source": [
    "\n",
    "a.update({'Jatin':250})"
   ]
  },
  {
   "cell_type": "code",
   "execution_count": 184,
   "id": "3ffe17d8-c606-4a8a-93a7-76ab925e6f32",
   "metadata": {},
   "outputs": [
    {
     "data": {
      "text/plain": [
       "{'Aman': 100, 'Ravi': 200, 'Mohan': 300, 'Jatin': 250}"
      ]
     },
     "execution_count": 184,
     "metadata": {},
     "output_type": "execute_result"
    }
   ],
   "source": [
    "a"
   ]
  },
  {
   "cell_type": "code",
   "execution_count": 189,
   "id": "be5d6e22-8c79-4da5-81c7-8eb8f3540b24",
   "metadata": {},
   "outputs": [],
   "source": [
    "\n",
    "a.setdefault(('Mohan',500))"
   ]
  },
  {
   "cell_type": "code",
   "execution_count": 190,
   "id": "8e1f7d92-42d7-4dba-a470-e4e925809fff",
   "metadata": {},
   "outputs": [
    {
     "data": {
      "text/plain": [
       "{'Aman': 100,\n",
       " 'Ravi': 200,\n",
       " 'Mohan': 300,\n",
       " 'Jatin': 250,\n",
       " 'lucky': 550,\n",
       " ('Mohan', 500): None}"
      ]
     },
     "execution_count": 190,
     "metadata": {},
     "output_type": "execute_result"
    }
   ],
   "source": [
    "a"
   ]
  },
  {
   "cell_type": "code",
   "execution_count": 191,
   "id": "0def33a0-0923-4fe4-816b-f8796c3ffd16",
   "metadata": {},
   "outputs": [
    {
     "data": {
      "text/plain": [
       "550"
      ]
     },
     "execution_count": 191,
     "metadata": {},
     "output_type": "execute_result"
    }
   ],
   "source": [
    "\n",
    "a.setdefault('lucky',550)"
   ]
  },
  {
   "cell_type": "code",
   "execution_count": 192,
   "id": "776455c0-fbb8-49aa-b359-3bec9301fca6",
   "metadata": {},
   "outputs": [
    {
     "data": {
      "text/plain": [
       "{'Aman': 100,\n",
       " 'Ravi': 200,\n",
       " 'Mohan': 300,\n",
       " 'Jatin': 250,\n",
       " 'lucky': 550,\n",
       " ('Mohan', 500): None}"
      ]
     },
     "execution_count": 192,
     "metadata": {},
     "output_type": "execute_result"
    }
   ],
   "source": [
    "a"
   ]
  },
  {
   "cell_type": "code",
   "execution_count": 193,
   "id": "5209cf05-8cb9-42af-b662-98166bd369f7",
   "metadata": {},
   "outputs": [
    {
     "data": {
      "text/plain": [
       "dict_values([100, 200, 300, 250, 550, None])"
      ]
     },
     "execution_count": 193,
     "metadata": {},
     "output_type": "execute_result"
    }
   ],
   "source": [
    "a.values()"
   ]
  },
  {
   "cell_type": "code",
   "execution_count": null,
   "id": "83aa334c-917c-4896-90d6-567cde691b48",
   "metadata": {},
   "outputs": [],
   "source": []
  }
 ],
 "metadata": {
  "kernelspec": {
   "display_name": "Python [conda env:base] *",
   "language": "python",
   "name": "conda-base-py"
  },
  "language_info": {
   "codemirror_mode": {
    "name": "ipython",
    "version": 3
   },
   "file_extension": ".py",
   "mimetype": "text/x-python",
   "name": "python",
   "nbconvert_exporter": "python",
   "pygments_lexer": "ipython3",
   "version": "3.12.7"
  }
 },
 "nbformat": 4,
 "nbformat_minor": 5
}
