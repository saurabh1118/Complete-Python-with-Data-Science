{
 "cells": [
  {
   "cell_type": "markdown",
   "id": "4aab0880-88a8-474f-8d00-c396355127a7",
   "metadata": {},
   "source": [
    "# Nested Function()"
   ]
  },
  {
   "cell_type": "code",
   "execution_count": 1,
   "id": "9cabd020-1a10-4e91-a5b6-27e74de2926c",
   "metadata": {},
   "outputs": [],
   "source": [
    "#Function inside Function"
   ]
  },
  {
   "cell_type": "code",
   "execution_count": 6,
   "id": "28695f0d-5bbd-4603-bb3d-15ebc24da3b2",
   "metadata": {},
   "outputs": [],
   "source": [
    "def grastech():#main function\n",
    "\n",
    "    def hello():#Secondary function\n",
    "        print('Hello budyy!!, how are you??')\n",
    "\n",
    "    hello()\n",
    "\n",
    "    print(\"We are learning python\")"
   ]
  },
  {
   "cell_type": "code",
   "execution_count": 7,
   "id": "3d007949-7349-4161-a0af-988b4f11b937",
   "metadata": {},
   "outputs": [
    {
     "name": "stdout",
     "output_type": "stream",
     "text": [
      "Hello budyy!!, how are you??\n",
      "We are learning python\n"
     ]
    }
   ],
   "source": [
    "grastech()"
   ]
  },
  {
   "cell_type": "code",
   "execution_count": 11,
   "id": "21ec79f2-cd53-4edd-843b-66f180632280",
   "metadata": {},
   "outputs": [],
   "source": [
    "def grastech():#main function\n",
    "\n",
    "    def hello():#Secondary function\n",
    "        print('Hello budyy!!, how are you??')\n",
    "\n",
    "    print(\"We are learning python\")\n",
    "    hello()"
   ]
  },
  {
   "cell_type": "code",
   "execution_count": 12,
   "id": "41cb0c93-3193-4f88-b329-c8343b595824",
   "metadata": {},
   "outputs": [
    {
     "name": "stdout",
     "output_type": "stream",
     "text": [
      "We are learning python\n",
      "Hello budyy!!, how are you??\n"
     ]
    }
   ],
   "source": [
    "grastech()"
   ]
  },
  {
   "cell_type": "code",
   "execution_count": 44,
   "id": "12c01ade-0bb7-41b4-97b4-75d91578881c",
   "metadata": {},
   "outputs": [],
   "source": [
    "def india():\n",
    "    print('We are living in india')\n",
    "\n",
    "    def noida():\n",
    "        print('Noida is in NCR')\n",
    "\n",
    "        def grastech():\n",
    "            print('We offers DA and DS course')\n",
    "\n",
    "        def hello():\n",
    "            print('Hello Buddy , How are you')\n",
    "       \n",
    "    def welcome():  \n",
    "        print('Welcome in the code')\n",
    "    print('Bye')"
   ]
  },
  {
   "cell_type": "code",
   "execution_count": 45,
   "id": "78ef49ab-2a46-44d4-b366-151811cb0eb9",
   "metadata": {},
   "outputs": [
    {
     "name": "stdout",
     "output_type": "stream",
     "text": [
      "We are living in india\n",
      "Bye\n"
     ]
    }
   ],
   "source": [
    "india()"
   ]
  },
  {
   "cell_type": "markdown",
   "id": "6c884b1d-5dfa-43cd-8736-95df04865c07",
   "metadata": {},
   "source": [
    "# Function with args: It can take as multiple arguements\n"
   ]
  },
  {
   "cell_type": "code",
   "execution_count": 13,
   "id": "514251fb-7438-4d76-8f64-578c8fe58340",
   "metadata": {},
   "outputs": [],
   "source": [
    "def total_sales(s1,s2,s3):\n",
    "    total=s1+s2+s3\n",
    "    return total\n",
    "    "
   ]
  },
  {
   "cell_type": "code",
   "execution_count": 15,
   "id": "a1e42d61-d1b3-4215-bbd0-a3d3353e0f92",
   "metadata": {},
   "outputs": [
    {
     "data": {
      "text/plain": [
       "3800"
      ]
     },
     "execution_count": 15,
     "metadata": {},
     "output_type": "execute_result"
    }
   ],
   "source": [
    "total_sales(1200,2500,100)"
   ]
  },
  {
   "cell_type": "code",
   "execution_count": 18,
   "id": "1b4dc040-6277-4c7c-891d-3a4eb1f56cd7",
   "metadata": {},
   "outputs": [
    {
     "ename": "TypeError",
     "evalue": "total_sales() missing 3 required positional arguments: 's1', 's2', and 's3'",
     "output_type": "error",
     "traceback": [
      "\u001b[1;31m---------------------------------------------------------------------------\u001b[0m",
      "\u001b[1;31mTypeError\u001b[0m                                 Traceback (most recent call last)",
      "Cell \u001b[1;32mIn[18], line 1\u001b[0m\n\u001b[1;32m----> 1\u001b[0m total_sales()\n",
      "\u001b[1;31mTypeError\u001b[0m: total_sales() missing 3 required positional arguments: 's1', 's2', and 's3'"
     ]
    }
   ],
   "source": [
    "total_sales()"
   ]
  },
  {
   "cell_type": "code",
   "execution_count": 16,
   "id": "fbcdbda1-3292-4c46-95e3-4cb72e587f40",
   "metadata": {},
   "outputs": [
    {
     "ename": "TypeError",
     "evalue": "total_sales() missing 1 required positional argument: 's3'",
     "output_type": "error",
     "traceback": [
      "\u001b[1;31m---------------------------------------------------------------------------\u001b[0m",
      "\u001b[1;31mTypeError\u001b[0m                                 Traceback (most recent call last)",
      "Cell \u001b[1;32mIn[16], line 1\u001b[0m\n\u001b[1;32m----> 1\u001b[0m total_sales(\u001b[38;5;241m1200\u001b[39m,\u001b[38;5;241m100\u001b[39m)\n",
      "\u001b[1;31mTypeError\u001b[0m: total_sales() missing 1 required positional argument: 's3'"
     ]
    }
   ],
   "source": [
    "total_sales(1200,100)"
   ]
  },
  {
   "cell_type": "code",
   "execution_count": 17,
   "id": "55a0a377-9ff1-4144-8c58-600dd0a3a193",
   "metadata": {},
   "outputs": [
    {
     "ename": "TypeError",
     "evalue": "total_sales() takes 3 positional arguments but 4 were given",
     "output_type": "error",
     "traceback": [
      "\u001b[1;31m---------------------------------------------------------------------------\u001b[0m",
      "\u001b[1;31mTypeError\u001b[0m                                 Traceback (most recent call last)",
      "Cell \u001b[1;32mIn[17], line 1\u001b[0m\n\u001b[1;32m----> 1\u001b[0m total_sales(\u001b[38;5;241m1\u001b[39m,\u001b[38;5;241m2\u001b[39m,\u001b[38;5;241m5\u001b[39m,\u001b[38;5;241m6\u001b[39m)\n",
      "\u001b[1;31mTypeError\u001b[0m: total_sales() takes 3 positional arguments but 4 were given"
     ]
    }
   ],
   "source": [
    "total_sales(1,2,5,6)"
   ]
  },
  {
   "cell_type": "code",
   "execution_count": 21,
   "id": "b04b1304-c1a1-4005-93d6-2d04a049b1a6",
   "metadata": {},
   "outputs": [],
   "source": [
    "def final_sales(*args):\n",
    "    sales = 0\n",
    "    for i in args:\n",
    "        sales = sales+i\n",
    "    return sales"
   ]
  },
  {
   "cell_type": "code",
   "execution_count": 22,
   "id": "6c002464-6ee7-42c4-a356-b71712ae9ccd",
   "metadata": {},
   "outputs": [
    {
     "data": {
      "text/plain": [
       "158"
      ]
     },
     "execution_count": 22,
     "metadata": {},
     "output_type": "execute_result"
    }
   ],
   "source": [
    "final_sales(14,52,47,45)"
   ]
  },
  {
   "cell_type": "code",
   "execution_count": 23,
   "id": "3300e75b-fbd5-4a92-94df-8c129644b6fe",
   "metadata": {},
   "outputs": [
    {
     "data": {
      "text/plain": [
       "7132"
      ]
     },
     "execution_count": 23,
     "metadata": {},
     "output_type": "execute_result"
    }
   ],
   "source": [
    "final_sales(144,5445,255,666,552,66,4)"
   ]
  },
  {
   "cell_type": "markdown",
   "id": "99a20f28-a548-473c-bd58-5c56b93294b0",
   "metadata": {},
   "source": [
    "# Function with kwargs: \n",
    "- keyword arguements >> dict ke form store"
   ]
  },
  {
   "cell_type": "code",
   "execution_count": 24,
   "id": "d086fc6a-7057-4378-87a6-f1a09d997543",
   "metadata": {},
   "outputs": [],
   "source": [
    "def give_introduction(name , age , address):\n",
    "    print(f'my name is {name}')\n",
    "    print(f'my age is {age}')\n",
    "    print(f'i lived in  {address}')"
   ]
  },
  {
   "cell_type": "code",
   "execution_count": 25,
   "id": "5f2d60a0-a29c-404d-8e69-c239dda3df55",
   "metadata": {},
   "outputs": [
    {
     "name": "stdout",
     "output_type": "stream",
     "text": [
      "my name is Gagan\n",
      "my age is 34\n",
      "i lived in  Noida\n"
     ]
    }
   ],
   "source": [
    "give_introduction('Gagan',34,'Noida')"
   ]
  },
  {
   "cell_type": "code",
   "execution_count": 26,
   "id": "dcacefc6-b5b4-450a-abe8-0275157e9d23",
   "metadata": {},
   "outputs": [
    {
     "ename": "TypeError",
     "evalue": "give_introduction() missing 1 required positional argument: 'address'",
     "output_type": "error",
     "traceback": [
      "\u001b[1;31m---------------------------------------------------------------------------\u001b[0m",
      "\u001b[1;31mTypeError\u001b[0m                                 Traceback (most recent call last)",
      "Cell \u001b[1;32mIn[26], line 1\u001b[0m\n\u001b[1;32m----> 1\u001b[0m give_introduction(\u001b[38;5;124m'\u001b[39m\u001b[38;5;124mGanesh\u001b[39m\u001b[38;5;124m'\u001b[39m,\u001b[38;5;241m24\u001b[39m)\n",
      "\u001b[1;31mTypeError\u001b[0m: give_introduction() missing 1 required positional argument: 'address'"
     ]
    }
   ],
   "source": [
    "give_introduction('Ganesh',24)"
   ]
  },
  {
   "cell_type": "code",
   "execution_count": 28,
   "id": "8db05dc8-540f-438e-941a-3a50bb452893",
   "metadata": {},
   "outputs": [
    {
     "ename": "TypeError",
     "evalue": "give_introduction() takes 3 positional arguments but 4 were given",
     "output_type": "error",
     "traceback": [
      "\u001b[1;31m---------------------------------------------------------------------------\u001b[0m",
      "\u001b[1;31mTypeError\u001b[0m                                 Traceback (most recent call last)",
      "Cell \u001b[1;32mIn[28], line 1\u001b[0m\n\u001b[1;32m----> 1\u001b[0m give_introduction(\u001b[38;5;124m'\u001b[39m\u001b[38;5;124mGanesh\u001b[39m\u001b[38;5;124m'\u001b[39m,\u001b[38;5;241m24\u001b[39m,\u001b[38;5;124m'\u001b[39m\u001b[38;5;124mNoida\u001b[39m\u001b[38;5;124m'\u001b[39m,\u001b[38;5;124m'\u001b[39m\u001b[38;5;124mbca\u001b[39m\u001b[38;5;124m'\u001b[39m)\n",
      "\u001b[1;31mTypeError\u001b[0m: give_introduction() takes 3 positional arguments but 4 were given"
     ]
    }
   ],
   "source": [
    "give_introduction('Ganesh',24,'Noida','bca')"
   ]
  },
  {
   "cell_type": "code",
   "execution_count": 29,
   "id": "ac1bf1c6-d392-4619-a7ed-d7451c6453d9",
   "metadata": {},
   "outputs": [],
   "source": [
    "def introduction(**kwargs):\n",
    "    for key,value in kwargs.items():\n",
    "        print(f'my {key} is {value}'.title())"
   ]
  },
  {
   "cell_type": "code",
   "execution_count": 30,
   "id": "54deca07-6ddc-411d-a1c5-e3066beaea11",
   "metadata": {},
   "outputs": [
    {
     "name": "stdout",
     "output_type": "stream",
     "text": [
      "My Name Is Ganesh\n",
      "My City Is Noida\n",
      "My Age Is 24\n"
     ]
    }
   ],
   "source": [
    "introduction(Name='Ganesh',city='Noida',age=24)"
   ]
  },
  {
   "cell_type": "markdown",
   "id": "dbc8c08e-6e48-4b17-ba72-fe4faeb893ad",
   "metadata": {},
   "source": [
    "# Lambda >> Anonymos function"
   ]
  },
  {
   "cell_type": "code",
   "execution_count": 31,
   "id": "18e3d3d6-4fc1-4893-a242-162f5086ab2f",
   "metadata": {},
   "outputs": [],
   "source": [
    "def add(a,b):\n",
    "    return a+b"
   ]
  },
  {
   "cell_type": "code",
   "execution_count": 32,
   "id": "3bcfdb4f-5bef-4cdd-9014-7a03c853a3ae",
   "metadata": {},
   "outputs": [
    {
     "data": {
      "text/plain": [
       "68"
      ]
     },
     "execution_count": 32,
     "metadata": {},
     "output_type": "execute_result"
    }
   ],
   "source": [
    "add(23,45)"
   ]
  },
  {
   "cell_type": "code",
   "execution_count": 33,
   "id": "5485339f-0005-49e5-8da9-dcdfe8da4e8e",
   "metadata": {},
   "outputs": [
    {
     "data": {
      "text/plain": [
       "4"
      ]
     },
     "execution_count": 33,
     "metadata": {},
     "output_type": "execute_result"
    }
   ],
   "source": [
    "(lambda a,b: a+b)(1,3)"
   ]
  },
  {
   "cell_type": "code",
   "execution_count": 38,
   "id": "ed98a438-0bc3-4598-bec7-5928b80e47b4",
   "metadata": {},
   "outputs": [],
   "source": [
    "ekansh = lambda l1,l2:list(set(l1).intersection(set(l2)))"
   ]
  },
  {
   "cell_type": "code",
   "execution_count": 39,
   "id": "d15a6f4a-eeff-42f3-942f-905043ce938c",
   "metadata": {},
   "outputs": [
    {
     "data": {
      "text/plain": [
       "[11, 6, 7]"
      ]
     },
     "execution_count": 39,
     "metadata": {},
     "output_type": "execute_result"
    }
   ],
   "source": [
    "ekansh([1,5,4,11,6,2,7],[11,8,6,7])"
   ]
  },
  {
   "cell_type": "code",
   "execution_count": 41,
   "id": "38d8f2bb-bfe3-44a4-b234-f9c95fc0856d",
   "metadata": {},
   "outputs": [
    {
     "data": {
      "text/plain": [
       "[11, 6, 7]"
      ]
     },
     "execution_count": 41,
     "metadata": {},
     "output_type": "execute_result"
    }
   ],
   "source": [
    "(lambda l1,l2:list(set(l1).intersection(set(l2))))([1,5,4,11,6,2,7],[11,8,6,7])"
   ]
  },
  {
   "cell_type": "code",
   "execution_count": null,
   "id": "0b2cf437-32d2-4d5a-ae6f-f390d2c0dc3c",
   "metadata": {},
   "outputs": [],
   "source": []
  }
 ],
 "metadata": {
  "kernelspec": {
   "display_name": "Python [conda env:base] *",
   "language": "python",
   "name": "conda-base-py"
  },
  "language_info": {
   "codemirror_mode": {
    "name": "ipython",
    "version": 3
   },
   "file_extension": ".py",
   "mimetype": "text/x-python",
   "name": "python",
   "nbconvert_exporter": "python",
   "pygments_lexer": "ipython3",
   "version": "3.12.7"
  }
 },
 "nbformat": 4,
 "nbformat_minor": 5
}
