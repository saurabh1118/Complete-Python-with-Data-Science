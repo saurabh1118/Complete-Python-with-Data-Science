{
 "cells": [
  {
   "cell_type": "markdown",
   "id": "63a8da8c-4ab0-424f-a7ca-51d12be75136",
   "metadata": {},
   "source": [
    "# Modules : Collection of Classes and Function"
   ]
  },
  {
   "cell_type": "code",
   "execution_count": 7,
   "id": "261cb1ba-1208-444c-abbc-e33573d4fe16",
   "metadata": {},
   "outputs": [],
   "source": [
    "# Modules which are available in Python\n",
    "# There are some modules "
   ]
  },
  {
   "cell_type": "code",
   "execution_count": 5,
   "id": "f526cab5-f1a1-4066-a865-49abed8e3de6",
   "metadata": {},
   "outputs": [
    {
     "name": "stdout",
     "output_type": "stream",
     "text": [
      "Done\n"
     ]
    }
   ],
   "source": [
    "import calendar\n",
    "print('Done')"
   ]
  },
  {
   "cell_type": "code",
   "execution_count": 6,
   "id": "d43b44e2-58fb-4afe-9cd5-0b4872c5fa11",
   "metadata": {},
   "outputs": [
    {
     "name": "stdout",
     "output_type": "stream",
     "text": [
      "Done\n"
     ]
    }
   ],
   "source": [
    "import math\n",
    "print('Done')"
   ]
  },
  {
   "cell_type": "code",
   "execution_count": 7,
   "id": "0fa96888-3fd3-493f-abc2-c2b882dfa129",
   "metadata": {},
   "outputs": [
    {
     "name": "stdout",
     "output_type": "stream",
     "text": [
      "pygame 2.6.1 (SDL 2.28.4, Python 3.12.7)\n",
      "Hello from the pygame community. https://www.pygame.org/contribute.html\n",
      "Done\n"
     ]
    }
   ],
   "source": [
    "import random\n",
    "import math\n",
    "import time \n",
    "import pandas as pd\n",
    "import IPython\n",
    "import pygame\n",
    "import cowsay\n",
    "import webbrowser\n",
    "import calendar\n",
    "print('Done')"
   ]
  },
  {
   "cell_type": "markdown",
   "id": "351fb812-d687-40bf-910e-571bebcc5742",
   "metadata": {},
   "source": [
    "# User Defined Modules"
   ]
  },
  {
   "cell_type": "code",
   "execution_count": 23,
   "id": "0cfe4c44-4f3f-4d5f-8d78-718b54ba756d",
   "metadata": {},
   "outputs": [],
   "source": [
    "# User can create your modules in python \n",
    "# Steps :--\n",
    "\n",
    "# Create a modules_file_name.py file \n",
    "# Write your functions to perform related task\n",
    "# import the modules_file_name file\n",
    "\n",
    "# modules_file_name.py file store in folder where is your current working directory(sys.path).\n",
    "# Otherwise we need append your path with sys.path"
   ]
  },
  {
   "cell_type": "code",
   "execution_count": 9,
   "id": "8aaebcd3-bcd7-404c-962a-277ae187f805",
   "metadata": {},
   "outputs": [
    {
     "name": "stdout",
     "output_type": "stream",
     "text": [
      "Done\n"
     ]
    }
   ],
   "source": [
    "import saurabh as s\n",
    "print('Done')"
   ]
  },
  {
   "cell_type": "code",
   "execution_count": 10,
   "id": "f779e371-1837-4d29-9bac-4f36ea5a933f",
   "metadata": {},
   "outputs": [
    {
     "name": "stdout",
     "output_type": "stream",
     "text": [
      "  _____\n",
      "| Hello |\n",
      "  =====\n",
      "     \\\n",
      "      \\\n",
      "        ^__^\n",
      "        (oo)\\_______\n",
      "        (__)\\       )\\/\\\n",
      "            ||----w |\n",
      "            ||     ||\n"
     ]
    }
   ],
   "source": [
    "cowsay.cow('Hello')"
   ]
  },
  {
   "cell_type": "code",
   "execution_count": 11,
   "id": "414c6661-e8ae-492a-baa2-0c1290b646de",
   "metadata": {},
   "outputs": [
    {
     "name": "stdout",
     "output_type": "stream",
     "text": [
      "                  * \n",
      "                * * \n",
      "              * * * \n",
      "            * * * * \n",
      "          * * * * * \n",
      "        * * * * * * \n",
      "      * * * * * * * \n",
      "    * * * * * * * * \n",
      "  * * * * * * * * * \n",
      "* * * * * * * * * * \n"
     ]
    }
   ],
   "source": [
    "s.star_print(10,'right')"
   ]
  },
  {
   "cell_type": "code",
   "execution_count": 12,
   "id": "9a5676ed-1597-4e63-8978-6e7f2f515c4b",
   "metadata": {},
   "outputs": [],
   "source": [
    "import calendar as c\n"
   ]
  },
  {
   "cell_type": "code",
   "execution_count": 13,
   "id": "24fa068a-2039-443e-90fa-e0554c99a9b0",
   "metadata": {},
   "outputs": [
    {
     "data": {
      "text/plain": [
       "True"
      ]
     },
     "execution_count": 13,
     "metadata": {},
     "output_type": "execute_result"
    }
   ],
   "source": [
    "c.isleap(2020)"
   ]
  },
  {
   "cell_type": "code",
   "execution_count": 14,
   "id": "734c13e1-d36e-4b2d-95db-d58ac80003f0",
   "metadata": {},
   "outputs": [
    {
     "data": {
      "text/plain": [
       "True"
      ]
     },
     "execution_count": 14,
     "metadata": {},
     "output_type": "execute_result"
    }
   ],
   "source": [
    "s.check_year(2020)"
   ]
  },
  {
   "cell_type": "code",
   "execution_count": 15,
   "id": "79e5e5a5-ef69-404a-b168-40ff1a502a75",
   "metadata": {},
   "outputs": [
    {
     "data": {
      "text/plain": [
       "'Welcome Ana, How are You ?'"
      ]
     },
     "execution_count": 15,
     "metadata": {},
     "output_type": "execute_result"
    }
   ],
   "source": [
    "s.greet('Ana')"
   ]
  },
  {
   "cell_type": "code",
   "execution_count": 16,
   "id": "9a9e9e82-aef0-4078-ae54-304716afaa83",
   "metadata": {},
   "outputs": [
    {
     "data": {
      "text/plain": [
       "'WhatsUp Saurabh , How are things?'"
      ]
     },
     "execution_count": 16,
     "metadata": {},
     "output_type": "execute_result"
    }
   ],
   "source": [
    "s.greet_person('Saurabh')"
   ]
  },
  {
   "cell_type": "code",
   "execution_count": 17,
   "id": "0af4aceb-1f4b-40fd-b36b-e2fb049b8f1b",
   "metadata": {},
   "outputs": [
    {
     "name": "stdin",
     "output_type": "stream",
     "text": [
      "Enter name :  Saurabh\n"
     ]
    },
    {
     "name": "stdout",
     "output_type": "stream",
     "text": [
      "WhatsUp Saurabh , How's everything?\n",
      "Connecting with our customer care wait!!.....\n",
      "Hello I'm Vikram Singh ...\n",
      "Hi! Let me know how I can assist you today.\n",
      "select your concern: \n",
      "1. Technical Issues\n",
      "2. Account & Billing\n",
      "3. Course Content & Quality\n",
      "4. Customer Support & Service\n",
      "5. Platform Usability & Features\n"
     ]
    },
    {
     "name": "stdin",
     "output_type": "stream",
     "text": [
      "Enter value here :  5\n"
     ]
    },
    {
     "name": "stdout",
     "output_type": "stream",
     "text": [
      " 1.Difficulty navigating the platform interface\n",
      " 2.Missing or non-functional features (e.g., bookmarking, progress tracking)\n",
      " 3.Suggestions for new features or improvements\n",
      " 4.Mobile app usability concerns\n",
      " 5.Requests for language or accessibility options\n"
     ]
    },
    {
     "name": "stdin",
     "output_type": "stream",
     "text": [
      "Select value here:  5\n"
     ]
    },
    {
     "name": "stdout",
     "output_type": "stream",
     "text": [
      "😊Thanks for your time! We’re here if you need anything else.😊\n",
      "Save this ticket ID for ref : \n",
      "            ticket_id : G58739346T\n"
     ]
    }
   ],
   "source": [
    "s.chatbot()"
   ]
  },
  {
   "cell_type": "code",
   "execution_count": 20,
   "id": "e7fd4dd0-968a-45ee-9d2b-8b025dcc6304",
   "metadata": {},
   "outputs": [
    {
     "name": "stdout",
     "output_type": "stream",
     "text": [
      "Anagram\n"
     ]
    }
   ],
   "source": [
    "import saurabh as s\n",
    "from saurabh import *\n",
    "\n",
    "check_anagram('listen','silent')"
   ]
  },
  {
   "cell_type": "code",
   "execution_count": 21,
   "id": "dbdf9ee2-9995-4d0b-849e-c2a54dcb1f7c",
   "metadata": {},
   "outputs": [
    {
     "name": "stdout",
     "output_type": "stream",
     "text": [
      "Done\n"
     ]
    }
   ],
   "source": [
    "import sys\n",
    "print('Done')"
   ]
  },
  {
   "cell_type": "code",
   "execution_count": 22,
   "id": "b5026f78-a834-40fb-8155-8f066307558a",
   "metadata": {},
   "outputs": [
    {
     "data": {
      "text/plain": [
       "['C:\\\\Users\\\\Saurabh\\\\Desktop\\\\Grastech Python',\n",
       " 'C:\\\\Users\\\\Saurabh\\\\anaconda3\\\\python312.zip',\n",
       " 'C:\\\\Users\\\\Saurabh\\\\anaconda3\\\\DLLs',\n",
       " 'C:\\\\Users\\\\Saurabh\\\\anaconda3\\\\Lib',\n",
       " 'C:\\\\Users\\\\Saurabh\\\\anaconda3',\n",
       " '',\n",
       " 'C:\\\\Users\\\\Saurabh\\\\anaconda3\\\\Lib\\\\site-packages',\n",
       " 'C:\\\\Users\\\\Saurabh\\\\anaconda3\\\\Lib\\\\site-packages\\\\win32',\n",
       " 'C:\\\\Users\\\\Saurabh\\\\anaconda3\\\\Lib\\\\site-packages\\\\win32\\\\lib',\n",
       " 'C:\\\\Users\\\\Saurabh\\\\anaconda3\\\\Lib\\\\site-packages\\\\Pythonwin',\n",
       " 'C:\\\\Users\\\\Saurabh\\\\anaconda3\\\\Lib\\\\site-packages\\\\setuptools\\\\_vendor']"
      ]
     },
     "execution_count": 22,
     "metadata": {},
     "output_type": "execute_result"
    }
   ],
   "source": [
    "sys.path"
   ]
  },
  {
   "cell_type": "markdown",
   "id": "3af0f17c-788a-46a7-8f41-24f5a3e09b4e",
   "metadata": {},
   "source": [
    "# Turtle : Design Creation"
   ]
  },
  {
   "cell_type": "code",
   "execution_count": 24,
   "id": "0db12e9a-62ce-4148-85b3-4fc8b30ac6d7",
   "metadata": {},
   "outputs": [],
   "source": [
    "import turtle as t\n",
    "import random\n",
    "\n",
    "kitne_circle = 100\n",
    "for i in range(kitne_circle):\n",
    "    # t.bgcolor('black')\n",
    "    t.speed(0)\n",
    "    colors = ['red','green','yellow','blue','pink']\n",
    "    t.color(random.choice(colors))\n",
    "    t.circle(random.randint(50,150))\n",
    "    t.left(360/kitne_circle)"
   ]
  },
  {
   "cell_type": "markdown",
   "id": "5db01f73-83e7-4e70-b593-de78ea81e582",
   "metadata": {},
   "source": [
    "# Doreamon Using Turtle"
   ]
  },
  {
   "cell_type": "code",
   "execution_count": 30,
   "id": "b8180422-86e0-442d-b731-afd920b8babf",
   "metadata": {},
   "outputs": [],
   "source": [
    "from turtle import *\n",
    "\n",
    "\n",
    "# Doraemon with Python Turtle\n",
    "def ankur(x, y):\n",
    "    penup()\n",
    "    goto(x, y)\n",
    "    pendown()\n",
    "\n",
    "\n",
    "def aankha():\n",
    "    fillcolor(\"#ffffff\")\n",
    "    begin_fill()\n",
    "\n",
    "    tracer(False)\n",
    "    a = 2.5\n",
    "    for i in range(120):\n",
    "        if 0 <= i < 30 or 60 <= i < 90:\n",
    "            a -= 0.05\n",
    "            lt(3)\n",
    "            fd(a)\n",
    "        else:\n",
    "            a += 0.05\n",
    "            lt(3)\n",
    "            fd(a)\n",
    "    tracer(True)\n",
    "    end_fill()\n",
    "\n",
    "\n",
    "def daari():\n",
    "    ankur(-32, 135)\n",
    "    seth(165)\n",
    "    fd(60)\n",
    "\n",
    "    ankur(-32, 125)\n",
    "    seth(180)\n",
    "    fd(60)\n",
    "\n",
    "    ankur(-32, 115)\n",
    "    seth(193)\n",
    "    fd(60)\n",
    "\n",
    "    ankur(37, 135)\n",
    "    seth(15)\n",
    "    fd(60)\n",
    "\n",
    "    ankur(37, 125)\n",
    "    seth(0)\n",
    "    fd(60)\n",
    "\n",
    "    ankur(37, 115)\n",
    "    seth(-13)\n",
    "    fd(60)\n",
    "\n",
    "\n",
    "def mukh():\n",
    "    ankur(5, 148)\n",
    "    seth(270)\n",
    "    fd(100)\n",
    "    seth(0)\n",
    "    circle(120, 50)\n",
    "    seth(230)\n",
    "    circle(-120, 100)\n",
    "\n",
    "\n",
    "def muflar():\n",
    "    fillcolor('#e70010')\n",
    "    begin_fill()\n",
    "    seth(0)\n",
    "    fd(200)\n",
    "    circle(-5, 90)\n",
    "    fd(10)\n",
    "    circle(-5, 90)\n",
    "    fd(207)\n",
    "    circle(-5, 90)\n",
    "    fd(10)\n",
    "    circle(-5, 90)\n",
    "    end_fill()\n",
    "\n",
    "\n",
    "def nak():\n",
    "    ankur(-10, 158)\n",
    "    seth(315)\n",
    "    fillcolor('#e70010')\n",
    "    begin_fill()\n",
    "    circle(20)\n",
    "    end_fill()\n",
    "\n",
    "\n",
    "def black_aankha():\n",
    "    seth(0)\n",
    "    ankur(-20, 195)\n",
    "    fillcolor('#000000')\n",
    "    begin_fill()\n",
    "    circle(13)\n",
    "    end_fill()\n",
    "\n",
    "    pensize(6)\n",
    "    ankur(20, 205)\n",
    "    seth(75)\n",
    "    circle(-10, 150)\n",
    "    pensize(3)\n",
    "\n",
    "    ankur(-17, 200)\n",
    "    seth(0)\n",
    "    fillcolor('#ffffff')\n",
    "    begin_fill()\n",
    "    circle(5)\n",
    "    end_fill()\n",
    "    ankur(0, 0)\n",
    "\n",
    "\n",
    "def face():\n",
    "    fd(183)\n",
    "    lt(45)\n",
    "    fillcolor('#ffffff')\n",
    "    begin_fill()\n",
    "    circle(120, 100)\n",
    "    seth(180)\n",
    "    # print(pos())\n",
    "    fd(121)\n",
    "    pendown()\n",
    "    seth(215)\n",
    "    circle(120, 100)\n",
    "    end_fill()\n",
    "    ankur(63.56, 218.24)\n",
    "    seth(90)\n",
    "    aankha()\n",
    "    seth(180)\n",
    "    penup()\n",
    "    fd(60)\n",
    "    pendown()\n",
    "    seth(90)\n",
    "    aankha()\n",
    "    penup()\n",
    "    seth(180)\n",
    "    fd(64)\n",
    "\n",
    "\n",
    "def taauko():\n",
    "    penup()\n",
    "    circle(150, 40)\n",
    "    pendown()\n",
    "    fillcolor('#00a0de')\n",
    "    begin_fill()\n",
    "    circle(150, 280)\n",
    "    end_fill()\n",
    "\n",
    "\n",
    "def Doraemon():\n",
    "    taauko()\n",
    "\n",
    "    muflar()\n",
    "\n",
    "    face()\n",
    "\n",
    "    nak()\n",
    "\n",
    "    mukh()\n",
    "\n",
    "    daari()\n",
    "\n",
    "    ankur(0, 0)\n",
    "\n",
    "    seth(0)\n",
    "    penup()\n",
    "    circle(150, 50)\n",
    "    pendown()\n",
    "    seth(30)\n",
    "    fd(40)\n",
    "    seth(70)\n",
    "    circle(-30, 270)\n",
    "\n",
    "    fillcolor('#00a0de')\n",
    "    begin_fill()\n",
    "\n",
    "    seth(230)\n",
    "    fd(80)\n",
    "    seth(90)\n",
    "    circle(1000, 1)\n",
    "    seth(-89)\n",
    "    circle(-1000, 10)\n",
    "\n",
    "    # print(pos())\n",
    "\n",
    "    seth(180)\n",
    "    fd(70)\n",
    "    seth(90)\n",
    "    circle(30, 180)\n",
    "    seth(180)\n",
    "    fd(70)\n",
    "\n",
    "    # print(pos())\n",
    "    seth(100)\n",
    "    circle(-1000, 9)\n",
    "\n",
    "    seth(-86)\n",
    "    circle(1000, 2)\n",
    "    seth(230)\n",
    "    fd(40)\n",
    "\n",
    "    # print(pos())\n",
    "\n",
    "    circle(-30, 230)\n",
    "    seth(45)\n",
    "    fd(81)\n",
    "    seth(0)\n",
    "    fd(203)\n",
    "    circle(5, 90)\n",
    "    fd(10)\n",
    "    circle(5, 90)\n",
    "    fd(7)\n",
    "    seth(40)\n",
    "    circle(150, 10)\n",
    "    seth(30)\n",
    "    fd(40)\n",
    "    end_fill()\n",
    "\n",
    "    seth(70)\n",
    "    fillcolor('#ffffff')\n",
    "    begin_fill()\n",
    "    circle(-30)\n",
    "    end_fill()\n",
    "\n",
    "    ankur(103.74, -182.59)\n",
    "    seth(0)\n",
    "    fillcolor('#ffffff')\n",
    "    begin_fill()\n",
    "    fd(15)\n",
    "    circle(-15, 180)\n",
    "    fd(90)\n",
    "    circle(-15, 180)\n",
    "    fd(10)\n",
    "    end_fill()\n",
    "\n",
    "    ankur(-96.26, -182.59)\n",
    "    seth(180)\n",
    "    fillcolor('#ffffff')\n",
    "    begin_fill()\n",
    "    fd(15)\n",
    "    circle(15, 180)\n",
    "    fd(90)\n",
    "    circle(15, 180)\n",
    "    fd(10)\n",
    "    end_fill()\n",
    "\n",
    "    ankur(-133.97, -91.81)\n",
    "    seth(50)\n",
    "    fillcolor('#ffffff')\n",
    "    begin_fill()\n",
    "    circle(30)\n",
    "    end_fill()\n",
    "    # Doraemon with Python Turtle\n",
    "\n",
    "    ankur(-103.42, 15.09)\n",
    "    seth(0)\n",
    "    fd(38)\n",
    "    seth(230)\n",
    "    begin_fill()\n",
    "    circle(90, 260)\n",
    "    end_fill()\n",
    "\n",
    "    ankur(5, -40)\n",
    "    seth(0)\n",
    "    fd(70)\n",
    "    seth(-90)\n",
    "    circle(-70, 180)\n",
    "    seth(0)\n",
    "    fd(70)\n",
    "\n",
    "    ankur(-103.42, 15.09)\n",
    "    fd(90)\n",
    "    seth(70)\n",
    "    fillcolor('#ffd200')\n",
    "    # print(pos())\n",
    "    begin_fill()\n",
    "    circle(-20)\n",
    "    end_fill()\n",
    "    seth(170)\n",
    "    fillcolor('#ffd200')\n",
    "    begin_fill()\n",
    "    circle(-2, 180)\n",
    "    seth(10)\n",
    "    circle(-100, 22)\n",
    "    circle(-2, 180)\n",
    "    seth(180 - 10)\n",
    "    circle(100, 22)\n",
    "    end_fill()\n",
    "    goto(-13.42, 15.09)\n",
    "    seth(250)\n",
    "    circle(20, 110)\n",
    "    seth(90)\n",
    "    fd(15)\n",
    "    dot(10)\n",
    "    ankur(0, -150)\n",
    "\n",
    "    black_aankha()\n",
    "\n",
    "\n",
    "\n",
    "screensize(800, 600, \"#f0f0f0\")\n",
    "pensize(3)\n",
    "speed(0)\n",
    "Doraemon()\n",
    "ankur(100, -300)\n",
    "write('By Saurabh', font=(\"Comic Sans MS\", 24, \"bold\"))\n",
    "mainloop()\n",
    "\n"
   ]
  },
  {
   "cell_type": "code",
   "execution_count": null,
   "id": "7da8b255-ba7e-481e-9865-292b845b4659",
   "metadata": {},
   "outputs": [],
   "source": []
  }
 ],
 "metadata": {
  "kernelspec": {
   "display_name": "Python [conda env:base] *",
   "language": "python",
   "name": "conda-base-py"
  },
  "language_info": {
   "codemirror_mode": {
    "name": "ipython",
    "version": 3
   },
   "file_extension": ".py",
   "mimetype": "text/x-python",
   "name": "python",
   "nbconvert_exporter": "python",
   "pygments_lexer": "ipython3",
   "version": "3.12.7"
  }
 },
 "nbformat": 4,
 "nbformat_minor": 5
}
