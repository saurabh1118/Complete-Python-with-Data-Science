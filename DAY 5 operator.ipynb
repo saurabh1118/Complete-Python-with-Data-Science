{
 "cells": [
  {
   "cell_type": "raw",
   "id": "25fdc74e-3249-438c-98e0-bbf901891774",
   "metadata": {},
   "source": []
  },
  {
   "cell_type": "code",
   "execution_count": 1,
   "id": "77a1cc31-6c14-4611-a292-4d1d39f25446",
   "metadata": {},
   "outputs": [],
   "source": [
    "#Variables Declaration\n",
    "#Operations"
   ]
  },
  {
   "cell_type": "code",
   "execution_count": 3,
   "id": "55b353df-ac19-46ec-bf7d-f9d67988bfc0",
   "metadata": {},
   "outputs": [],
   "source": [
    "a = 67\n",
    "b = 78"
   ]
  },
  {
   "cell_type": "code",
   "execution_count": 4,
   "id": "8184775b-32a9-4c79-b971-ded6fb3a5f14",
   "metadata": {},
   "outputs": [
    {
     "ename": "SyntaxError",
     "evalue": "invalid decimal literal (1272078299.py, line 3)",
     "output_type": "error",
     "traceback": [
      "\u001b[1;36m  Cell \u001b[1;32mIn[4], line 3\u001b[1;36m\u001b[0m\n\u001b[1;33m    45d = 'Jatin'\u001b[0m\n\u001b[1;37m     ^\u001b[0m\n\u001b[1;31mSyntaxError\u001b[0m\u001b[1;31m:\u001b[0m invalid decimal literal\n"
     ]
    }
   ],
   "source": [
    "#RULE 1 : Can not starts with digits\n",
    "\n",
    "45d = 'Jatin'"
   ]
  },
  {
   "cell_type": "code",
   "execution_count": 5,
   "id": "4af9d4fb-378c-4401-ae63-6b88e30890a9",
   "metadata": {},
   "outputs": [
    {
     "ename": "SyntaxError",
     "evalue": "invalid syntax (2106545973.py, line 2)",
     "output_type": "error",
     "traceback": [
      "\u001b[1;36m  Cell \u001b[1;32mIn[5], line 2\u001b[1;36m\u001b[0m\n\u001b[1;33m    full name = 'Saurabh'\u001b[0m\n\u001b[1;37m         ^\u001b[0m\n\u001b[1;31mSyntaxError\u001b[0m\u001b[1;31m:\u001b[0m invalid syntax\n"
     ]
    }
   ],
   "source": [
    "#RULE 2 : Not contains any white Spaces\n",
    "full name = 'Saurabh'"
   ]
  },
  {
   "cell_type": "code",
   "execution_count": 7,
   "id": "43905700-ff0b-40c7-b32f-d42e04b8c8f9",
   "metadata": {},
   "outputs": [
    {
     "ename": "SyntaxError",
     "evalue": "invalid syntax. Maybe you meant '==' or ':=' instead of '='? (3664616306.py, line 4)",
     "output_type": "error",
     "traceback": [
      "\u001b[1;36m  Cell \u001b[1;32mIn[7], line 4\u001b[1;36m\u001b[0m\n\u001b[1;33m    @name = 'Jatin'\u001b[0m\n\u001b[1;37m     ^\u001b[0m\n\u001b[1;31mSyntaxError\u001b[0m\u001b[1;31m:\u001b[0m invalid syntax. Maybe you meant '==' or ':=' instead of '='?\n"
     ]
    }
   ],
   "source": [
    "#Rule 3 : It must not contains any special charactors , not allowed\n",
    "# !@#$%^&*()<>?\"{}|\n",
    "\n",
    "@name = 'Jatin'"
   ]
  },
  {
   "cell_type": "code",
   "execution_count": 8,
   "id": "22819298-f807-494f-be40-a395fd4b3314",
   "metadata": {},
   "outputs": [],
   "source": [
    "#RULE 4 : ONLY underscore is allowed\n",
    "# _\n",
    "_a = 45\n"
   ]
  },
  {
   "cell_type": "code",
   "execution_count": 9,
   "id": "20b0fa45-b050-4c86-996b-0cea146096e7",
   "metadata": {},
   "outputs": [],
   "source": [
    "_ = 545"
   ]
  },
  {
   "cell_type": "code",
   "execution_count": 10,
   "id": "bc5f3943-5419-4c28-a61c-963198a29af4",
   "metadata": {},
   "outputs": [
    {
     "name": "stdout",
     "output_type": "stream",
     "text": [
      "545\n"
     ]
    }
   ],
   "source": [
    "print(_)"
   ]
  },
  {
   "cell_type": "code",
   "execution_count": 11,
   "id": "4928a933-bffe-459a-9ede-3c4893d83af4",
   "metadata": {},
   "outputs": [],
   "source": [
    "#RULE 5 : DIGITS ARE ALLOWED AFTER FIRST INDEX\n",
    "\n",
    "y123 = 'Raju'"
   ]
  },
  {
   "cell_type": "code",
   "execution_count": 12,
   "id": "5b8f3e15-5352-4964-8334-c37a36a44317",
   "metadata": {},
   "outputs": [
    {
     "name": "stdout",
     "output_type": "stream",
     "text": [
      "\n",
      "Here is a list of the Python keywords.  Enter any keyword to get more help.\n",
      "\n",
      "False               class               from                or\n",
      "None                continue            global              pass\n",
      "True                def                 if                  raise\n",
      "and                 del                 import              return\n",
      "as                  elif                in                  try\n",
      "assert              else                is                  while\n",
      "async               except              lambda              with\n",
      "await               finally             nonlocal            yield\n",
      "break               for                 not                 \n",
      "\n"
     ]
    }
   ],
   "source": [
    "help('keywords')"
   ]
  },
  {
   "cell_type": "code",
   "execution_count": 13,
   "id": "0219b8bb-0b0e-4d5c-aed5-ba399ef668fd",
   "metadata": {},
   "outputs": [
    {
     "ename": "SyntaxError",
     "evalue": "invalid syntax (324317781.py, line 1)",
     "output_type": "error",
     "traceback": [
      "\u001b[1;36m  Cell \u001b[1;32mIn[13], line 1\u001b[1;36m\u001b[0m\n\u001b[1;33m    del = 'lucky'\u001b[0m\n\u001b[1;37m        ^\u001b[0m\n\u001b[1;31mSyntaxError\u001b[0m\u001b[1;31m:\u001b[0m invalid syntax\n"
     ]
    }
   ],
   "source": [
    "del = 'lucky'"
   ]
  },
  {
   "cell_type": "code",
   "execution_count": 14,
   "id": "415a64cc-da59-4151-9ebb-40e4798d3c6c",
   "metadata": {},
   "outputs": [],
   "source": [
    "#RULE 7 : Python is case sensitive"
   ]
  },
  {
   "cell_type": "code",
   "execution_count": 15,
   "id": "093ec872-53a2-4f5c-b888-2fa2bbdb5d38",
   "metadata": {},
   "outputs": [],
   "source": [
    "name = 'ajay'\n",
    "Name = 'lucky'\n",
    "NAME = 'KAaram'"
   ]
  },
  {
   "cell_type": "markdown",
   "id": "805c1e62-0539-4466-9b47-00df3faa9c63",
   "metadata": {},
   "source": [
    "# OPERATORS\n"
   ]
  },
  {
   "cell_type": "markdown",
   "id": "5a7f84ad-e2ca-4d77-8cf1-687044d112fb",
   "metadata": {},
   "source": [
    "# ARITHMETIC OPERATIONS"
   ]
  },
  {
   "cell_type": "markdown",
   "id": "f16eb550-718d-4351-aec1-f310afb77f6e",
   "metadata": {},
   "source": [
    "- +,-,*,/,//,%,**"
   ]
  },
  {
   "cell_type": "code",
   "execution_count": 17,
   "id": "77303e1d-73fe-420e-bab8-c9992af7a4c1",
   "metadata": {},
   "outputs": [
    {
     "name": "stdout",
     "output_type": "stream",
     "text": [
      "sum :  101\n",
      "min :  -11\n",
      "mul :  2520\n"
     ]
    }
   ],
   "source": [
    "a = 45\n",
    "b=56\n",
    "print('sum : ',a+b)\n",
    "print('min : ',a-b)\n",
    "print('mul : ',a*b)"
   ]
  },
  {
   "cell_type": "code",
   "execution_count": 19,
   "id": "b78cf9b6-1b3f-46c2-ad1d-7e8eaebe9671",
   "metadata": {},
   "outputs": [
    {
     "name": "stdout",
     "output_type": "stream",
     "text": [
      "Div : 7.5\n",
      "Modules :  7\n",
      "Power a,b : 8303765625\n"
     ]
    }
   ],
   "source": [
    "a = 45\n",
    "b=6\n",
    "print('Div :',a/b)\n",
    "print('Modules : ',a//b)\n",
    "print('Power a,b :',a**b)"
   ]
  },
  {
   "cell_type": "markdown",
   "id": "9188664a-cb2b-4f25-9625-005439c1c872",
   "metadata": {},
   "source": [
    "# Comparision / Relationship OP\n",
    "- <,<=,>,>=,++,!=\n",
    "- Bool :True , False"
   ]
  },
  {
   "cell_type": "code",
   "execution_count": 20,
   "id": "26a4fc5d-2b84-4246-a213-204f3190b592",
   "metadata": {},
   "outputs": [
    {
     "name": "stdout",
     "output_type": "stream",
     "text": [
      "a>b : False\n",
      "a>=b: False\n",
      "a<b: True\n",
      "a<=b: True\n",
      "a==b False\n",
      "a!=b True\n"
     ]
    }
   ],
   "source": [
    "a = 48\n",
    "b= 50\n",
    "print('a>b :',a>b)\n",
    "print('a>=b:',a>=b)\n",
    "print('a<b:',a<b)\n",
    "print('a<=b:',a<=b)\n",
    "print('a==b',a==b)\n",
    "print('a!=b',a!=b)"
   ]
  },
  {
   "cell_type": "markdown",
   "id": "ae937266-998d-40b1-a338-65defd983c97",
   "metadata": {},
   "source": [
    "# MemberShip OP\n",
    "- IN,NOT IN"
   ]
  },
  {
   "cell_type": "code",
   "execution_count": 21,
   "id": "8a319fc8-3831-429d-8030-8ef19f646d51",
   "metadata": {},
   "outputs": [],
   "source": [
    "students = ['karan','ravi','ajay','mohan','akshay']"
   ]
  },
  {
   "cell_type": "code",
   "execution_count": 22,
   "id": "830dd3b6-6c3d-4c55-ab4d-7e3462a9b668",
   "metadata": {},
   "outputs": [
    {
     "data": {
      "text/plain": [
       "True"
      ]
     },
     "execution_count": 22,
     "metadata": {},
     "output_type": "execute_result"
    }
   ],
   "source": [
    "'ravi' in students"
   ]
  },
  {
   "cell_type": "code",
   "execution_count": 26,
   "id": "9b36d663-9b50-4472-96eb-d373166defee",
   "metadata": {},
   "outputs": [
    {
     "data": {
      "text/plain": [
       "False"
      ]
     },
     "execution_count": 26,
     "metadata": {},
     "output_type": "execute_result"
    }
   ],
   "source": [
    "'Akshay' in students"
   ]
  },
  {
   "cell_type": "code",
   "execution_count": 27,
   "id": "36f09b6a-9ad4-438a-bdf5-9e6362b4e42e",
   "metadata": {},
   "outputs": [
    {
     "data": {
      "text/plain": [
       "True"
      ]
     },
     "execution_count": 27,
     "metadata": {},
     "output_type": "execute_result"
    }
   ],
   "source": [
    "'Tarun' not in students"
   ]
  },
  {
   "cell_type": "code",
   "execution_count": 24,
   "id": "6dcc4d1d-0fe2-48a0-8887-a3feacdad491",
   "metadata": {},
   "outputs": [
    {
     "name": "stdout",
     "output_type": "stream",
     "text": [
      "Password Created Successfully\n"
     ]
    }
   ],
   "source": [
    "all_pwd= ['aman@123','Aman@123','aman@1234','aman1997','aman@gras']\n",
    "new_pwd = 'aman@1237'\n",
    "\n",
    "if new_pwd in all_pwd:\n",
    "    print('Create another Password')\n",
    "else:\n",
    "    print('Password Created Successfully')"
   ]
  },
  {
   "cell_type": "code",
   "execution_count": 25,
   "id": "0b69228d-ed3f-48bd-91e5-de370afaab54",
   "metadata": {},
   "outputs": [
    {
     "name": "stdout",
     "output_type": "stream",
     "text": [
      "WRONG OTP\n"
     ]
    }
   ],
   "source": [
    "system_otp = 5678\n",
    "\n",
    "user_otp = 5674\n",
    "\n",
    "if user_otp == system_otp:\n",
    "    print(\"OTP VERIFY\")\n",
    "else:\n",
    "    print(\"WRONG OTP\")"
   ]
  },
  {
   "cell_type": "markdown",
   "id": "edb02f7d-9b36-49e4-8ece-d5a5d2295ab4",
   "metadata": {},
   "source": [
    "# LOGICAL OP\n",
    "- To check multiple condition results\n",
    "- AND ,OR, NOT"
   ]
  },
  {
   "cell_type": "code",
   "execution_count": 29,
   "id": "7decc15c-b2fd-4963-af53-bc5a4e175348",
   "metadata": {},
   "outputs": [
    {
     "name": "stdout",
     "output_type": "stream",
     "text": [
      "False\n",
      "True\n"
     ]
    }
   ],
   "source": [
    "a = 45\n",
    "b = 67\n",
    "\n",
    "name ='Ajay'\n",
    "age = 18\n",
    "\n",
    "#AND : ALL CONDITION ARE TRUE, RETURN TRUE\n",
    "print((a ==b) and (name == 'MOhan') and (age >=18))\n",
    "\n",
    "#OR : ONE CONDITION IS TRUE , RETURN TRUE\n",
    "print((a == b) or (name == 'MOhan') or (age >=18))    "
   ]
  },
  {
   "cell_type": "code",
   "execution_count": 34,
   "id": "e4cd93c7-7616-42bd-bb0f-b7b381f7be07",
   "metadata": {},
   "outputs": [
    {
     "name": "stdout",
     "output_type": "stream",
     "text": [
      "True\n",
      "False\n"
     ]
    }
   ],
   "source": [
    "a = 45\n",
    "b = 67\n",
    "\n",
    "name ='Ajay'\n",
    "age = 18\n",
    "\n",
    "#AND : ALL CONDITION ARE TRUE, RETURN TRUE\n",
    "print((a !=b) and (name != 'MOhan') and (age >=18))\n",
    "print((a !=b) and (name != 'MOhan') and (age >=18) and False)"
   ]
  },
  {
   "cell_type": "code",
   "execution_count": 35,
   "id": "8f994863-be5a-421a-9d48-44698d47e9a8",
   "metadata": {},
   "outputs": [
    {
     "data": {
      "text/plain": [
       "True"
      ]
     },
     "execution_count": 35,
     "metadata": {},
     "output_type": "execute_result"
    }
   ],
   "source": [
    "True or False"
   ]
  },
  {
   "cell_type": "code",
   "execution_count": 36,
   "id": "95cea632-4568-4396-a268-c720bad1702c",
   "metadata": {},
   "outputs": [
    {
     "data": {
      "text/plain": [
       "False"
      ]
     },
     "execution_count": 36,
     "metadata": {},
     "output_type": "execute_result"
    }
   ],
   "source": [
    "True and False"
   ]
  },
  {
   "cell_type": "code",
   "execution_count": 37,
   "id": "90fb10bf-fea7-4131-a7b4-0e8d22301f45",
   "metadata": {},
   "outputs": [
    {
     "data": {
      "text/plain": [
       "False"
      ]
     },
     "execution_count": 37,
     "metadata": {},
     "output_type": "execute_result"
    }
   ],
   "source": [
    "not True and False"
   ]
  },
  {
   "cell_type": "markdown",
   "id": "89923c56-1575-403e-9c90-2a00ec56e1e3",
   "metadata": {},
   "source": [
    "# Identity OP\n",
    "- is, is not"
   ]
  },
  {
   "cell_type": "code",
   "execution_count": 39,
   "id": "f5118c12-f651-496a-8a84-8e525f45c4d1",
   "metadata": {},
   "outputs": [
    {
     "name": "stdout",
     "output_type": "stream",
     "text": [
      "140711451635512\n",
      "140711451635512\n"
     ]
    }
   ],
   "source": [
    "# id check\n",
    "\n",
    "a=45\n",
    "b=45\n",
    "\n",
    "print(id(a))\n",
    "print(id(b))"
   ]
  },
  {
   "cell_type": "code",
   "execution_count": 40,
   "id": "12c7d0fc-5d61-4ea0-aa1c-ee65476399f5",
   "metadata": {},
   "outputs": [
    {
     "data": {
      "text/plain": [
       "True"
      ]
     },
     "execution_count": 40,
     "metadata": {},
     "output_type": "execute_result"
    }
   ],
   "source": [
    "a is b\n"
   ]
  },
  {
   "cell_type": "code",
   "execution_count": 41,
   "id": "801efd69-5dc8-4ad7-a6b2-98fb6a368ab0",
   "metadata": {},
   "outputs": [
    {
     "data": {
      "text/plain": [
       "True"
      ]
     },
     "execution_count": 41,
     "metadata": {},
     "output_type": "execute_result"
    }
   ],
   "source": [
    "a == b"
   ]
  },
  {
   "cell_type": "code",
   "execution_count": 42,
   "id": "a8c38d26-07c5-4322-b778-d0637aaf4557",
   "metadata": {},
   "outputs": [
    {
     "name": "stdout",
     "output_type": "stream",
     "text": [
      "2277179830768\n",
      "2277179830448\n"
     ]
    }
   ],
   "source": [
    "a = 582\n",
    "b = 582\n",
    "\n",
    "print(id(a))\n",
    "print(id(b))"
   ]
  },
  {
   "cell_type": "code",
   "execution_count": 44,
   "id": "6dcd1d6b-caed-410c-ac09-a4dc5134867a",
   "metadata": {},
   "outputs": [
    {
     "data": {
      "text/plain": [
       "True"
      ]
     },
     "execution_count": 44,
     "metadata": {},
     "output_type": "execute_result"
    }
   ],
   "source": [
    "a == b"
   ]
  },
  {
   "cell_type": "code",
   "execution_count": 45,
   "id": "74b781e3-65b4-4b34-9dc3-d94889698e84",
   "metadata": {},
   "outputs": [
    {
     "data": {
      "text/plain": [
       "False"
      ]
     },
     "execution_count": 45,
     "metadata": {},
     "output_type": "execute_result"
    }
   ],
   "source": [
    "a is b"
   ]
  },
  {
   "cell_type": "markdown",
   "id": "7be7398c-9c8b-4ea2-9fb5-b154cc5d82bc",
   "metadata": {},
   "source": [
    "# Assignment OP\n",
    "- =,+=,-=,*=,/=,**=,%="
   ]
  },
  {
   "cell_type": "code",
   "execution_count": 46,
   "id": "536ddccd-6fe9-44a2-8eaf-e798627aef12",
   "metadata": {},
   "outputs": [
    {
     "name": "stdout",
     "output_type": "stream",
     "text": [
      "20\n"
     ]
    }
   ],
   "source": [
    "a = 5\n",
    "a = a+15\n",
    "\n",
    "print(a)"
   ]
  },
  {
   "cell_type": "code",
   "execution_count": 47,
   "id": "1e054bc6-20d9-4f48-ad0f-bdefaf24fffc",
   "metadata": {},
   "outputs": [
    {
     "name": "stdout",
     "output_type": "stream",
     "text": [
      "60\n"
     ]
    }
   ],
   "source": [
    "a = 50\n",
    "a+=10\n",
    "print(a)"
   ]
  },
  {
   "cell_type": "code",
   "execution_count": 48,
   "id": "ee854928-ed24-4bc7-8834-eaf61484df59",
   "metadata": {},
   "outputs": [
    {
     "name": "stdout",
     "output_type": "stream",
     "text": [
      "40\n"
     ]
    }
   ],
   "source": [
    "a=50\n",
    "a-=10\n",
    "print(a)"
   ]
  },
  {
   "cell_type": "code",
   "execution_count": 49,
   "id": "4473a92a-eaa9-472a-bca8-add3492a9077",
   "metadata": {},
   "outputs": [
    {
     "name": "stdout",
     "output_type": "stream",
     "text": [
      "500\n"
     ]
    }
   ],
   "source": [
    "a=50\n",
    "a*=10\n",
    "print(a)"
   ]
  },
  {
   "cell_type": "code",
   "execution_count": 52,
   "id": "f235f078-974f-45d8-879a-183678e9a68b",
   "metadata": {},
   "outputs": [
    {
     "name": "stdout",
     "output_type": "stream",
     "text": [
      "5.4\n"
     ]
    }
   ],
   "source": [
    "a=54\n",
    "a/=10\n",
    "print(a)"
   ]
  },
  {
   "cell_type": "code",
   "execution_count": 53,
   "id": "8e7dddbf-1437-496e-9fd5-86b4f258ab9e",
   "metadata": {},
   "outputs": [
    {
     "name": "stdout",
     "output_type": "stream",
     "text": [
      "5\n"
     ]
    }
   ],
   "source": [
    "a=54\n",
    "a//=10\n",
    "print(a)"
   ]
  },
  {
   "cell_type": "code",
   "execution_count": 54,
   "id": "7984acab-5745-41a4-9f14-1ce1bd663e28",
   "metadata": {},
   "outputs": [
    {
     "name": "stdout",
     "output_type": "stream",
     "text": [
      "2500\n"
     ]
    }
   ],
   "source": [
    "a=50\n",
    "a**=2\n",
    "print(a)"
   ]
  },
  {
   "cell_type": "markdown",
   "id": "6c3705cc-389f-40e8-9951-d5f645c76694",
   "metadata": {},
   "source": [
    "# Bitwise OP\n",
    "- &,|,^,~,<<,>>"
   ]
  },
  {
   "cell_type": "code",
   "execution_count": 56,
   "id": "8983fcd3-c895-44db-bd7d-e6964450431f",
   "metadata": {},
   "outputs": [
    {
     "data": {
      "text/plain": [
       "2"
      ]
     },
     "execution_count": 56,
     "metadata": {},
     "output_type": "execute_result"
    }
   ],
   "source": [
    "# Bitwise op: bit level pe ja ke solve karna:  0,1\n",
    "a = 23 #010111\n",
    "b = 34 #100010\n",
    "       #000010\n",
    "\n",
    "a & b"
   ]
  },
  {
   "cell_type": "code",
   "execution_count": 57,
   "id": "3d9b3916-2329-428b-8311-a692969e854a",
   "metadata": {},
   "outputs": [
    {
     "data": {
      "text/plain": [
       "55"
      ]
     },
     "execution_count": 57,
     "metadata": {},
     "output_type": "execute_result"
    }
   ],
   "source": [
    "# Bitwise op: bit level pe ja ke solve karna:  0,1\n",
    "a = 23 #010111\n",
    "b = 34 #100010\n",
    "       #110111\n",
    "\n",
    "a | b"
   ]
  },
  {
   "cell_type": "code",
   "execution_count": 58,
   "id": "17f3ac00-cac4-469d-8619-bf96b7273000",
   "metadata": {},
   "outputs": [
    {
     "data": {
      "text/plain": [
       "-46"
      ]
     },
     "execution_count": 58,
     "metadata": {},
     "output_type": "execute_result"
    }
   ],
   "source": [
    "a = 45\n",
    "~a"
   ]
  },
  {
   "cell_type": "code",
   "execution_count": 59,
   "id": "2645c8cc-11dc-4d14-9850-cc050227c3ee",
   "metadata": {},
   "outputs": [
    {
     "data": {
      "text/plain": [
       "21"
      ]
     },
     "execution_count": 59,
     "metadata": {},
     "output_type": "execute_result"
    }
   ],
   "source": [
    "a = 45 #101101\n",
    "b = 56 #111000\n",
    "        #010101\n",
    "\n",
    "a^b"
   ]
  },
  {
   "cell_type": "code",
   "execution_count": 61,
   "id": "481c09b5-6065-4400-91c7-4aaf0392c31e",
   "metadata": {},
   "outputs": [
    {
     "data": {
      "text/plain": [
       "64"
      ]
     },
     "execution_count": 61,
     "metadata": {},
     "output_type": "execute_result"
    }
   ],
   "source": [
    "a = 4 # 10110100 # result twice\n",
    "a << 4   #4*2*2*2*2"
   ]
  },
  {
   "cell_type": "code",
   "execution_count": 62,
   "id": "504c8a66-6f63-44a5-8f14-2654ec7f82d6",
   "metadata": {},
   "outputs": [
    {
     "data": {
      "text/plain": [
       "0"
      ]
     },
     "execution_count": 62,
     "metadata": {},
     "output_type": "execute_result"
    }
   ],
   "source": [
    "a = 4 # result half\n",
    "\n",
    "a>>3 #4/2/2/2\n"
   ]
  },
  {
   "cell_type": "code",
   "execution_count": 68,
   "id": "14de9bad-3556-4b3e-b81f-d4c61678bb08",
   "metadata": {},
   "outputs": [
    {
     "name": "stderr",
     "output_type": "stream",
     "text": [
      "'https:' is not recognized as an internal or external command,\n",
      "operable program or batch file.\n"
     ]
    }
   ],
   "source": []
  },
  {
   "cell_type": "code",
   "execution_count": null,
   "id": "8d523cb1-307b-491d-8806-547142e68696",
   "metadata": {},
   "outputs": [],
   "source": []
  }
 ],
 "metadata": {
  "kernelspec": {
   "display_name": "Python [conda env:base] *",
   "language": "python",
   "name": "conda-base-py"
  },
  "language_info": {
   "codemirror_mode": {
    "name": "ipython",
    "version": 3
   },
   "file_extension": ".py",
   "mimetype": "text/x-python",
   "name": "python",
   "nbconvert_exporter": "python",
   "pygments_lexer": "ipython3",
   "version": "3.12.7"
  }
 },
 "nbformat": 4,
 "nbformat_minor": 5
}
