{
 "cells": [
  {
   "cell_type": "markdown",
   "id": "491a4696-054f-4c09-88e4-269f98073981",
   "metadata": {},
   "source": [
    "# Conditional Programming"
   ]
  },
  {
   "cell_type": "code",
   "execution_count": 2,
   "id": "6665ed15-8f09-4bf2-861f-d81f27157f6f",
   "metadata": {},
   "outputs": [],
   "source": [
    "# Condition Program Execute\n",
    "\n",
    "#if , else , elif"
   ]
  },
  {
   "cell_type": "code",
   "execution_count": 4,
   "id": "94dff835-9e9a-4eca-9e53-662c1d4b91d0",
   "metadata": {},
   "outputs": [
    {
     "name": "stdout",
     "output_type": "stream",
     "text": [
      "You can vote!!\n"
     ]
    }
   ],
   "source": [
    "age = 23\n",
    "if age >= 18 :\n",
    "    print(\"You can vote!!\")\n",
    "else : \n",
    "    print(\"You can't vote!!\")"
   ]
  },
  {
   "cell_type": "code",
   "execution_count": 6,
   "id": "afc0868d-b0de-4103-b424-4221b54174b1",
   "metadata": {},
   "outputs": [
    {
     "name": "stdin",
     "output_type": "stream",
     "text": [
      "Enter number:  45\n"
     ]
    },
    {
     "name": "stdout",
     "output_type": "stream",
     "text": [
      "You can Vote!!👍\n"
     ]
    }
   ],
   "source": [
    "age = int(input(\"Enter number: \"))\n",
    "\n",
    "if age >= 18:\n",
    "    print(\"You can Vote!!👍\")\n",
    "else:\n",
    "    print(\"You can't vote !!❌\")\n",
    "\n",
    "    "
   ]
  },
  {
   "cell_type": "code",
   "execution_count": 7,
   "id": "d367b2a9-ae6b-460b-ba79-f82d396d01a1",
   "metadata": {},
   "outputs": [
    {
     "name": "stdout",
     "output_type": "stream",
     "text": [
      "Target Not Achieved ❌\n"
     ]
    }
   ],
   "source": [
    "sales_target = 5500000\n",
    "sales_achieved = 4500000\n",
    "\n",
    "if sales_achieved >= sales_target:\n",
    "    print('Target Achieved👍')\n",
    "else:\n",
    "    print('Target Not Achieved ❌')"
   ]
  },
  {
   "cell_type": "markdown",
   "id": "9a9e3d36-24a1-4a41-bdf5-5b8fdcb5fb65",
   "metadata": {},
   "source": [
    "# Number Guess Game"
   ]
  },
  {
   "cell_type": "code",
   "execution_count": 45,
   "id": "2597e8f8-3381-46ba-ba47-57cebc2285df",
   "metadata": {
    "jp-MarkdownHeadingCollapsed": true
   },
   "outputs": [
    {
     "name": "stdout",
     "output_type": "stream",
     "text": [
      "*****************************************Check your luck!!******************************************\n"
     ]
    },
    {
     "name": "stdin",
     "output_type": "stream",
     "text": [
      "Enter number : 1\n"
     ]
    },
    {
     "name": "stdout",
     "output_type": "stream",
     "text": [
      "Wait!!\n",
      "\n",
      "Computer Choice :3\n",
      "user Choice :1\n",
      "\n",
      "Better Luck Next time 😒\n"
     ]
    }
   ],
   "source": [
    "import random\n",
    "import time\n",
    "\n",
    "print('Check your luck!!'.center(100,'*'))\n",
    "\n",
    "comp_choice = random.randint(1,3)\n",
    "user_choice = input(\"Enter number :\")\n",
    "\n",
    "print('Wait!!')\n",
    "time.sleep(1)\n",
    "\n",
    "print(f'''\n",
    "Computer Choice :{comp_choice}\n",
    "user Choice :{user_choice}\n",
    "''')\n",
    "\n",
    "if user_choice == comp_choice:\n",
    "    print(\"You Won ✌\")\n",
    "else:\n",
    "    print(\"Better Luck Next time 😒\")"
   ]
  },
  {
   "cell_type": "markdown",
   "id": "635dcb3f-c430-4c92-b4ed-41f07b8a2ef8",
   "metadata": {},
   "source": [
    "# ROCK PAPER SCISSORS Game"
   ]
  },
  {
   "cell_type": "code",
   "execution_count": 42,
   "id": "191e4f6f-6a54-41c0-9ff6-11190f86fed6",
   "metadata": {},
   "outputs": [
    {
     "name": "stdin",
     "output_type": "stream",
     "text": [
      "Enter Your Choice['Rock', 'Paper', 'Scissor']:  Scissor\n"
     ]
    },
    {
     "name": "stdout",
     "output_type": "stream",
     "text": [
      " \n",
      "computer choice:Rock\n",
      "user_choice:Scissor\n",
      "\n",
      "Computer Won <> User Lose !!\n"
     ]
    }
   ],
   "source": [
    "import random\n",
    "choices = ['Rock','Paper','Scissor']\n",
    "comp_choice = random.choice(choices)\n",
    "user_choice = input(f'Enter Your Choice{choices}: ')\n",
    "\n",
    "print(f''' \n",
    "computer choice:{comp_choice}\n",
    "user_choice:{user_choice}\n",
    "''')\n",
    "\n",
    "if user_choice in choices:\n",
    "\n",
    "    if comp_choice == user_choice:\n",
    "        print(\"Draw Tie!!\")\n",
    "        \n",
    "    elif comp_choice ==\"Rock\":\n",
    "        if user_choice ==\"Paper\":\n",
    "            print('User Won <> Computer Lose !!')\n",
    "        else:\n",
    "            print('Computer Won <> User Lose !!')\n",
    "\n",
    "    elif comp_choice ==\"Paper\":\n",
    "        if user_choice == \"Scissor\":\n",
    "            print('User Won <> Computer Lose !!')\n",
    "        else:\n",
    "            print('Computer Won <> User Lose !!')\n",
    "\n",
    "    elif comp_choice ==\"Scissor\":\n",
    "        if user_choice ==\"Paper\":\n",
    "            print('User Won <> Computer Lose !!')\n",
    "        else:\n",
    "            print('Computer Won <> User Lose !!')\n",
    "\n",
    "else:\n",
    "    print(\"❌❌Invalid Input or Wrong Choice!!❌❌\")\n",
    "\n",
    "    \n"
   ]
  },
  {
   "cell_type": "markdown",
   "id": "0169eabe-daf8-4b25-8d3a-6f2adbeb8d68",
   "metadata": {},
   "source": [
    "# LogIn Form and OTP Validation"
   ]
  },
  {
   "cell_type": "code",
   "execution_count": null,
   "id": "f259c750-ec60-43f9-a1cb-2225462800f1",
   "metadata": {},
   "outputs": [],
   "source": []
  },
  {
   "cell_type": "code",
   "execution_count": 11,
   "id": "9e6e3c5f-51c5-4e34-9ed9-e0847a3c17f6",
   "metadata": {},
   "outputs": [
    {
     "name": "stdin",
     "output_type": "stream",
     "text": [
      "Enter Name :  sa\n",
      "Enter User Id :  sa\n",
      "Enter Password :  sa\n"
     ]
    },
    {
     "name": "stdout",
     "output_type": "stream",
     "text": [
      "Your account has been created Successfully!!\n",
      "\n",
      "\n"
     ]
    },
    {
     "name": "stdin",
     "output_type": "stream",
     "text": [
      "Want to login? s\n"
     ]
    },
    {
     "name": "stdout",
     "output_type": "stream",
     "text": [
      "Thanks for your Visit!!\n"
     ]
    }
   ],
   "source": [
    "import random\n",
    "import time\n",
    "user_name = input(\"Enter Name : \")\n",
    "user_id = input(\"Enter User Id : \")\n",
    "user_pwd = input(\"Enter Password : \")\n",
    "\n",
    "print('Your account has been created Successfully!!')\n",
    "print('\\n')\n",
    "\n",
    "ans = input('Want to login?')\n",
    "\n",
    "if ans == 'yes':\n",
    "    uid = input(\"Enter user ID : \")\n",
    "    pwd = input(\"Enter Password : \")\n",
    "\n",
    "    if (user_id == uid) and (user_pwd == pwd):\n",
    "        print(f'Welcome {user_name} , How are You ??')\n",
    "    else:\n",
    "        print('Incorrect ID OR Password')\n",
    "        print('\\n')\n",
    "        forget_ans = input('Forget ID or Passsword: ')\n",
    "        if forget_ans == 'yes':\n",
    "            email=input(\"Enter Your Mail : \")\n",
    "            phone_no = int(input(\"Enter Your Registered Phone Number : \"))\n",
    "\n",
    "            print('\\n')\n",
    "            otp = random.randint(1111,9999)\n",
    "            print('Sending OTP!!')\n",
    "            time.sleep(2)\n",
    "            print(f'Your OTP is : {otp}')\n",
    "\n",
    "            print('\\n')\n",
    "            otp_ans = int(input('Enter OTP : '))\n",
    "            if otp_ans == otp:\n",
    "                print('Your ID & Password has been sent to your Mail !!')\n",
    "            else:\n",
    "                print('Incorrect OTP')\n",
    "                print('Attemp Left 0')\n",
    "\n",
    "else:\n",
    "    print('Thanks for your Visit!!')\n",
    "    "
   ]
  },
  {
   "cell_type": "code",
   "execution_count": null,
   "id": "9df14897-ec57-4bfb-a177-783838804905",
   "metadata": {},
   "outputs": [],
   "source": []
  }
 ],
 "metadata": {
  "kernelspec": {
   "display_name": "Python [conda env:base] *",
   "language": "python",
   "name": "conda-base-py"
  },
  "language_info": {
   "codemirror_mode": {
    "name": "ipython",
    "version": 3
   },
   "file_extension": ".py",
   "mimetype": "text/x-python",
   "name": "python",
   "nbconvert_exporter": "python",
   "pygments_lexer": "ipython3",
   "version": "3.12.7"
  }
 },
 "nbformat": 4,
 "nbformat_minor": 5
}
