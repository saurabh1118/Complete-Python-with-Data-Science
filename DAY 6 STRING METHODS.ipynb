{
 "cells": [
  {
   "cell_type": "code",
   "execution_count": 1,
   "id": "014511b1-e49b-4532-aa34-9937e3856bfd",
   "metadata": {
    "jp-MarkdownHeadingCollapsed": true
   },
   "outputs": [],
   "source": [
    "# String methods\n",
    "\n",
    "# a.expandtabs()\n",
    "# a.capitalize()\n",
    "# a.center(100,'*')\n",
    "# a.count('s')\n",
    "# a.endswith('musk')\n",
    "# a.expandtabs()\n",
    "# a.find\n",
    "# a.format\n",
    "# a.index\n",
    "# a.isdigit\n",
    "# a.join\n",
    "# a.lower\n",
    "# a.ljust\n",
    "# a.rjust\n",
    "# a.removeprefix\n",
    "# a.title\n",
    "# a.zfill\n",
    "# a.split\n",
    "# a.splitlines\n",
    "# a.swapcase\n",
    "# a.format_map\n"
   ]
  },
  {
   "cell_type": "code",
   "execution_count": 3,
   "id": "a9dba837-a47a-4cf0-9fb9-c810ce9d4ba3",
   "metadata": {},
   "outputs": [
    {
     "name": "stdout",
     "output_type": "stream",
     "text": [
      "this                is                  elon                musk\n"
     ]
    }
   ],
   "source": [
    "a = 'this\\tis\\telon\\tmusk'\n",
    "print(a.expandtabs(20))"
   ]
  },
  {
   "cell_type": "code",
   "execution_count": 4,
   "id": "ac0c82df-8082-4b21-baa1-b3f7c6410b06",
   "metadata": {},
   "outputs": [
    {
     "data": {
      "text/plain": [
       "7"
      ]
     },
     "execution_count": 4,
     "metadata": {},
     "output_type": "execute_result"
    }
   ],
   "source": [
    "a = 'Python is Awasome'\n",
    "\n",
    "a.find('is') #return the starting index of matching value"
   ]
  },
  {
   "cell_type": "code",
   "execution_count": 5,
   "id": "eeeb5437-19f0-41b0-b08f-3a16495e99aa",
   "metadata": {},
   "outputs": [
    {
     "data": {
      "text/plain": [
       "7"
      ]
     },
     "execution_count": 5,
     "metadata": {},
     "output_type": "execute_result"
    }
   ],
   "source": [
    "a.index('is')"
   ]
  },
  {
   "cell_type": "code",
   "execution_count": 6,
   "id": "ff6ba112-9aa8-4552-8274-8c6592653fce",
   "metadata": {},
   "outputs": [
    {
     "name": "stdout",
     "output_type": "stream",
     "text": [
      "['Python', 'is', 'Popular', 'programming', 'language']\n"
     ]
    }
   ],
   "source": [
    "a = ['Python','is','Popular','programming','language']\n",
    "\n",
    "print(a)"
   ]
  },
  {
   "cell_type": "code",
   "execution_count": 8,
   "id": "3a602f2a-2c68-4fdc-8986-11090ae17853",
   "metadata": {},
   "outputs": [
    {
     "data": {
      "text/plain": [
       "'Python_is_Popular_programming_language'"
      ]
     },
     "execution_count": 8,
     "metadata": {},
     "output_type": "execute_result"
    }
   ],
   "source": [
    "ans='_'\n",
    "ans.join(a)#join:add the list item with the given value/parameter"
   ]
  },
  {
   "cell_type": "code",
   "execution_count": 9,
   "id": "f393b9b3-1113-45e9-ac14-6c33d7644c20",
   "metadata": {},
   "outputs": [
    {
     "data": {
      "text/plain": [
       "'h o l l y w o o d'"
      ]
     },
     "execution_count": 9,
     "metadata": {},
     "output_type": "execute_result"
    }
   ],
   "source": [
    "data = ['h','o','l','l','y','w','o','o','d']\n",
    "\n",
    "' '.join(data)"
   ]
  },
  {
   "cell_type": "code",
   "execution_count": 10,
   "id": "2e961706-b0f4-4449-9a62-0459da8f3dd2",
   "metadata": {},
   "outputs": [
    {
     "data": {
      "text/plain": [
       "'harry*****'"
      ]
     },
     "execution_count": 10,
     "metadata": {},
     "output_type": "execute_result"
    }
   ],
   "source": [
    "a = 'harry'\n",
    "\n",
    "a.ljust(10,'*')"
   ]
  },
  {
   "cell_type": "code",
   "execution_count": 11,
   "id": "dc21b3c0-5a2d-4ae8-ada2-43e6be361ba5",
   "metadata": {},
   "outputs": [
    {
     "data": {
      "text/plain": [
       "'####potter'"
      ]
     },
     "execution_count": 11,
     "metadata": {},
     "output_type": "execute_result"
    }
   ],
   "source": [
    "a = 'potter'\n",
    "\n",
    "a.rjust(10,'#')"
   ]
  },
  {
   "cell_type": "code",
   "execution_count": 12,
   "id": "ddfab11a-d541-4551-b40a-349743f14a10",
   "metadata": {},
   "outputs": [
    {
     "data": {
      "text/plain": [
       "'Harry'"
      ]
     },
     "execution_count": 12,
     "metadata": {},
     "output_type": "execute_result"
    }
   ],
   "source": [
    "a='Mr Harry'\n",
    "\n",
    "a.removeprefix('Mr ')"
   ]
  },
  {
   "cell_type": "code",
   "execution_count": 13,
   "id": "8b7e0f74-ff50-4aad-9179-0b71a0f80a02",
   "metadata": {},
   "outputs": [
    {
     "data": {
      "text/plain": [
       "'HARRY '"
      ]
     },
     "execution_count": 13,
     "metadata": {},
     "output_type": "execute_result"
    }
   ],
   "source": [
    "a = 'Mr Harry NOIDA'\n",
    "\n",
    "a.removesuffix('NOIDA').removeprefix('Mr ').upper()"
   ]
  },
  {
   "cell_type": "code",
   "execution_count": 14,
   "id": "c5edea2f-13c6-4114-806e-a972ec0abb07",
   "metadata": {},
   "outputs": [
    {
     "data": {
      "text/plain": [
       "'This Is Elon Musk'"
      ]
     },
     "execution_count": 14,
     "metadata": {},
     "output_type": "execute_result"
    }
   ],
   "source": [
    "a = 'this is elon musk'\n",
    "\n",
    "a.title()"
   ]
  },
  {
   "cell_type": "code",
   "execution_count": 15,
   "id": "3a0b296c-18f5-4916-bb5e-a1bf385a7bf2",
   "metadata": {},
   "outputs": [
    {
     "data": {
      "text/plain": [
       "'000000000hello world'"
      ]
     },
     "execution_count": 15,
     "metadata": {},
     "output_type": "execute_result"
    }
   ],
   "source": [
    "a = 'hello world'\n",
    "\n",
    "a.zfill(20)"
   ]
  },
  {
   "cell_type": "code",
   "execution_count": 16,
   "id": "52ce8838-5610-48d0-a9b4-51071b8377be",
   "metadata": {},
   "outputs": [
    {
     "name": "stdout",
     "output_type": "stream",
     "text": [
      "00056\n",
      "06798\n",
      "98456\n"
     ]
    }
   ],
   "source": [
    "a = '56'\n",
    "b = '6798'\n",
    "c = '98456'\n",
    "\n",
    "print(a.zfill(5))\n",
    "\n",
    "print(b.zfill(5))\n",
    "\n",
    "print(c.zfill(5))"
   ]
  },
  {
   "cell_type": "code",
   "execution_count": 17,
   "id": "44f333c9-24fe-4258-92b8-c558a3b1c29f",
   "metadata": {},
   "outputs": [
    {
     "data": {
      "text/plain": [
       "['this', 'is', 'elon', 'musk']"
      ]
     },
     "execution_count": 17,
     "metadata": {},
     "output_type": "execute_result"
    }
   ],
   "source": [
    "#a.split\n",
    "#a.splitlines\n",
    "\n",
    "a = 'this is elon musk'\n",
    "\n",
    "a.split(' ')"
   ]
  },
  {
   "cell_type": "code",
   "execution_count": 19,
   "id": "f769bbfd-066d-4070-b0bc-4d28bd16e946",
   "metadata": {},
   "outputs": [
    {
     "name": "stdout",
     "output_type": "stream",
     "text": [
      "this\n",
      "is\n",
      "elon\n",
      "musk\n"
     ]
    }
   ],
   "source": [
    "a = 'this\\nis\\nelon\\nmusk'\n",
    "print(a)"
   ]
  },
  {
   "cell_type": "code",
   "execution_count": 20,
   "id": "4742c940-05da-42ac-8d3a-a6c0072c07b4",
   "metadata": {},
   "outputs": [
    {
     "data": {
      "text/plain": [
       "['this', 'is', 'elon', 'musk']"
      ]
     },
     "execution_count": 20,
     "metadata": {},
     "output_type": "execute_result"
    }
   ],
   "source": [
    "a.split('\\n')"
   ]
  },
  {
   "cell_type": "code",
   "execution_count": 21,
   "id": "94c0b97f-78c5-4f5e-8086-42271f025c2f",
   "metadata": {},
   "outputs": [
    {
     "data": {
      "text/plain": [
       "['this', 'is', 'elon', 'musk']"
      ]
     },
     "execution_count": 21,
     "metadata": {},
     "output_type": "execute_result"
    }
   ],
   "source": [
    "a.splitlines()"
   ]
  },
  {
   "cell_type": "code",
   "execution_count": 22,
   "id": "f6adbc49-b32a-469f-aa7d-812d84dd58cd",
   "metadata": {},
   "outputs": [
    {
     "data": {
      "text/plain": [
       "'THIS  IS eLON musK'"
      ]
     },
     "execution_count": 22,
     "metadata": {},
     "output_type": "execute_result"
    }
   ],
   "source": [
    "a = 'this  is Elon MUSk'\n",
    "\n",
    "a.swapcase()"
   ]
  },
  {
   "cell_type": "code",
   "execution_count": 23,
   "id": "2f608a5a-5039-4513-82c8-91e7b0ae3b35",
   "metadata": {},
   "outputs": [
    {
     "data": {
      "text/plain": [
       "'I have kia car having price is 987876 and Model is 2025'"
      ]
     },
     "execution_count": 23,
     "metadata": {},
     "output_type": "execute_result"
    }
   ],
   "source": [
    "data = {'car':'kia', 'price':987876, 'M':2025}\n",
    "\n",
    "msg = 'I have {car} car having price is {price} and Model is {M}'\n",
    "\n",
    "msg.format_map(data)"
   ]
  },
  {
   "cell_type": "code",
   "execution_count": null,
   "id": "e23de8b8-b079-478e-b470-33eab817dd4c",
   "metadata": {},
   "outputs": [],
   "source": []
  },
  {
   "cell_type": "markdown",
   "id": "4409f783-e3e0-460e-8769-5ca7015523fb",
   "metadata": {},
   "source": [
    "# Data Type\n",
    "\n",
    "## List"
   ]
  },
  {
   "cell_type": "code",
   "execution_count": 24,
   "id": "d08f301f-8ff4-4640-bc00-ee7677a08593",
   "metadata": {},
   "outputs": [],
   "source": [
    "data = [123,4,90.8,'Mohan',[2,3,54],(23,6,5),{23,64,45},{'Name':'Mohan'},True]"
   ]
  },
  {
   "cell_type": "code",
   "execution_count": 25,
   "id": "512159d5-3e9c-46bd-a36d-e164444c0fcf",
   "metadata": {},
   "outputs": [
    {
     "name": "stdout",
     "output_type": "stream",
     "text": [
      "[123, 4, 90.8, 'Mohan', [2, 3, 54], (23, 6, 5), {64, 45, 23}, {'Name': 'Mohan'}, True]\n"
     ]
    }
   ],
   "source": [
    "print(data)"
   ]
  },
  {
   "cell_type": "code",
   "execution_count": 26,
   "id": "6cc9026f-216a-4734-8bcd-e4b764cd540d",
   "metadata": {},
   "outputs": [],
   "source": [
    "# sequence : Indexing : mutable : elements change"
   ]
  },
  {
   "cell_type": "code",
   "execution_count": 7,
   "id": "5984b638-827a-4352-aa4e-a61a600a697c",
   "metadata": {},
   "outputs": [],
   "source": [
    "students = ['Kanishk','Ekansh','Mohan','Ravi','Jatin','Uday']"
   ]
  },
  {
   "cell_type": "code",
   "execution_count": 28,
   "id": "2cd9e7b9-e4f8-4a48-a818-4ab9ed426ab4",
   "metadata": {},
   "outputs": [
    {
     "data": {
      "text/plain": [
       "'Mohan'"
      ]
     },
     "execution_count": 28,
     "metadata": {},
     "output_type": "execute_result"
    }
   ],
   "source": [
    "students[2]"
   ]
  },
  {
   "cell_type": "code",
   "execution_count": 11,
   "id": "114e9db6-d68f-4262-a227-056c2d6ff013",
   "metadata": {},
   "outputs": [],
   "source": [
    "students[2] = 'Mohan Khanna'\n"
   ]
  },
  {
   "cell_type": "code",
   "execution_count": 12,
   "id": "f10c3784-19a3-4f9b-909e-edb5cb7eebf5",
   "metadata": {},
   "outputs": [
    {
     "data": {
      "text/plain": [
       "['Kanishk', 'Ekansh', 'Mohan Khanna', 'Ravi', 'Jatin', 'Uday Shetty']"
      ]
     },
     "execution_count": 12,
     "metadata": {},
     "output_type": "execute_result"
    }
   ],
   "source": [
    "students"
   ]
  },
  {
   "cell_type": "code",
   "execution_count": 13,
   "id": "612db6d6-4409-4d77-b61e-bb36d04720e5",
   "metadata": {},
   "outputs": [],
   "source": [
    "students[-1] = 'Uday Shetty'"
   ]
  },
  {
   "cell_type": "code",
   "execution_count": 14,
   "id": "6e12db6f-2fb5-469a-9c1e-1aa730e5c165",
   "metadata": {},
   "outputs": [
    {
     "data": {
      "text/plain": [
       "['Kanishk', 'Ekansh', 'Mohan Khanna', 'Ravi', 'Jatin', 'Uday Shetty']"
      ]
     },
     "execution_count": 14,
     "metadata": {},
     "output_type": "execute_result"
    }
   ],
   "source": [
    "students"
   ]
  },
  {
   "cell_type": "code",
   "execution_count": 34,
   "id": "98d38f83-a8fa-4a7f-b6ae-5232c573992d",
   "metadata": {},
   "outputs": [],
   "source": [
    "#reverse list"
   ]
  },
  {
   "cell_type": "code",
   "execution_count": 35,
   "id": "f6d77b3e-829f-4183-a7d4-1f32d537ed4b",
   "metadata": {},
   "outputs": [
    {
     "data": {
      "text/plain": [
       "['Uday Shetty', 'Jatin', 'Ravi', 'Mohan Khanna', 'Ekansh', 'Kanishk']"
      ]
     },
     "execution_count": 35,
     "metadata": {},
     "output_type": "execute_result"
    }
   ],
   "source": [
    "students[::-1]"
   ]
  },
  {
   "cell_type": "code",
   "execution_count": 36,
   "id": "ad6fe1b8-fe83-4939-9bc7-a26928c4d8b8",
   "metadata": {},
   "outputs": [],
   "source": [
    "# Nested List\n"
   ]
  },
  {
   "cell_type": "code",
   "execution_count": 37,
   "id": "a8d84497-2cdc-463a-834b-4f8adbf181a9",
   "metadata": {},
   "outputs": [],
   "source": [
    "data = ['Naman','Ajay',['Bank1',['Locker 1',5689]]]"
   ]
  },
  {
   "cell_type": "code",
   "execution_count": 38,
   "id": "86f5cea0-bc7b-496a-8f2f-846a1523f395",
   "metadata": {},
   "outputs": [
    {
     "data": {
      "text/plain": [
       "['Naman', 'Ajay', ['Bank1', ['Locker 1', 5689]]]"
      ]
     },
     "execution_count": 38,
     "metadata": {},
     "output_type": "execute_result"
    }
   ],
   "source": [
    "data"
   ]
  },
  {
   "cell_type": "code",
   "execution_count": 39,
   "id": "7cd2b53c-bfd6-4df0-b3f0-b09034c74f36",
   "metadata": {},
   "outputs": [
    {
     "data": {
      "text/plain": [
       "5689"
      ]
     },
     "execution_count": 39,
     "metadata": {},
     "output_type": "execute_result"
    }
   ],
   "source": [
    "#5689\n",
    "\n",
    "data[2][1][1]"
   ]
  },
  {
   "cell_type": "code",
   "execution_count": 40,
   "id": "0141f297-df07-4bdb-bf08-7244572e54e0",
   "metadata": {},
   "outputs": [],
   "source": [
    "data[2][1][1] = 85208520"
   ]
  },
  {
   "cell_type": "code",
   "execution_count": 41,
   "id": "4b45c5f5-bfad-4ed1-95ed-157a4a8a6fb2",
   "metadata": {},
   "outputs": [
    {
     "data": {
      "text/plain": [
       "['Naman', 'Ajay', ['Bank1', ['Locker 1', 85208520]]]"
      ]
     },
     "execution_count": 41,
     "metadata": {},
     "output_type": "execute_result"
    }
   ],
   "source": [
    "data"
   ]
  },
  {
   "cell_type": "code",
   "execution_count": 42,
   "id": "e54da600-5bfa-4437-b5a2-1774ded4382a",
   "metadata": {},
   "outputs": [],
   "source": [
    "\n",
    "data = [[[[34,[45,[67,56,[45,[56],5690]]]]]]]"
   ]
  },
  {
   "cell_type": "code",
   "execution_count": 43,
   "id": "8e849b38-75a3-40dd-82bc-24c28238ac73",
   "metadata": {},
   "outputs": [
    {
     "data": {
      "text/plain": [
       "[[[[34, [45, [67, 56, [45, [56], 5690]]]]]]]"
      ]
     },
     "execution_count": 43,
     "metadata": {},
     "output_type": "execute_result"
    }
   ],
   "source": [
    "data"
   ]
  },
  {
   "cell_type": "code",
   "execution_count": 54,
   "id": "822fd909-1b4a-4275-9404-ca49e35f4502",
   "metadata": {},
   "outputs": [],
   "source": [
    "#56\n",
    "\n",
    "data[0][0][0][1][1][2][1] = 10101010\n"
   ]
  },
  {
   "cell_type": "code",
   "execution_count": 55,
   "id": "1cc34efb-9d2c-4ab4-bf9a-0d3c47563ec9",
   "metadata": {},
   "outputs": [
    {
     "data": {
      "text/plain": [
       "[[[[34, [45, [67, 56, [45, 10101010, 5690]]]]]]]"
      ]
     },
     "execution_count": 55,
     "metadata": {},
     "output_type": "execute_result"
    }
   ],
   "source": [
    "data"
   ]
  },
  {
   "cell_type": "code",
   "execution_count": null,
   "id": "683e7cb5-4e12-4282-ace0-e32127a50320",
   "metadata": {},
   "outputs": [],
   "source": []
  },
  {
   "cell_type": "markdown",
   "id": "894ef6de-0bfc-40e0-8e2a-ed9bd2a37c6d",
   "metadata": {},
   "source": [
    "# OP"
   ]
  },
  {
   "cell_type": "code",
   "execution_count": 1,
   "id": "7723d366-ec97-418c-8b41-a41f8c666bd8",
   "metadata": {},
   "outputs": [],
   "source": [
    "a = [3445,569,7]\n",
    "b = [458,45,9]"
   ]
  },
  {
   "cell_type": "code",
   "execution_count": 3,
   "id": "4d92556d-4b6e-45ba-bff7-3e8d51b08dda",
   "metadata": {},
   "outputs": [
    {
     "data": {
      "text/plain": [
       "[3445, 569, 7, 458, 45, 9]"
      ]
     },
     "execution_count": 3,
     "metadata": {},
     "output_type": "execute_result"
    }
   ],
   "source": [
    "a + b"
   ]
  },
  {
   "cell_type": "code",
   "execution_count": 4,
   "id": "93fde1fa-91ff-4e53-a976-12cdcb5a3c92",
   "metadata": {},
   "outputs": [
    {
     "data": {
      "text/plain": [
       "[3445, 569, 7, 3445, 569, 7, 3445, 569, 7]"
      ]
     },
     "execution_count": 4,
     "metadata": {},
     "output_type": "execute_result"
    }
   ],
   "source": [
    "a * 3"
   ]
  },
  {
   "cell_type": "code",
   "execution_count": 5,
   "id": "e52f2784-5073-467b-a53c-e4dc13d63511",
   "metadata": {},
   "outputs": [
    {
     "data": {
      "text/plain": [
       "['HELLO', 'HELLO', 'HELLO', 'HELLO', 'HELLO']"
      ]
     },
     "execution_count": 5,
     "metadata": {},
     "output_type": "execute_result"
    }
   ],
   "source": [
    "a = ['HELLO']\n",
    "\n",
    "a * 5"
   ]
  },
  {
   "cell_type": "markdown",
   "id": "ac434438-9442-47ac-87f9-123b745a9d14",
   "metadata": {},
   "source": [
    "# Function"
   ]
  },
  {
   "cell_type": "code",
   "execution_count": 15,
   "id": "8a501639-5674-4a40-ba76-1075947d556c",
   "metadata": {},
   "outputs": [
    {
     "data": {
      "text/plain": [
       "['Kanishk', 'Ekansh', 'Mohan Khanna', 'Ravi', 'Jatin', 'Uday Shetty']"
      ]
     },
     "execution_count": 15,
     "metadata": {},
     "output_type": "execute_result"
    }
   ],
   "source": [
    "students"
   ]
  },
  {
   "cell_type": "code",
   "execution_count": 16,
   "id": "c65098ab-f6e3-4022-9abc-3201688e7f0a",
   "metadata": {},
   "outputs": [
    {
     "data": {
      "text/plain": [
       "6"
      ]
     },
     "execution_count": 16,
     "metadata": {},
     "output_type": "execute_result"
    }
   ],
   "source": [
    "len(students)"
   ]
  },
  {
   "cell_type": "code",
   "execution_count": 17,
   "id": "772f55e4-6a42-4918-8084-9bd1db47dced",
   "metadata": {},
   "outputs": [],
   "source": [
    "sales = [32,545,66,52,6,245,6,5,88,54,4,46,1,84,444,64,6]"
   ]
  },
  {
   "cell_type": "code",
   "execution_count": 18,
   "id": "e56038ef-602b-46a7-826e-bab58b234866",
   "metadata": {},
   "outputs": [
    {
     "data": {
      "text/plain": [
       "17"
      ]
     },
     "execution_count": 18,
     "metadata": {},
     "output_type": "execute_result"
    }
   ],
   "source": [
    "len(sales)"
   ]
  },
  {
   "cell_type": "code",
   "execution_count": 19,
   "id": "30a5f24c-34b3-487f-9ea9-342b2a0330c0",
   "metadata": {},
   "outputs": [
    {
     "data": {
      "text/plain": [
       "1"
      ]
     },
     "execution_count": 19,
     "metadata": {},
     "output_type": "execute_result"
    }
   ],
   "source": [
    "min(sales)"
   ]
  },
  {
   "cell_type": "code",
   "execution_count": 20,
   "id": "e54f5eaa-b7bf-4e48-8906-e4bd86b60adf",
   "metadata": {},
   "outputs": [
    {
     "data": {
      "text/plain": [
       "545"
      ]
     },
     "execution_count": 20,
     "metadata": {},
     "output_type": "execute_result"
    }
   ],
   "source": [
    "max(sales)"
   ]
  },
  {
   "cell_type": "code",
   "execution_count": 22,
   "id": "aa32b400-7dca-4895-92ac-8eda1493b8de",
   "metadata": {},
   "outputs": [
    {
     "name": "stdout",
     "output_type": "stream",
     "text": [
      "total sales :  1748\n"
     ]
    }
   ],
   "source": [
    "total_sales = sum(sales)\n",
    "\n",
    "print('total sales : ',total_sales)"
   ]
  },
  {
   "cell_type": "code",
   "execution_count": 23,
   "id": "b783cd40-5131-494c-bfc8-b0d4a83e9ab8",
   "metadata": {},
   "outputs": [
    {
     "data": {
      "text/plain": [
       "464"
      ]
     },
     "execution_count": 23,
     "metadata": {},
     "output_type": "execute_result"
    }
   ],
   "source": [
    "\n",
    "Q1_sales = [3,5,456]\n",
    "\n",
    "sum(Q1_sales)"
   ]
  },
  {
   "cell_type": "markdown",
   "id": "4bec5dce-eafa-4770-9213-3cf148f41d37",
   "metadata": {},
   "source": [
    "# List Methods"
   ]
  },
  {
   "cell_type": "code",
   "execution_count": 24,
   "id": "6915c4cc-3b0f-45d3-89c4-fc06ae60c99c",
   "metadata": {},
   "outputs": [],
   "source": [
    "a = [4,53,5,789]"
   ]
  },
  {
   "cell_type": "markdown",
   "id": "eeb4a847-6cd7-428d-976c-f282701c6e7d",
   "metadata": {},
   "source": [
    "# APPEND"
   ]
  },
  {
   "cell_type": "code",
   "execution_count": 25,
   "id": "e2ae8fec-a0cd-4bf4-b6d6-d16340c2a748",
   "metadata": {},
   "outputs": [
    {
     "data": {
      "text/plain": [
       "['Kanishk', 'Ekansh', 'Mohan Khanna', 'Ravi', 'Jatin', 'Uday Shetty']"
      ]
     },
     "execution_count": 25,
     "metadata": {},
     "output_type": "execute_result"
    }
   ],
   "source": [
    "students"
   ]
  },
  {
   "cell_type": "code",
   "execution_count": 26,
   "id": "b28d4eda-afa7-4b12-81c1-a6ffccf82ba0",
   "metadata": {},
   "outputs": [],
   "source": [
    "students.append('pawan')"
   ]
  },
  {
   "cell_type": "code",
   "execution_count": 27,
   "id": "8190497c-eb50-4f50-b19a-5ee158c3807a",
   "metadata": {},
   "outputs": [
    {
     "data": {
      "text/plain": [
       "['Kanishk', 'Ekansh', 'Mohan Khanna', 'Ravi', 'Jatin', 'Uday Shetty', 'pawan']"
      ]
     },
     "execution_count": 27,
     "metadata": {},
     "output_type": "execute_result"
    }
   ],
   "source": [
    "students"
   ]
  },
  {
   "cell_type": "code",
   "execution_count": 28,
   "id": "7cf4b62d-bdea-4894-b68f-634e058da321",
   "metadata": {},
   "outputs": [],
   "source": [
    "# inpiut function"
   ]
  },
  {
   "cell_type": "code",
   "execution_count": 29,
   "id": "e4e688f8-789a-4f0a-b4ae-7ca53a8f9901",
   "metadata": {},
   "outputs": [],
   "source": [
    "all_students = []"
   ]
  },
  {
   "cell_type": "code",
   "execution_count": null,
   "id": "54d9ec02-632b-4bcf-ad2f-8cc26ee0710d",
   "metadata": {},
   "outputs": [],
   "source": []
  },
  {
   "cell_type": "code",
   "execution_count": 32,
   "id": "9f317963-dd59-481c-be9c-cf18a3877398",
   "metadata": {},
   "outputs": [
    {
     "name": "stdin",
     "output_type": "stream",
     "text": [
      "Enter Name:  ravi\n"
     ]
    },
    {
     "name": "stdout",
     "output_type": "stream",
     "text": [
      "Your name has been added successfully!!\n"
     ]
    }
   ],
   "source": [
    "name = input('Enter Name: ')\n",
    "\n",
    "all_students.append(name)\n",
    "print(\"Your name has been added successfully!!\")"
   ]
  },
  {
   "cell_type": "code",
   "execution_count": 33,
   "id": "af745620-c22b-4fcf-b2d3-d53b820c50dc",
   "metadata": {},
   "outputs": [
    {
     "name": "stdout",
     "output_type": "stream",
     "text": [
      "['saurabh', 'sasa', 'ravi']\n"
     ]
    }
   ],
   "source": [
    "print(all_students)"
   ]
  },
  {
   "cell_type": "code",
   "execution_count": 34,
   "id": "c646eaa8-a5fd-4977-b998-c4b1851934d3",
   "metadata": {},
   "outputs": [],
   "source": [
    "name = []\n",
    "age = []\n",
    "classs = []\n",
    "address = []"
   ]
  },
  {
   "cell_type": "code",
   "execution_count": 36,
   "id": "70e85f78-180a-4792-9109-1558fe223a9c",
   "metadata": {},
   "outputs": [
    {
     "name": "stdin",
     "output_type": "stream",
     "text": [
      "Enter name :  ravi\n",
      "Enter Age :  30\n",
      "Enter Class :  12\n",
      "Enter Address :  agra\n"
     ]
    },
    {
     "name": "stdout",
     "output_type": "stream",
     "text": [
      "ravi Your all records Added!!\n"
     ]
    }
   ],
   "source": [
    "Name_Var = input(\"Enter name : \")\n",
    "Age_Var = input(\"Enter Age : \")\n",
    "Class_Var = input(\"Enter Class : \")\n",
    "Address_Var = input(\"Enter Address : \")\n",
    "\n",
    "name.append(Name_Var)\n",
    "age.append(Age_Var)\n",
    "classs.append(Class_Var)\n",
    "address.append(Address_Var)\n",
    "\n",
    "print(f'{Name_Var} Your all records Added!!')"
   ]
  },
  {
   "cell_type": "code",
   "execution_count": 38,
   "id": "e9991576-935a-496e-861b-52b269f17d11",
   "metadata": {},
   "outputs": [
    {
     "name": "stdout",
     "output_type": "stream",
     "text": [
      "['saurabh', 'ravi']\n",
      "['25', '30']\n",
      "['mca', '12']\n",
      "['mathura', 'agra']\n"
     ]
    }
   ],
   "source": [
    "print(name)\n",
    "print(age)\n",
    "print(classs)\n",
    "print(address)"
   ]
  },
  {
   "cell_type": "markdown",
   "id": "8ec2c7f5-e359-47a1-98db-0c3ea0442d3f",
   "metadata": {},
   "source": [
    "# Pop"
   ]
  },
  {
   "cell_type": "code",
   "execution_count": 39,
   "id": "4e11bef4-d6b3-461f-9c8c-175c40d9cd47",
   "metadata": {},
   "outputs": [
    {
     "data": {
      "text/plain": [
       "['Kanishk', 'Ekansh', 'Mohan Khanna', 'Ravi', 'Jatin', 'Uday Shetty', 'pawan']"
      ]
     },
     "execution_count": 39,
     "metadata": {},
     "output_type": "execute_result"
    }
   ],
   "source": [
    "students\n"
   ]
  },
  {
   "cell_type": "code",
   "execution_count": 40,
   "id": "618c812a-a9bd-4061-beb6-e94b49d3de9a",
   "metadata": {},
   "outputs": [
    {
     "data": {
      "text/plain": [
       "'pawan'"
      ]
     },
     "execution_count": 40,
     "metadata": {},
     "output_type": "execute_result"
    }
   ],
   "source": [
    "students.pop()"
   ]
  },
  {
   "cell_type": "code",
   "execution_count": 41,
   "id": "1acb40a2-ae07-4381-a39d-edfb091c84fe",
   "metadata": {},
   "outputs": [
    {
     "data": {
      "text/plain": [
       "'Mohan Khanna'"
      ]
     },
     "execution_count": 41,
     "metadata": {},
     "output_type": "execute_result"
    }
   ],
   "source": [
    "students.pop(2)"
   ]
  },
  {
   "cell_type": "markdown",
   "id": "7047aae0-9503-43a3-9a4d-21cf0d7ac529",
   "metadata": {},
   "source": [
    "# Remove"
   ]
  },
  {
   "cell_type": "code",
   "execution_count": 42,
   "id": "b1d157e0-a349-472c-b618-b66cdfa379cc",
   "metadata": {},
   "outputs": [],
   "source": [
    "students.remove('Ravi')"
   ]
  },
  {
   "cell_type": "code",
   "execution_count": 43,
   "id": "d759131e-5d94-47bf-aefd-d87dfed04db0",
   "metadata": {},
   "outputs": [
    {
     "data": {
      "text/plain": [
       "['Kanishk', 'Ekansh', 'Jatin', 'Uday Shetty']"
      ]
     },
     "execution_count": 43,
     "metadata": {},
     "output_type": "execute_result"
    }
   ],
   "source": [
    "students\n"
   ]
  },
  {
   "cell_type": "code",
   "execution_count": 44,
   "id": "7e7721d6-2a14-44f9-ac3a-0ba0d7786187",
   "metadata": {},
   "outputs": [
    {
     "data": {
      "text/plain": [
       "[4, 53, 5, 789]"
      ]
     },
     "execution_count": 44,
     "metadata": {},
     "output_type": "execute_result"
    }
   ],
   "source": [
    "a"
   ]
  },
  {
   "cell_type": "code",
   "execution_count": 45,
   "id": "d8f69a5f-85f8-4bf8-ae5b-58ec4ca4e347",
   "metadata": {},
   "outputs": [],
   "source": [
    "a.remove(53)"
   ]
  },
  {
   "cell_type": "code",
   "execution_count": 46,
   "id": "46534a31-8370-4348-9033-9132f95c2817",
   "metadata": {},
   "outputs": [
    {
     "data": {
      "text/plain": [
       "[4, 5, 789]"
      ]
     },
     "execution_count": 46,
     "metadata": {},
     "output_type": "execute_result"
    }
   ],
   "source": [
    "a\n"
   ]
  },
  {
   "cell_type": "code",
   "execution_count": 47,
   "id": "518e3e30-7938-4d88-94f2-d6068f1d8bb5",
   "metadata": {},
   "outputs": [],
   "source": [
    "students = ['Pawan', 'Mohan', 'Ajay', 'Karan', 'Naman', 'Gyan', 'Ravi', 'Gagan']"
   ]
  },
  {
   "cell_type": "code",
   "execution_count": 48,
   "id": "e43cba48-80c5-4852-a3ae-4c24cfdf6c20",
   "metadata": {},
   "outputs": [
    {
     "data": {
      "text/plain": [
       "['Pawan', 'Mohan', 'Ajay', 'Karan', 'Naman', 'Gyan', 'Ravi', 'Gagan']"
      ]
     },
     "execution_count": 48,
     "metadata": {},
     "output_type": "execute_result"
    }
   ],
   "source": [
    "students\n"
   ]
  },
  {
   "cell_type": "code",
   "execution_count": 49,
   "id": "8ab7066f-8205-4b0b-b83f-8785b922b6b4",
   "metadata": {},
   "outputs": [],
   "source": [
    "sales = [23,5,5358,456,4,57]"
   ]
  },
  {
   "cell_type": "code",
   "execution_count": 50,
   "id": "94997739-13ac-4dbb-b1e6-61179a9f446b",
   "metadata": {},
   "outputs": [],
   "source": [
    "sales.sort()"
   ]
  },
  {
   "cell_type": "code",
   "execution_count": 51,
   "id": "f673f712-fac8-447a-8832-f521883f613b",
   "metadata": {},
   "outputs": [
    {
     "data": {
      "text/plain": [
       "[4, 5, 23, 57, 456, 5358]"
      ]
     },
     "execution_count": 51,
     "metadata": {},
     "output_type": "execute_result"
    }
   ],
   "source": [
    "sales\n"
   ]
  },
  {
   "cell_type": "code",
   "execution_count": 52,
   "id": "40c8ba4e-7e40-471d-b646-ca8863d40051",
   "metadata": {},
   "outputs": [],
   "source": [
    "\n",
    "sales = [23,5,5325,456,4,57]"
   ]
  },
  {
   "cell_type": "code",
   "execution_count": 53,
   "id": "e991b810-b55d-45b8-bd76-80effff6b710",
   "metadata": {},
   "outputs": [],
   "source": [
    "sales.sort(reverse=True)"
   ]
  },
  {
   "cell_type": "code",
   "execution_count": 54,
   "id": "a92c25b8-35e6-4871-8d24-6da292f0ebd2",
   "metadata": {},
   "outputs": [
    {
     "data": {
      "text/plain": [
       "[5325, 456, 57, 23, 5, 4]"
      ]
     },
     "execution_count": 54,
     "metadata": {},
     "output_type": "execute_result"
    }
   ],
   "source": [
    "sales"
   ]
  },
  {
   "cell_type": "code",
   "execution_count": 55,
   "id": "34279d91-b567-4993-9120-1e9e0314b805",
   "metadata": {},
   "outputs": [],
   "source": [
    "sales = [23,5,5325,456,4,57]"
   ]
  },
  {
   "cell_type": "code",
   "execution_count": 56,
   "id": "b78ee27b-4298-41b5-b727-da2300b8dd30",
   "metadata": {},
   "outputs": [],
   "source": [
    "sales.sort()"
   ]
  },
  {
   "cell_type": "code",
   "execution_count": 57,
   "id": "3812debc-b985-44fe-9cd5-3499b6cf7c84",
   "metadata": {},
   "outputs": [],
   "source": [
    "sales.reverse()"
   ]
  },
  {
   "cell_type": "code",
   "execution_count": 58,
   "id": "71ba198e-9411-4d73-9d92-01d34ae7c988",
   "metadata": {},
   "outputs": [
    {
     "data": {
      "text/plain": [
       "[5325, 456, 57, 23, 5, 4]"
      ]
     },
     "execution_count": 58,
     "metadata": {},
     "output_type": "execute_result"
    }
   ],
   "source": [
    "sales"
   ]
  },
  {
   "cell_type": "code",
   "execution_count": 59,
   "id": "ee88ee56-d2d2-40c5-848a-8d5bfc92ff21",
   "metadata": {},
   "outputs": [],
   "source": [
    "sales = [23,5,5325,456,4,57]"
   ]
  },
  {
   "cell_type": "code",
   "execution_count": 60,
   "id": "fe64473a-d590-481b-b1c9-d324046b86a7",
   "metadata": {},
   "outputs": [],
   "source": [
    "sales.reverse()"
   ]
  },
  {
   "cell_type": "code",
   "execution_count": 61,
   "id": "a223c8ba-139c-4f31-a8a5-83e360b4222e",
   "metadata": {},
   "outputs": [
    {
     "data": {
      "text/plain": [
       "[57, 4, 456, 5325, 5, 23]"
      ]
     },
     "execution_count": 61,
     "metadata": {},
     "output_type": "execute_result"
    }
   ],
   "source": [
    "sales"
   ]
  },
  {
   "cell_type": "markdown",
   "id": "62e57de4-2aea-4c35-8460-b892606c0ac1",
   "metadata": {},
   "source": [
    "# Clear"
   ]
  },
  {
   "cell_type": "code",
   "execution_count": 62,
   "id": "fe09a546-cafc-4e86-b64a-fcb148213448",
   "metadata": {},
   "outputs": [
    {
     "data": {
      "text/plain": [
       "['Pawan', 'Mohan', 'Ajay', 'Karan', 'Naman', 'Gyan', 'Ravi', 'Gagan']"
      ]
     },
     "execution_count": 62,
     "metadata": {},
     "output_type": "execute_result"
    }
   ],
   "source": [
    "students"
   ]
  },
  {
   "cell_type": "code",
   "execution_count": 63,
   "id": "01aeffa3-89a5-4b15-9892-2329afc0a52e",
   "metadata": {},
   "outputs": [],
   "source": [
    "students.clear()"
   ]
  },
  {
   "cell_type": "code",
   "execution_count": 66,
   "id": "9bff4465-5794-41be-a611-85fa1c1e163e",
   "metadata": {},
   "outputs": [
    {
     "data": {
      "text/plain": [
       "[]"
      ]
     },
     "execution_count": 66,
     "metadata": {},
     "output_type": "execute_result"
    }
   ],
   "source": [
    "students  # Emplty list"
   ]
  },
  {
   "cell_type": "code",
   "execution_count": 94,
   "id": "0c10715f-9433-483a-93ee-9b8e67b191a9",
   "metadata": {},
   "outputs": [],
   "source": [
    "ravi = [1500,2000]"
   ]
  },
  {
   "cell_type": "code",
   "execution_count": 101,
   "id": "ce771dd2-ac4e-420f-80e8-d4cbe534eebe",
   "metadata": {},
   "outputs": [],
   "source": [
    "# DEEP Copy\n",
    "gaurav = ravi"
   ]
  },
  {
   "cell_type": "code",
   "execution_count": 96,
   "id": "fbb15c4c-0233-466b-8912-95c6bd4199e9",
   "metadata": {},
   "outputs": [
    {
     "data": {
      "text/plain": [
       "[1500, 2000]"
      ]
     },
     "execution_count": 96,
     "metadata": {},
     "output_type": "execute_result"
    }
   ],
   "source": [
    "gaurav"
   ]
  },
  {
   "cell_type": "code",
   "execution_count": 97,
   "id": "fdfd79e4-8c74-4222-93b2-3bc9c6108a35",
   "metadata": {},
   "outputs": [],
   "source": [
    "gaurav.append(5000)"
   ]
  },
  {
   "cell_type": "raw",
   "id": "2a492c36-374a-41cb-9aaa-9c0adae0258b",
   "metadata": {},
   "source": [
    "gaurav"
   ]
  },
  {
   "cell_type": "code",
   "execution_count": 98,
   "id": "3c059e33-f749-4371-b029-b182e20f6218",
   "metadata": {},
   "outputs": [
    {
     "data": {
      "text/plain": [
       "[1500, 2000, 5000]"
      ]
     },
     "execution_count": 98,
     "metadata": {},
     "output_type": "execute_result"
    }
   ],
   "source": [
    "ravi"
   ]
  },
  {
   "cell_type": "code",
   "execution_count": 99,
   "id": "d22cbcf1-7389-4147-9cc4-28def81f9a87",
   "metadata": {},
   "outputs": [],
   "source": [
    "ravi.append(8000)"
   ]
  },
  {
   "cell_type": "code",
   "execution_count": 102,
   "id": "bc55156f-1e34-420e-95c1-e64c6ba53349",
   "metadata": {},
   "outputs": [
    {
     "data": {
      "text/plain": [
       "[1500, 2000, 5000, 8000]"
      ]
     },
     "execution_count": 102,
     "metadata": {},
     "output_type": "execute_result"
    }
   ],
   "source": [
    "ravi"
   ]
  },
  {
   "cell_type": "code",
   "execution_count": 103,
   "id": "d1e224c5-ddb6-4f32-ab17-383cb425b28c",
   "metadata": {},
   "outputs": [],
   "source": [
    "# shallow Copy"
   ]
  },
  {
   "cell_type": "code",
   "execution_count": 104,
   "id": "adb1b573-636e-485a-8efc-e0f7735e15a4",
   "metadata": {},
   "outputs": [],
   "source": [
    "mann = [4500,8844]"
   ]
  },
  {
   "cell_type": "code",
   "execution_count": 105,
   "id": "c7ea433b-5db3-49ef-bdca-fae6f603edb2",
   "metadata": {},
   "outputs": [],
   "source": [
    "haarry  = mann.copy()"
   ]
  },
  {
   "cell_type": "code",
   "execution_count": 106,
   "id": "88c0eff7-30d3-43a6-836e-06f6b92117ea",
   "metadata": {},
   "outputs": [
    {
     "data": {
      "text/plain": [
       "2172289715264"
      ]
     },
     "execution_count": 106,
     "metadata": {},
     "output_type": "execute_result"
    }
   ],
   "source": [
    "id(mann)"
   ]
  },
  {
   "cell_type": "code",
   "execution_count": 108,
   "id": "9642b71c-0fbc-45cd-8f5c-256b143cd760",
   "metadata": {},
   "outputs": [
    {
     "data": {
      "text/plain": [
       "2172289747712"
      ]
     },
     "execution_count": 108,
     "metadata": {},
     "output_type": "execute_result"
    }
   ],
   "source": [
    "id(haarry)"
   ]
  },
  {
   "cell_type": "code",
   "execution_count": 109,
   "id": "e00fc817-0bf4-45b5-81af-7949927a5071",
   "metadata": {},
   "outputs": [],
   "source": [
    "mann.append(1200)"
   ]
  },
  {
   "cell_type": "code",
   "execution_count": 110,
   "id": "7fa4c50c-4cb2-4bfb-8697-6124c113a1a6",
   "metadata": {},
   "outputs": [
    {
     "data": {
      "text/plain": [
       "[4500, 8844, 1200]"
      ]
     },
     "execution_count": 110,
     "metadata": {},
     "output_type": "execute_result"
    }
   ],
   "source": [
    "mann"
   ]
  },
  {
   "cell_type": "code",
   "execution_count": 112,
   "id": "f822d26f-1443-4e45-a449-ed29d6926efa",
   "metadata": {},
   "outputs": [
    {
     "data": {
      "text/plain": [
       "[4500, 8844]"
      ]
     },
     "execution_count": 112,
     "metadata": {},
     "output_type": "execute_result"
    }
   ],
   "source": [
    "haarry"
   ]
  },
  {
   "cell_type": "code",
   "execution_count": 113,
   "id": "99019580-929f-415f-bb5b-4c5d5e39b2e2",
   "metadata": {},
   "outputs": [],
   "source": [
    "# Count\n",
    "\n",
    "a = [23,4,23,42,34,23,4,23,53,42,43,45,65,67,45,65,45,756,8]"
   ]
  },
  {
   "cell_type": "code",
   "execution_count": 114,
   "id": "c1860de2-497c-4e7d-8c7d-da971115b823",
   "metadata": {},
   "outputs": [
    {
     "data": {
      "text/plain": [
       "4"
      ]
     },
     "execution_count": 114,
     "metadata": {},
     "output_type": "execute_result"
    }
   ],
   "source": [
    "a.count(23)"
   ]
  },
  {
   "cell_type": "code",
   "execution_count": 115,
   "id": "13fccaac-b54a-4f91-ae38-7ccc0ab5309f",
   "metadata": {},
   "outputs": [
    {
     "data": {
      "text/plain": [
       "[]"
      ]
     },
     "execution_count": 115,
     "metadata": {},
     "output_type": "execute_result"
    }
   ],
   "source": [
    "students"
   ]
  },
  {
   "cell_type": "code",
   "execution_count": 116,
   "id": "02da0330-be27-4fd3-86f9-d00c896b1237",
   "metadata": {},
   "outputs": [
    {
     "data": {
      "text/plain": [
       "0"
      ]
     },
     "execution_count": 116,
     "metadata": {},
     "output_type": "execute_result"
    }
   ],
   "source": [
    "a.count(100)"
   ]
  },
  {
   "cell_type": "markdown",
   "id": "3a1ebbdc-563f-480e-aa59-66a598416b69",
   "metadata": {},
   "source": [
    "# Extend"
   ]
  },
  {
   "cell_type": "code",
   "execution_count": 117,
   "id": "4a6a36b7-4651-4c7b-b3fe-650f55a4b0f0",
   "metadata": {},
   "outputs": [
    {
     "data": {
      "text/plain": [
       "['Mohan', 'Ajay', 'Ram']"
      ]
     },
     "execution_count": 117,
     "metadata": {},
     "output_type": "execute_result"
    }
   ],
   "source": [
    "students = ['Mohan','Ajay','Ram']\n",
    "\n",
    "students"
   ]
  },
  {
   "cell_type": "code",
   "execution_count": 118,
   "id": "d19d5503-2816-46a8-98e0-5f500ce71a40",
   "metadata": {},
   "outputs": [
    {
     "data": {
      "text/plain": [
       "['Mohan', 'Ajay', 'Ram']"
      ]
     },
     "execution_count": 118,
     "metadata": {},
     "output_type": "execute_result"
    }
   ],
   "source": [
    "students"
   ]
  },
  {
   "cell_type": "code",
   "execution_count": 119,
   "id": "e66f8f41-b266-4212-b67c-34228d8cd370",
   "metadata": {},
   "outputs": [],
   "source": [
    "students.extend(['Naman','Ravi'])"
   ]
  },
  {
   "cell_type": "code",
   "execution_count": 120,
   "id": "8680ace7-38ad-43f9-acc1-0ed52ac5fc38",
   "metadata": {},
   "outputs": [
    {
     "data": {
      "text/plain": [
       "['Mohan', 'Ajay', 'Ram', 'Naman', 'Ravi']"
      ]
     },
     "execution_count": 120,
     "metadata": {},
     "output_type": "execute_result"
    }
   ],
   "source": [
    "students"
   ]
  },
  {
   "cell_type": "code",
   "execution_count": 121,
   "id": "3f1dcca2-e943-48d5-bdf0-ba7ec7ac9c8b",
   "metadata": {},
   "outputs": [
    {
     "data": {
      "text/plain": [
       "3"
      ]
     },
     "execution_count": 121,
     "metadata": {},
     "output_type": "execute_result"
    }
   ],
   "source": [
    "students.index('Naman')"
   ]
  },
  {
   "cell_type": "code",
   "execution_count": 122,
   "id": "a1fdbde4-9f47-426f-b743-34bbced70ae6",
   "metadata": {},
   "outputs": [
    {
     "data": {
      "text/plain": [
       "[23, 4, 23, 42, 34, 23, 4, 23, 53, 42, 43, 45, 65, 67, 45, 65, 45, 756, 8]"
      ]
     },
     "execution_count": 122,
     "metadata": {},
     "output_type": "execute_result"
    }
   ],
   "source": [
    "a"
   ]
  },
  {
   "cell_type": "code",
   "execution_count": 123,
   "id": "3d6dd4fe-08c5-49de-9568-21a8c1d1b240",
   "metadata": {},
   "outputs": [
    {
     "data": {
      "text/plain": [
       "3"
      ]
     },
     "execution_count": 123,
     "metadata": {},
     "output_type": "execute_result"
    }
   ],
   "source": [
    "\n",
    "a.index(42)"
   ]
  },
  {
   "cell_type": "code",
   "execution_count": 124,
   "id": "665f839e-c536-426d-892b-227090239ad1",
   "metadata": {},
   "outputs": [
    {
     "data": {
      "text/plain": [
       "9"
      ]
     },
     "execution_count": 124,
     "metadata": {},
     "output_type": "execute_result"
    }
   ],
   "source": [
    "a.index(42,4)"
   ]
  },
  {
   "cell_type": "code",
   "execution_count": 125,
   "id": "0688c9a9-2302-4952-9f99-9daea77aac6e",
   "metadata": {},
   "outputs": [
    {
     "data": {
      "text/plain": [
       "['Mohan', 'Ajay', 'Ram', 'Naman', 'Ravi']"
      ]
     },
     "execution_count": 125,
     "metadata": {},
     "output_type": "execute_result"
    }
   ],
   "source": [
    "students"
   ]
  },
  {
   "cell_type": "code",
   "execution_count": 126,
   "id": "2c487061-cb61-4245-a059-b0d4b43c39d5",
   "metadata": {},
   "outputs": [],
   "source": [
    "students.insert(0,'Pawan')"
   ]
  },
  {
   "cell_type": "code",
   "execution_count": 127,
   "id": "a57f267f-b37f-445b-b33e-8f9f68bc2ccc",
   "metadata": {},
   "outputs": [
    {
     "data": {
      "text/plain": [
       "['Pawan', 'Mohan', 'Ajay', 'Ram', 'Naman', 'Ravi']"
      ]
     },
     "execution_count": 127,
     "metadata": {},
     "output_type": "execute_result"
    }
   ],
   "source": [
    "students"
   ]
  },
  {
   "cell_type": "code",
   "execution_count": 128,
   "id": "54d6a9cc-a259-4b78-aa36-7dbedfd341c9",
   "metadata": {},
   "outputs": [],
   "source": [
    "students.insert(-1,'Gyan')"
   ]
  },
  {
   "cell_type": "code",
   "execution_count": 129,
   "id": "f765a24b-0b8f-4eb3-8b05-aac7c32f2e13",
   "metadata": {},
   "outputs": [
    {
     "data": {
      "text/plain": [
       "['Pawan', 'Mohan', 'Ajay', 'Ram', 'Naman', 'Gyan', 'Ravi']"
      ]
     },
     "execution_count": 129,
     "metadata": {},
     "output_type": "execute_result"
    }
   ],
   "source": [
    "students"
   ]
  },
  {
   "cell_type": "code",
   "execution_count": 130,
   "id": "701c5b44-8331-4426-9c8f-92f8ce5852f6",
   "metadata": {},
   "outputs": [],
   "source": [
    "students.insert(len(students)+1,'Gagan')"
   ]
  },
  {
   "cell_type": "code",
   "execution_count": 131,
   "id": "2bdc2afd-0bbc-4c08-b843-e20bd5606213",
   "metadata": {},
   "outputs": [
    {
     "data": {
      "text/plain": [
       "['Pawan', 'Mohan', 'Ajay', 'Ram', 'Naman', 'Gyan', 'Ravi', 'Gagan']"
      ]
     },
     "execution_count": 131,
     "metadata": {},
     "output_type": "execute_result"
    }
   ],
   "source": [
    "students"
   ]
  },
  {
   "cell_type": "code",
   "execution_count": null,
   "id": "740cfc20-1272-47db-8816-b89614fd0b85",
   "metadata": {},
   "outputs": [],
   "source": []
  },
  {
   "cell_type": "code",
   "execution_count": null,
   "id": "d0430564-6bea-48ad-87a4-ba28880ab073",
   "metadata": {},
   "outputs": [],
   "source": []
  }
 ],
 "metadata": {
  "kernelspec": {
   "display_name": "Python [conda env:base] *",
   "language": "python",
   "name": "conda-base-py"
  },
  "language_info": {
   "codemirror_mode": {
    "name": "ipython",
    "version": 3
   },
   "file_extension": ".py",
   "mimetype": "text/x-python",
   "name": "python",
   "nbconvert_exporter": "python",
   "pygments_lexer": "ipython3",
   "version": "3.12.7"
  }
 },
 "nbformat": 4,
 "nbformat_minor": 5
}
