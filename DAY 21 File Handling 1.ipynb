{
 "cells": [
  {
   "cell_type": "code",
   "execution_count": 1,
   "id": "a4674cbf-83e4-4bc3-a8a3-a5a018ddb16c",
   "metadata": {},
   "outputs": [],
   "source": [
    "# Python File Handling"
   ]
  },
  {
   "cell_type": "code",
   "execution_count": 2,
   "id": "056d5144-ead0-4871-8974-c518becac04d",
   "metadata": {},
   "outputs": [],
   "source": [
    "#Files\n",
    "#Binary File(Complex)\n",
    "#    1.Notepad>>Easily not open>> Not easily understand >> all files >> Binary files\n",
    "#    2.Software required\n",
    "#    3.xlsx , .xlx , .pdf , .mp3 ,.mp4 , .zip ,.png/jpg/jpeg ,.ppt ,.mkv ,.ipynb\n",
    "#Textual File(Easy):\n",
    "#   1. Open on Notepad  >> COntent read >> Easily understand >> All Files >> Textual File\n",
    "#   2.No need extra software\n",
    "#   3..txt ,.py ,.java ,.js ,.c ,.cpp ,.php ,.net ,.csv ,.html ,.css"
   ]
  },
  {
   "cell_type": "code",
   "execution_count": 3,
   "id": "e5beaafc-4a46-43a9-8681-55debd261919",
   "metadata": {},
   "outputs": [],
   "source": [
    "# Textual File"
   ]
  },
  {
   "cell_type": "code",
   "execution_count": 4,
   "id": "e0c4abf1-15c3-4c46-b2af-bce3407a259e",
   "metadata": {},
   "outputs": [],
   "source": [
    "# file read \n",
    "# add new content\n",
    "# old content delete\n",
    "#new file create \n",
    "#old file delete\n",
    "#Copy of files"
   ]
  },
  {
   "cell_type": "code",
   "execution_count": 5,
   "id": "544644ef-36bb-4f78-ae75-e03378be8457",
   "metadata": {},
   "outputs": [
    {
     "name": "stdout",
     "output_type": "stream",
     "text": [
      "DOne\n"
     ]
    }
   ],
   "source": [
    "file = open(r'C:\\Users\\Saurabh\\Desktop\\Grastech SQL\\Jan_Sales.csv')\n",
    "print('DOne')"
   ]
  },
  {
   "cell_type": "code",
   "execution_count": 6,
   "id": "19c01da4-52fc-4c80-a051-299c131a1780",
   "metadata": {},
   "outputs": [
    {
     "name": "stdout",
     "output_type": "stream",
     "text": [
      "Date,Month Name,Product,Sales,Profit\n",
      "01-01-2025,Jan,A,2,7\n",
      "02-01-2025,Jan,B,99,89\n",
      "03-01-2025,Jan,C,30,9\n",
      "04-01-2025,Jan,C,61,77\n",
      "05-01-2025,Jan,B,3,36\n",
      "06-01-2025,Jan,A,54,78\n",
      "07-01-2025,Jan,B,99,45\n",
      "08-01-2025,Jan,C,73,94\n",
      "09-01-2025,Jan,A,35,83\n",
      "10-01-2025,Jan,B,3,55\n",
      ",,,,\n",
      "\n"
     ]
    }
   ],
   "source": [
    "print(file.read())"
   ]
  },
  {
   "cell_type": "code",
   "execution_count": 7,
   "id": "54bcb95b-d9ef-4a41-9af5-0017f807b46c",
   "metadata": {},
   "outputs": [
    {
     "data": {
      "text/plain": [
       "''"
      ]
     },
     "execution_count": 7,
     "metadata": {},
     "output_type": "execute_result"
    }
   ],
   "source": [
    "file.read(100)"
   ]
  },
  {
   "cell_type": "code",
   "execution_count": 8,
   "id": "7b0c09bd-480e-4041-a121-c809b7a3f5c5",
   "metadata": {},
   "outputs": [
    {
     "name": "stdout",
     "output_type": "stream",
     "text": [
      "Done\n"
     ]
    }
   ],
   "source": [
    "file.close()\n",
    "print('Done')"
   ]
  },
  {
   "cell_type": "code",
   "execution_count": 11,
   "id": "6aee26bc-37f7-44d2-9060-c4e230fc1389",
   "metadata": {},
   "outputs": [
    {
     "name": "stdout",
     "output_type": "stream",
     "text": [
      "Done\n"
     ]
    }
   ],
   "source": [
    "file = open(r'C:\\Users\\Saurabh\\Desktop\\Grastech SQL\\Jan_Sales.csv')\n",
    "all_content = file.read()\n",
    "file.close()\n",
    "print('Done')"
   ]
  },
  {
   "cell_type": "code",
   "execution_count": 12,
   "id": "1125d10c-9d0c-44a7-9845-7e93d11d5ad1",
   "metadata": {},
   "outputs": [
    {
     "name": "stdout",
     "output_type": "stream",
     "text": [
      "Date,Month Name,Product,Sales,Profit\n",
      "01-01-2025,Jan,A,2,7\n",
      "02-01-2025,Jan,B,99,89\n",
      "03-01-2025,Jan,C,30,9\n",
      "04-01-2025,Jan,C,61,77\n",
      "05-01-2025,Jan,B,3,36\n",
      "06-01-2025,Jan,A,54,78\n",
      "07-01-2025,Jan,B,99,45\n",
      "08-01-2025,Jan,C,73,94\n",
      "09-01-2025,Jan,A,35,83\n",
      "10-01-2025,Jan,B,3,55\n",
      ",,,,\n",
      "\n"
     ]
    }
   ],
   "source": [
    "print(all_content)"
   ]
  },
  {
   "cell_type": "code",
   "execution_count": 13,
   "id": "71ccf07a-e094-4bdc-a9e1-e39c11929345",
   "metadata": {},
   "outputs": [
    {
     "name": "stdout",
     "output_type": "stream",
     "text": [
      "Done\n"
     ]
    }
   ],
   "source": [
    "f = open(r'C:\\Users\\Saurabh\\Desktop\\Grastech Python\\time_summery.txt')\n",
    "time_summery = f.read()\n",
    "f.close()\n",
    "print('Done')"
   ]
  },
  {
   "cell_type": "code",
   "execution_count": 14,
   "id": "088c3b7e-b02d-4c11-a505-5abdb4c0996a",
   "metadata": {},
   "outputs": [
    {
     "name": "stdout",
     "output_type": "stream",
     "text": [
      "Summary: The Importance of Time Management\n",
      "\n",
      "Time management is a vital skill that helps individuals make the most of \n",
      "their day by prioritizing tasks and setting clear goals. \n",
      "Effective time management reduces stress, improves productivity, \n",
      "and creates a balance between work and personal life. \n",
      "By planning ahead, avoiding procrastination, and focusing on \n",
      "high-priority activities, one can achieve better results in less time. \n",
      "Tools like to-do lists, calendars, and reminders can assist in staying organized. \n",
      "Ultimately, managing time wisely not only boosts efficiency but also enhances \n",
      "overall quality of life and personal growth.\n",
      "\n"
     ]
    }
   ],
   "source": [
    "print(time_summery)"
   ]
  },
  {
   "cell_type": "markdown",
   "id": "fdc6eec9-b7c3-4c81-b2fb-f1bc29df3102",
   "metadata": {},
   "source": [
    "# How to create new file and write content"
   ]
  },
  {
   "cell_type": "code",
   "execution_count": 17,
   "id": "524632b9-66c5-4f48-bfa6-1754039e6042",
   "metadata": {},
   "outputs": [
    {
     "name": "stdout",
     "output_type": "stream",
     "text": [
      "Done\n"
     ]
    }
   ],
   "source": [
    "f = open(r'C:\\Users\\Saurabh\\Desktop\\Grastech Python\\saurabh_python.txt','w')\n",
    "f.write('This file is created by Saurabh Chaudhary\\n')\n",
    "f.write(time_summery)\n",
    "f.close()\n",
    "print('Done')"
   ]
  },
  {
   "cell_type": "code",
   "execution_count": 18,
   "id": "b6b289fb-7ee4-4542-a1d8-db0bd37fb895",
   "metadata": {},
   "outputs": [
    {
     "name": "stdout",
     "output_type": "stream",
     "text": [
      "Summary: The Importance of Time Management\n",
      "\n",
      "Time management is a vital skill that helps individuals make the most of \n",
      "their day by prioritizing tasks and setting clear goals. \n",
      "Effective time management reduces stress, improves productivity, \n",
      "and creates a balance between work and personal life. \n",
      "By planning ahead, avoiding procrastination, and focusing on \n",
      "high-priority activities, one can achieve better results in less time. \n",
      "Tools like to-do lists, calendars, and reminders can assist in staying organized. \n",
      "Ultimately, managing time wisely not only boosts efficiency but also enhances \n",
      "overall quality of life and personal growth.\n",
      "\n"
     ]
    }
   ],
   "source": [
    "print(time_summery)"
   ]
  },
  {
   "cell_type": "code",
   "execution_count": null,
   "id": "9b5d5d0e-04f8-4e19-929f-f697793687dc",
   "metadata": {},
   "outputs": [],
   "source": []
  },
  {
   "cell_type": "code",
   "execution_count": null,
   "id": "4f5cc397-851b-4108-a2e7-26e24ad6987f",
   "metadata": {},
   "outputs": [],
   "source": []
  }
 ],
 "metadata": {
  "kernelspec": {
   "display_name": "Python [conda env:base] *",
   "language": "python",
   "name": "conda-base-py"
  },
  "language_info": {
   "codemirror_mode": {
    "name": "ipython",
    "version": 3
   },
   "file_extension": ".py",
   "mimetype": "text/x-python",
   "name": "python",
   "nbconvert_exporter": "python",
   "pygments_lexer": "ipython3",
   "version": "3.12.7"
  }
 },
 "nbformat": 4,
 "nbformat_minor": 5
}
