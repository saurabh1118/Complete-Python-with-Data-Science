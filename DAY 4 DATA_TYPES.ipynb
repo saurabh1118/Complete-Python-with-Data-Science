{
 "cells": [
  {
   "cell_type": "code",
   "execution_count": 1,
   "id": "6bfe7ab8-5c8a-4c6a-aed8-414f90d6478a",
   "metadata": {},
   "outputs": [
    {
     "name": "stdout",
     "output_type": "stream",
     "text": [
      "\n",
      "Here is a list of the Python keywords.  Enter any keyword to get more help.\n",
      "\n",
      "False               class               from                or\n",
      "None                continue            global              pass\n",
      "True                def                 if                  raise\n",
      "and                 del                 import              return\n",
      "as                  elif                in                  try\n",
      "assert              else                is                  while\n",
      "async               except              lambda              with\n",
      "await               finally             nonlocal            yield\n",
      "break               for                 not                 \n",
      "\n"
     ]
    }
   ],
   "source": [
    "help('keywords')"
   ]
  },
  {
   "cell_type": "code",
   "execution_count": 2,
   "id": "15fa78ce-bfdf-42a0-8c23-0317768a6f39",
   "metadata": {},
   "outputs": [],
   "source": [
    "# Data types"
   ]
  },
  {
   "cell_type": "code",
   "execution_count": 3,
   "id": "4d225846-781e-406a-831a-6107cdf258a5",
   "metadata": {},
   "outputs": [],
   "source": [
    "# int,float,complex\n",
    "# str , tuple ,list\n",
    "# # dict, set , None"
   ]
  },
  {
   "cell_type": "markdown",
   "id": "01e2cbbd-2de4-46f5-a882-2d994b7842a6",
   "metadata": {},
   "source": [
    "# Str : Date Types"
   ]
  },
  {
   "cell_type": "code",
   "execution_count": 1,
   "id": "81e7c65d-8a6b-44b6-b056-1a20b0126da0",
   "metadata": {},
   "outputs": [
    {
     "name": "stdout",
     "output_type": "stream",
     "text": [
      "Hello <class 'str'>\n"
     ]
    }
   ],
   "source": [
    "a = 'Hello'\n",
    "\n",
    "print(a,type(a))"
   ]
  },
  {
   "cell_type": "code",
   "execution_count": 2,
   "id": "3a740804-74f7-4c6f-86ac-41f59b69acbe",
   "metadata": {},
   "outputs": [
    {
     "name": "stdout",
     "output_type": "stream",
     "text": [
      "Hello World <class 'str'>\n"
     ]
    }
   ],
   "source": [
    "a = \"Hello World\"\n",
    "\n",
    "print(a,type(a))"
   ]
  },
  {
   "cell_type": "code",
   "execution_count": 3,
   "id": "36c3b31e-55e1-4987-8ab2-ee43515860d3",
   "metadata": {},
   "outputs": [
    {
     "name": "stdout",
     "output_type": "stream",
     "text": [
      "THis is Python's class\n"
     ]
    }
   ],
   "source": [
    "# write words with 's in python , we can need to use \" \" double quotes\n",
    "\n",
    "a = \"THis is Python's class\"\n",
    "\n",
    "print(a)"
   ]
  },
  {
   "cell_type": "code",
   "execution_count": 5,
   "id": "329e099e-7922-4608-91ce-f5d8a5680bff",
   "metadata": {},
   "outputs": [
    {
     "ename": "SyntaxError",
     "evalue": "unterminated string literal (detected at line 1) (365465065.py, line 1)",
     "output_type": "error",
     "traceback": [
      "\u001b[1;36m  Cell \u001b[1;32mIn[5], line 1\u001b[1;36m\u001b[0m\n\u001b[1;33m    msg = ' \"All our dreams can come true if we have the courage to pursue them.\" -Walt's Disney: '\u001b[0m\n\u001b[1;37m                                                                                                  ^\u001b[0m\n\u001b[1;31mSyntaxError\u001b[0m\u001b[1;31m:\u001b[0m unterminated string literal (detected at line 1)\n"
     ]
    }
   ],
   "source": [
    "msg = ' \"All our dreams can come true if we have the courage to pursue them.\" -Walt's Disney: '\n",
    "print(msg)"
   ]
  },
  {
   "cell_type": "code",
   "execution_count": 7,
   "id": "7ba00d71-612c-47dd-ba25-6f2f2db7462d",
   "metadata": {},
   "outputs": [
    {
     "name": "stdout",
     "output_type": "stream",
     "text": [
      "\"All our dreams can come true if we have the courage to pursue them.\" -Walt's Disney \n"
     ]
    }
   ],
   "source": [
    "#we can fix this syntax with help of ''' '''' triple quotes\n",
    "\n",
    "msg = '''\"All our dreams can come true if we have the courage to pursue them.\" -Walt's Disney '''\n",
    "print(msg)"
   ]
  },
  {
   "cell_type": "code",
   "execution_count": 8,
   "id": "10af0637-33d8-4bb3-a42e-6fec025bb75b",
   "metadata": {},
   "outputs": [
    {
     "ename": "SyntaxError",
     "evalue": "unterminated string literal (detected at line 1) (3907516052.py, line 1)",
     "output_type": "error",
     "traceback": [
      "\u001b[1;36m  Cell \u001b[1;32mIn[8], line 1\u001b[1;36m\u001b[0m\n\u001b[1;33m    poem = 'Twinkle, twinkle, little star,\u001b[0m\n\u001b[1;37m           ^\u001b[0m\n\u001b[1;31mSyntaxError\u001b[0m\u001b[1;31m:\u001b[0m unterminated string literal (detected at line 1)\n"
     ]
    }
   ],
   "source": [
    "poem = 'Twinkle, twinkle, little star,\n",
    "How I wonder what you are!\n",
    "Up above the world so high,\n",
    "Like a diamond in the sky.\n",
    "\n",
    "When the blazing sun is gone,\n",
    "When he nothing shines upon,\n",
    "Then you show your little light,\n",
    "Twinkle, twinkle, all the night.'\n",
    "\n",
    "print(poem)"
   ]
  },
  {
   "cell_type": "code",
   "execution_count": 75,
   "id": "e0566ab8-2bd3-4e05-9772-86bf6fe2a468",
   "metadata": {},
   "outputs": [
    {
     "name": "stdout",
     "output_type": "stream",
     "text": [
      "Twinkle, twinkle, little star,\n",
      "How I wonder what you are!\n",
      "Up above the world so high,\n",
      "Like a diamond in the sky.\n",
      "\n",
      "When the blazing sun is gone,\n",
      "When he nothing shines upon,\n",
      "Then you show your little light,\n",
      "Twinkle, twinkle, all the night.\n"
     ]
    }
   ],
   "source": [
    "# when we multiple lines then ''' ''' are useful\n",
    "\n",
    "poem = '''Twinkle, twinkle, little star,\n",
    "How I wonder what you are!\n",
    "Up above the world so high,\n",
    "Like a diamond in the sky.\n",
    "\n",
    "When the blazing sun is gone,\n",
    "When he nothing shines upon,\n",
    "Then you show your little light,\n",
    "Twinkle, twinkle, all the night.'''\n",
    "\n",
    "print(poem)"
   ]
  },
  {
   "cell_type": "code",
   "execution_count": 72,
   "id": "e885879b-5aea-4b6c-8629-b670c19eb10e",
   "metadata": {},
   "outputs": [
    {
     "name": "stdout",
     "output_type": "stream",
     "text": [
      "Twinkle, twinkle, little star,How I wonder what you are!Up above the world so high,Like a diamond in the sky.When the blazing sun is gone,When he nothing shines upon,Then you show your little light,Twinkle, twinkle, all the night.\n"
     ]
    }
   ],
   "source": [
    "# if you are single quotes then use backward slash \\ after the end of line but there is no blank line between lines\n",
    "\n",
    "poem = 'Twinkle, twinkle, little star,\\\n",
    "How I wonder what you are!\\\n",
    "Up above the world so high,\\\n",
    "Like a diamond in the sky.\\\n",
    "When the blazing sun is gone,\\\n",
    "When he nothing shines upon,\\\n",
    "Then you show your little light,\\\n",
    "Twinkle, twinkle, all the night.'\n",
    "\n",
    "print(poem)"
   ]
  },
  {
   "cell_type": "code",
   "execution_count": 12,
   "id": "01670347-f3d7-4bb0-b4c6-bdf505250746",
   "metadata": {},
   "outputs": [
    {
     "name": "stdout",
     "output_type": "stream",
     "text": [
      "this i's Py'thon's Class\n"
     ]
    }
   ],
   "source": [
    "a = 'this i\\'s Py\\'thon\\'s Class'\n",
    "\n",
    "print(a)"
   ]
  },
  {
   "cell_type": "code",
   "execution_count": 13,
   "id": "fc73cbd5-9513-4f97-967f-87837c501089",
   "metadata": {},
   "outputs": [],
   "source": [
    "#Sequence Data types"
   ]
  },
  {
   "cell_type": "code",
   "execution_count": 14,
   "id": "bd152b9d-5a60-4b5e-9524-93c1256ec659",
   "metadata": {},
   "outputs": [],
   "source": [
    "a = 'Hello World'\n",
    "#    012345678910  +ve indexing\n",
    "#      .....-3-2-1  -ve indexing \n",
    "\n",
    "# 'H'>>0\n",
    "# e>>1"
   ]
  },
  {
   "cell_type": "code",
   "execution_count": 15,
   "id": "6b0b276b-0a9f-4563-b037-572855244e5b",
   "metadata": {},
   "outputs": [
    {
     "data": {
      "text/plain": [
       "'o'"
      ]
     },
     "execution_count": 15,
     "metadata": {},
     "output_type": "execute_result"
    }
   ],
   "source": [
    "a[4]"
   ]
  },
  {
   "cell_type": "code",
   "execution_count": 18,
   "id": "9388a1fa-85c4-4535-bc84-f1e56b9034f3",
   "metadata": {},
   "outputs": [
    {
     "data": {
      "text/plain": [
       "'W'"
      ]
     },
     "execution_count": 18,
     "metadata": {},
     "output_type": "execute_result"
    }
   ],
   "source": [
    "a[-5]"
   ]
  },
  {
   "cell_type": "code",
   "execution_count": 20,
   "id": "0fe67d62-5c8d-4c1c-94ed-8b67303c1f54",
   "metadata": {},
   "outputs": [],
   "source": [
    "# operators"
   ]
  },
  {
   "cell_type": "code",
   "execution_count": 21,
   "id": "8fe500f8-3123-41e0-a6be-a58a9fee718a",
   "metadata": {},
   "outputs": [
    {
     "data": {
      "text/plain": [
       "'World'"
      ]
     },
     "execution_count": 21,
     "metadata": {},
     "output_type": "execute_result"
    }
   ],
   "source": [
    "# +\n",
    "\n",
    "a[6]+a[7]+a[8]+a[9]+a[10]"
   ]
  },
  {
   "cell_type": "code",
   "execution_count": 22,
   "id": "ae39e4c4-d263-4adf-98cf-425834bdbb9d",
   "metadata": {},
   "outputs": [
    {
     "name": "stdout",
     "output_type": "stream",
     "text": [
      "Hello World\n"
     ]
    }
   ],
   "source": [
    "# Slicing\n",
    "# a[start:stop:step]\n",
    "\n",
    "print(a)"
   ]
  },
  {
   "cell_type": "code",
   "execution_count": 23,
   "id": "82731266-ab78-4bfe-96d9-5cbf52f48387",
   "metadata": {},
   "outputs": [
    {
     "data": {
      "text/plain": [
       "'World'"
      ]
     },
     "execution_count": 23,
     "metadata": {},
     "output_type": "execute_result"
    }
   ],
   "source": [
    "a[6:]"
   ]
  },
  {
   "cell_type": "code",
   "execution_count": 24,
   "id": "a0faaa93-6eb2-4335-9f21-eae26d960f9f",
   "metadata": {},
   "outputs": [
    {
     "data": {
      "text/plain": [
       "'Hello '"
      ]
     },
     "execution_count": 24,
     "metadata": {},
     "output_type": "execute_result"
    }
   ],
   "source": [
    "a[:6]"
   ]
  },
  {
   "cell_type": "code",
   "execution_count": 25,
   "id": "346378a9-0b95-425d-9430-36d21fc9496f",
   "metadata": {},
   "outputs": [
    {
     "data": {
      "text/plain": [
       "'World'"
      ]
     },
     "execution_count": 25,
     "metadata": {},
     "output_type": "execute_result"
    }
   ],
   "source": [
    "a[6:11]"
   ]
  },
  {
   "cell_type": "code",
   "execution_count": 26,
   "id": "24633ad8-e15e-47ad-a512-d89a8c1368d4",
   "metadata": {},
   "outputs": [
    {
     "data": {
      "text/plain": [
       "'Hello'"
      ]
     },
     "execution_count": 26,
     "metadata": {},
     "output_type": "execute_result"
    }
   ],
   "source": [
    "a[0:5]"
   ]
  },
  {
   "cell_type": "code",
   "execution_count": 30,
   "id": "3e551c79-e4c0-47d2-8e96-bc6f48394a06",
   "metadata": {},
   "outputs": [
    {
     "name": "stdout",
     "output_type": "stream",
     "text": [
      "This is Elon Musk <class 'str'>\n"
     ]
    }
   ],
   "source": [
    "a = 'This is Elon Musk'\n",
    "\n",
    "print(a , type(a))"
   ]
  },
  {
   "cell_type": "code",
   "execution_count": 29,
   "id": "1c27a4cd-4f5b-4468-82df-3dd954d0dbb8",
   "metadata": {},
   "outputs": [
    {
     "data": {
      "text/plain": [
       "'Elon'"
      ]
     },
     "execution_count": 29,
     "metadata": {},
     "output_type": "execute_result"
    }
   ],
   "source": [
    "a[8:12]"
   ]
  },
  {
   "cell_type": "code",
   "execution_count": 32,
   "id": "656790c5-90a8-4972-9dc5-d8ab81563331",
   "metadata": {},
   "outputs": [
    {
     "name": "stdout",
     "output_type": "stream",
     "text": [
      "[2, 35, 4584] <class 'list'>\n"
     ]
    }
   ],
   "source": [
    "a=[2,35,4584]\n",
    "print(a , type(a))"
   ]
  },
  {
   "cell_type": "code",
   "execution_count": 33,
   "id": "ca8eab62-a093-4181-bd14-074e241695d8",
   "metadata": {},
   "outputs": [
    {
     "name": "stdout",
     "output_type": "stream",
     "text": [
      "This is Elon Musk <class 'str'>\n"
     ]
    }
   ],
   "source": [
    "a = 'This is Elon Musk'\n",
    "\n",
    "print(a , type(a))"
   ]
  },
  {
   "cell_type": "code",
   "execution_count": 34,
   "id": "162e0248-1733-4afa-a0b5-344658bceb3a",
   "metadata": {},
   "outputs": [
    {
     "ename": "TypeError",
     "evalue": "'str' object does not support item assignment",
     "output_type": "error",
     "traceback": [
      "\u001b[1;31m---------------------------------------------------------------------------\u001b[0m",
      "\u001b[1;31mTypeError\u001b[0m                                 Traceback (most recent call last)",
      "Cell \u001b[1;32mIn[34], line 3\u001b[0m\n\u001b[0;32m      1\u001b[0m \u001b[38;5;66;03m# We can't change str values\u001b[39;00m\n\u001b[1;32m----> 3\u001b[0m a[\u001b[38;5;241m8\u001b[39m:\u001b[38;5;241m12\u001b[39m]\u001b[38;5;241m=\u001b[39m\u001b[38;5;124m'\u001b[39m\u001b[38;5;124mEion\u001b[39m\u001b[38;5;124m'\u001b[39m\n",
      "\u001b[1;31mTypeError\u001b[0m: 'str' object does not support item assignment"
     ]
    }
   ],
   "source": [
    "# We can't change str values\n",
    "\n",
    "a[8:12]='Eion'"
   ]
  },
  {
   "cell_type": "code",
   "execution_count": 35,
   "id": "8e5a7e52-66ca-4cbf-8df7-1f0d8113643a",
   "metadata": {},
   "outputs": [
    {
     "data": {
      "text/plain": [
       "'Elon'"
      ]
     },
     "execution_count": 35,
     "metadata": {},
     "output_type": "execute_result"
    }
   ],
   "source": [
    "a = 'This is Elon Musk'\n",
    "\n",
    "a[-9:-5]"
   ]
  },
  {
   "cell_type": "code",
   "execution_count": 36,
   "id": "e232162f-f825-4846-af4b-25e3b43ba39b",
   "metadata": {},
   "outputs": [
    {
     "data": {
      "text/plain": [
       "'Ti sE'"
      ]
     },
     "execution_count": 36,
     "metadata": {},
     "output_type": "execute_result"
    }
   ],
   "source": [
    "a[0:9:2]"
   ]
  },
  {
   "cell_type": "code",
   "execution_count": 37,
   "id": "b5af4070-a161-44de-a825-3399222486a4",
   "metadata": {},
   "outputs": [
    {
     "data": {
      "text/plain": [
       "'ksuM nolE si sihT'"
      ]
     },
     "execution_count": 37,
     "metadata": {},
     "output_type": "execute_result"
    }
   ],
   "source": [
    "a[::-1]"
   ]
  },
  {
   "cell_type": "code",
   "execution_count": 39,
   "id": "5eac4b5c-b223-451b-bd5f-4594ecf74e01",
   "metadata": {},
   "outputs": [],
   "source": [
    "a = 'nitin'"
   ]
  },
  {
   "cell_type": "code",
   "execution_count": 40,
   "id": "1f883bb1-c2e8-494d-a027-7aab134a69d4",
   "metadata": {},
   "outputs": [
    {
     "data": {
      "text/plain": [
       "'nitin'"
      ]
     },
     "execution_count": 40,
     "metadata": {},
     "output_type": "execute_result"
    }
   ],
   "source": [
    "a"
   ]
  },
  {
   "cell_type": "code",
   "execution_count": 42,
   "id": "5fa8ea1d-e83e-421e-b602-4e8474d5a0f7",
   "metadata": {},
   "outputs": [
    {
     "data": {
      "text/plain": [
       "'nitin'"
      ]
     },
     "execution_count": 42,
     "metadata": {},
     "output_type": "execute_result"
    }
   ],
   "source": [
    "# Palindrome\n",
    "\n",
    "a[::-1]"
   ]
  },
  {
   "cell_type": "code",
   "execution_count": 45,
   "id": "93977da0-66bd-4212-85c0-ba5ca8fa9677",
   "metadata": {},
   "outputs": [
    {
     "name": "stdout",
     "output_type": "stream",
     "text": [
      "lucky \n"
     ]
    }
   ],
   "source": [
    "a = 'lucky '\n",
    "print(a)"
   ]
  },
  {
   "cell_type": "code",
   "execution_count": 46,
   "id": "3f54c62f-f60f-4bac-a679-a74137b704bc",
   "metadata": {},
   "outputs": [
    {
     "name": "stdout",
     "output_type": "stream",
     "text": [
      "lucky lucky lucky \n"
     ]
    }
   ],
   "source": [
    "print(a * 3)"
   ]
  },
  {
   "cell_type": "code",
   "execution_count": 47,
   "id": "dff7cead-630a-4f7d-9b8c-88158bd4095e",
   "metadata": {},
   "outputs": [],
   "source": [
    "# \\n: Next line >> New Line"
   ]
  },
  {
   "cell_type": "code",
   "execution_count": 48,
   "id": "6a579c31-6916-4e8e-a625-bfcd1d0b10d1",
   "metadata": {},
   "outputs": [
    {
     "name": "stdout",
     "output_type": "stream",
     "text": [
      "this\n",
      "is\n",
      "Elon\n",
      "Musk\n"
     ]
    }
   ],
   "source": [
    "a = 'this\\nis\\nElon\\nMusk'\n",
    "\n",
    "print(a)"
   ]
  },
  {
   "cell_type": "code",
   "execution_count": 49,
   "id": "b82deb69-4544-41e1-872f-04f775621eea",
   "metadata": {},
   "outputs": [],
   "source": [
    "# \\t >> Tab button >> 4 spaces"
   ]
  },
  {
   "cell_type": "code",
   "execution_count": 50,
   "id": "57058b13-c412-46f1-b5d3-b4315e646b19",
   "metadata": {},
   "outputs": [],
   "source": [
    "a = 'Hello\\t\\tWorld\\n'"
   ]
  },
  {
   "cell_type": "code",
   "execution_count": 51,
   "id": "1977f226-4e15-4d6b-82e0-41fd483f9965",
   "metadata": {},
   "outputs": [
    {
     "name": "stdout",
     "output_type": "stream",
     "text": [
      "Hello\t\tWorld\n",
      "Hello\t\tWorld\n",
      "Hello\t\tWorld\n",
      "Hello\t\tWorld\n",
      "Hello\t\tWorld\n",
      "\n"
     ]
    }
   ],
   "source": [
    "print(a * 5)"
   ]
  },
  {
   "cell_type": "code",
   "execution_count": 52,
   "id": "daaa482e-2d75-46d1-8c12-b91123d5b549",
   "metadata": {},
   "outputs": [
    {
     "name": "stdout",
     "output_type": "stream",
     "text": [
      "Hello World\n",
      "Hello World\n",
      "Hello World\n",
      "Hello World\n",
      "Hello World\n"
     ]
    }
   ],
   "source": [
    "for i in range(5):\n",
    "    print('Hello World')"
   ]
  },
  {
   "cell_type": "code",
   "execution_count": 53,
   "id": "a2cd845e-aa66-4388-a16c-3bd175a6c291",
   "metadata": {},
   "outputs": [],
   "source": [
    "a = 'hello world'"
   ]
  },
  {
   "cell_type": "code",
   "execution_count": 54,
   "id": "a78a988a-d73f-4e98-9786-093b8c8708f4",
   "metadata": {},
   "outputs": [
    {
     "data": {
      "text/plain": [
       "'HELLO WORLD'"
      ]
     },
     "execution_count": 54,
     "metadata": {},
     "output_type": "execute_result"
    }
   ],
   "source": [
    "a.upper() #FUNCTION OR METHODS"
   ]
  },
  {
   "cell_type": "code",
   "execution_count": 55,
   "id": "e06b521c-5a37-4b5a-8b9c-b8332655432a",
   "metadata": {},
   "outputs": [
    {
     "data": {
      "text/plain": [
       "'Hello World'"
      ]
     },
     "execution_count": 55,
     "metadata": {},
     "output_type": "execute_result"
    }
   ],
   "source": [
    "a.title()"
   ]
  },
  {
   "cell_type": "code",
   "execution_count": 56,
   "id": "67843e66-6617-4bb9-9488-78a3b0f23eff",
   "metadata": {},
   "outputs": [],
   "source": [
    "a = \"HollyWood Place\""
   ]
  },
  {
   "cell_type": "code",
   "execution_count": 57,
   "id": "7ae02180-5428-44a2-a3f3-20b3fa192c98",
   "metadata": {},
   "outputs": [
    {
     "data": {
      "text/plain": [
       "'hollywood place'"
      ]
     },
     "execution_count": 57,
     "metadata": {},
     "output_type": "execute_result"
    }
   ],
   "source": [
    "a.lower()"
   ]
  },
  {
   "cell_type": "code",
   "execution_count": 58,
   "id": "44db994c-a8a1-48e9-bc9c-2e955ee90ce1",
   "metadata": {},
   "outputs": [
    {
     "data": {
      "text/plain": [
       "'HOLLYWOOD '"
      ]
     },
     "execution_count": 58,
     "metadata": {},
     "output_type": "execute_result"
    }
   ],
   "source": [
    "a.replace('Place','').upper().lower().title().upper()"
   ]
  },
  {
   "cell_type": "code",
   "execution_count": 59,
   "id": "ea017fe5-62e2-4603-a110-aafbd3671b4c",
   "metadata": {},
   "outputs": [],
   "source": [
    "a = 'This is Elon Musk'"
   ]
  },
  {
   "cell_type": "code",
   "execution_count": 61,
   "id": "24260ae5-822f-47e7-a41c-3e25705df0d4",
   "metadata": {},
   "outputs": [
    {
     "data": {
      "text/plain": [
       "17"
      ]
     },
     "execution_count": 61,
     "metadata": {},
     "output_type": "execute_result"
    }
   ],
   "source": [
    "len(a)"
   ]
  },
  {
   "cell_type": "code",
   "execution_count": 62,
   "id": "fc8dd840-5417-4b45-8527-ab9d2bb9f18f",
   "metadata": {},
   "outputs": [
    {
     "data": {
      "text/plain": [
       "['This', 'is', 'Elon', 'Musk']"
      ]
     },
     "execution_count": 62,
     "metadata": {},
     "output_type": "execute_result"
    }
   ],
   "source": [
    "# Split the words\n",
    "\n",
    "a.split(' ')"
   ]
  },
  {
   "cell_type": "code",
   "execution_count": 67,
   "id": "839dfc55-463c-47e5-a8a7-1a0fe8cbd205",
   "metadata": {},
   "outputs": [],
   "source": [
    "a = 'This,is,Elon,Musk'"
   ]
  },
  {
   "cell_type": "code",
   "execution_count": 68,
   "id": "c6bd32f6-3dca-4c7a-bbc6-750552f46376",
   "metadata": {},
   "outputs": [],
   "source": [
    "data= a.split(',')"
   ]
  },
  {
   "cell_type": "code",
   "execution_count": 69,
   "id": "b92e8c04-fa62-4a54-8bde-955af1ad6323",
   "metadata": {},
   "outputs": [
    {
     "name": "stdout",
     "output_type": "stream",
     "text": [
      "['This', 'is', 'Elon', 'Musk']\n"
     ]
    }
   ],
   "source": [
    "print(data)"
   ]
  },
  {
   "cell_type": "code",
   "execution_count": 70,
   "id": "30ea917c-11ec-456a-8bf9-8076b23677a5",
   "metadata": {},
   "outputs": [
    {
     "data": {
      "text/plain": [
       "4"
      ]
     },
     "execution_count": 70,
     "metadata": {},
     "output_type": "execute_result"
    }
   ],
   "source": [
    "len(data)"
   ]
  },
  {
   "cell_type": "code",
   "execution_count": 80,
   "id": "8861d4d2-9cb7-41c1-b697-7f5f612fee19",
   "metadata": {},
   "outputs": [
    {
     "name": "stdout",
     "output_type": "stream",
     "text": [
      "Twinkle, twinkle, little star,\n",
      "How I wonder what you are!\n",
      "Up above the world so high,\n",
      "Like a diamond in the sky.\n",
      "\n",
      "            When the blazing sun is gone,\n",
      "            When he nothing shines upon,\n",
      "            Then you show your little light,\n",
      "            Twinkle, twinkle, all the night.\n"
     ]
    }
   ],
   "source": [
    "\n",
    "poem = '''Twinkle, twinkle, little star,\n",
    "How I wonder what you are!\n",
    "Up above the world so high,\n",
    "Like a diamond in the sky.\n",
    "\n",
    "            When the blazing sun is gone,\n",
    "            When he nothing shines upon,\n",
    "            Then you show your little light,\n",
    "            Twinkle, twinkle, all the night.'''\n",
    "\n",
    "print(poem)"
   ]
  },
  {
   "cell_type": "code",
   "execution_count": 81,
   "id": "3b67637a-f054-4a80-ba2d-f84771b7ac3e",
   "metadata": {},
   "outputs": [
    {
     "data": {
      "text/plain": [
       "['Twinkle,',\n",
       " 'twinkle,',\n",
       " 'little',\n",
       " 'star,\\nHow',\n",
       " 'I',\n",
       " 'wonder',\n",
       " 'what',\n",
       " 'you',\n",
       " 'are!\\nUp',\n",
       " 'above',\n",
       " 'the',\n",
       " 'world',\n",
       " 'so',\n",
       " 'high,\\nLike',\n",
       " 'a',\n",
       " 'diamond',\n",
       " 'in',\n",
       " 'the',\n",
       " 'sky.\\n\\n',\n",
       " '',\n",
       " '',\n",
       " '',\n",
       " '',\n",
       " '',\n",
       " '',\n",
       " '',\n",
       " '',\n",
       " '',\n",
       " '',\n",
       " '',\n",
       " 'When',\n",
       " 'the',\n",
       " 'blazing',\n",
       " 'sun',\n",
       " 'is',\n",
       " 'gone,\\n',\n",
       " '',\n",
       " '',\n",
       " '',\n",
       " '',\n",
       " '',\n",
       " '',\n",
       " '',\n",
       " '',\n",
       " '',\n",
       " '',\n",
       " '',\n",
       " 'When',\n",
       " 'he',\n",
       " 'nothing',\n",
       " 'shines',\n",
       " 'upon,\\n',\n",
       " '',\n",
       " '',\n",
       " '',\n",
       " '',\n",
       " '',\n",
       " '',\n",
       " '',\n",
       " '',\n",
       " '',\n",
       " '',\n",
       " '',\n",
       " 'Then',\n",
       " 'you',\n",
       " 'show',\n",
       " 'your',\n",
       " 'little',\n",
       " 'light,\\n',\n",
       " '',\n",
       " '',\n",
       " '',\n",
       " '',\n",
       " '',\n",
       " '',\n",
       " '',\n",
       " '',\n",
       " '',\n",
       " '',\n",
       " '',\n",
       " 'Twinkle,',\n",
       " 'twinkle,',\n",
       " 'all',\n",
       " 'the',\n",
       " 'night.']"
      ]
     },
     "execution_count": 81,
     "metadata": {},
     "output_type": "execute_result"
    }
   ],
   "source": [
    "poem.split(' ')"
   ]
  },
  {
   "cell_type": "code",
   "execution_count": 82,
   "id": "276ea6ed-37e3-419a-8734-6b105e9d4367",
   "metadata": {},
   "outputs": [
    {
     "data": {
      "text/plain": [
       "['Twinkle, twinkle, little star,',\n",
       " 'How I wonder what you are!',\n",
       " 'Up above the world so high,',\n",
       " 'Like a diamond in the sky.',\n",
       " '',\n",
       " '            When the blazing sun is gone,',\n",
       " '            When he nothing shines upon,',\n",
       " '            Then you show your little light,',\n",
       " '            Twinkle, twinkle, all the night.']"
      ]
     },
     "execution_count": 82,
     "metadata": {},
     "output_type": "execute_result"
    }
   ],
   "source": [
    "poem.splitlines()"
   ]
  },
  {
   "cell_type": "code",
   "execution_count": 83,
   "id": "d2ab9605-8685-4bef-bde1-51d1f7385135",
   "metadata": {},
   "outputs": [
    {
     "name": "stdout",
     "output_type": "stream",
     "text": [
      "       hello world\n"
     ]
    }
   ],
   "source": [
    "a = '       hello world'\n",
    "\n",
    "print(a)"
   ]
  },
  {
   "cell_type": "code",
   "execution_count": 84,
   "id": "0f9160a3-dc85-479e-99e2-5601efec74e6",
   "metadata": {},
   "outputs": [
    {
     "data": {
      "text/plain": [
       "'hello world'"
      ]
     },
     "execution_count": 84,
     "metadata": {},
     "output_type": "execute_result"
    }
   ],
   "source": [
    "# lstrip() => remove all left side space\n",
    "a.lstrip()"
   ]
  },
  {
   "cell_type": "code",
   "execution_count": 85,
   "id": "8fb433f7-5703-4ddb-b6af-6f6c96cece3a",
   "metadata": {},
   "outputs": [
    {
     "name": "stdout",
     "output_type": "stream",
     "text": [
      "hello world       \n"
     ]
    }
   ],
   "source": [
    "a = 'hello world       '\n",
    "\n",
    "print(a)"
   ]
  },
  {
   "cell_type": "code",
   "execution_count": 86,
   "id": "209f0936-92b0-4439-8c95-4a1db971792a",
   "metadata": {},
   "outputs": [
    {
     "data": {
      "text/plain": [
       "'hello world'"
      ]
     },
     "execution_count": 86,
     "metadata": {},
     "output_type": "execute_result"
    }
   ],
   "source": [
    "# rstrip() => remove all right side space\n",
    "a.rstrip()"
   ]
  },
  {
   "cell_type": "code",
   "execution_count": 87,
   "id": "07a4b840-020e-4e77-91a7-1df251e7aa94",
   "metadata": {},
   "outputs": [
    {
     "name": "stdout",
     "output_type": "stream",
     "text": [
      "        hello world         \n"
     ]
    }
   ],
   "source": [
    "a = '        hello world         '\n",
    "\n",
    "print(a)"
   ]
  },
  {
   "cell_type": "code",
   "execution_count": 90,
   "id": "3264c9fa-912b-4161-8be4-a0a93f762b43",
   "metadata": {},
   "outputs": [
    {
     "data": {
      "text/plain": [
       "'hello world'"
      ]
     },
     "execution_count": 90,
     "metadata": {},
     "output_type": "execute_result"
    }
   ],
   "source": [
    "# remove both side spaces \n",
    "a.lstrip().rstrip()"
   ]
  },
  {
   "cell_type": "code",
   "execution_count": 91,
   "id": "a4a8e1b1-6c77-4e58-b312-1eedcee4e1dd",
   "metadata": {},
   "outputs": [
    {
     "data": {
      "text/plain": [
       "'hello world'"
      ]
     },
     "execution_count": 91,
     "metadata": {},
     "output_type": "execute_result"
    }
   ],
   "source": [
    "# strip: remove both side spaces \n",
    "\n",
    "a.strip()"
   ]
  },
  {
   "cell_type": "code",
   "execution_count": 92,
   "id": "e66d8943-044e-48da-a541-7b231104dc85",
   "metadata": {},
   "outputs": [
    {
     "name": "stdout",
     "output_type": "stream",
     "text": [
      " hello world !!\n"
     ]
    }
   ],
   "source": [
    "# center \n",
    "\n",
    "a = ' hello world !!'\n",
    "\n",
    "print(a)"
   ]
  },
  {
   "cell_type": "code",
   "execution_count": 94,
   "id": "621b7022-6343-479a-a4f1-da2b48f8ce37",
   "metadata": {},
   "outputs": [
    {
     "name": "stdout",
     "output_type": "stream",
     "text": [
      "                                           hello world !!                                           \n"
     ]
    }
   ],
   "source": [
    "print(a.center(100,' '))"
   ]
  },
  {
   "cell_type": "code",
   "execution_count": 95,
   "id": "2ff3ec92-2852-4d44-8b8d-01a1840ecc63",
   "metadata": {},
   "outputs": [
    {
     "name": "stdout",
     "output_type": "stream",
     "text": [
      "****************************************** hello world !!*******************************************\n"
     ]
    }
   ],
   "source": [
    "print(a.center(100,'*'))"
   ]
  },
  {
   "cell_type": "code",
   "execution_count": 96,
   "id": "65c4bf45-0ba9-475b-9498-761594761778",
   "metadata": {},
   "outputs": [],
   "source": [
    "# formet function "
   ]
  },
  {
   "cell_type": "code",
   "execution_count": 100,
   "id": "ce72bc7e-075e-4548-b93f-c4811d1f81ed",
   "metadata": {},
   "outputs": [
    {
     "name": "stdout",
     "output_type": "stream",
     "text": [
      "I have a kia car, having the price of 546546 and model year is 2025\n"
     ]
    }
   ],
   "source": [
    "car = 'kia'\n",
    "price = 546546\n",
    "year = 2025\n",
    "\n",
    "message = 'I have a {} car, having the price of {} and model year is {}'.format(car,price,year)\n",
    "\n",
    "print(message)"
   ]
  },
  {
   "cell_type": "code",
   "execution_count": 101,
   "id": "9d864997-1a00-4895-96b4-c95758ce7322",
   "metadata": {},
   "outputs": [
    {
     "name": "stdout",
     "output_type": "stream",
     "text": [
      "I have a kia car,  model year is 2025 , having the price of 546546 \n"
     ]
    }
   ],
   "source": [
    "car = 'kia'\n",
    "price = 546546\n",
    "year = 2025\n",
    "\n",
    "message = 'I have a {0} car,  model year is {2} , having the price of {1} '.format(car,price,year)\n",
    "\n",
    "print(message)"
   ]
  },
  {
   "cell_type": "code",
   "execution_count": 106,
   "id": "2a6e9dc8-4bca-4df1-83ac-522938f3523e",
   "metadata": {},
   "outputs": [
    {
     "name": "stdout",
     "output_type": "stream",
     "text": [
      "I have a kia car,  model year is 2025 , having the price of 546546 \n"
     ]
    }
   ],
   "source": [
    "# modern approch : Using f with curly brackets {name}\n",
    "\n",
    "car = 'kia'\n",
    "price = 546546\n",
    "year = 2025\n",
    "\n",
    "message = f'I have a {car} car,  model year is {year} , having the price of {price} '\n",
    "\n",
    "print(message)"
   ]
  },
  {
   "cell_type": "code",
   "execution_count": 108,
   "id": "7b89df23-793f-4fce-9c7f-844eada703b6",
   "metadata": {},
   "outputs": [
    {
     "name": "stdout",
     "output_type": "stream",
     "text": [
      "I have a {car} car,  model year is {year} , having the price of {price} \n"
     ]
    }
   ],
   "source": [
    "# If you are not using f with curly brackets {name} , it does not return values\n",
    "\n",
    "car = 'kia'\n",
    "price = 546546\n",
    "year = 2025\n",
    "\n",
    "message = 'I have a {car} car,  model year is {year} , having the price of {price} '\n",
    "\n",
    "print(message)"
   ]
  },
  {
   "cell_type": "code",
   "execution_count": 110,
   "id": "8c7afbbb-3442-409d-8ad4-51a0e7ab07df",
   "metadata": {},
   "outputs": [
    {
     "name": "stdout",
     "output_type": "stream",
     "text": [
      "Your current bank account balance is {balance}\n"
     ]
    }
   ],
   "source": [
    "balance = 257000\n",
    "\n",
    "msg = 'Your current bank account balance is {balance}'\n",
    "\n",
    "print(msg)"
   ]
  },
  {
   "cell_type": "code",
   "execution_count": 111,
   "id": "602f5fde-86a2-42cd-840e-d9c05cf9a457",
   "metadata": {},
   "outputs": [
    {
     "name": "stdout",
     "output_type": "stream",
     "text": [
      "Your current bank account balance is 257000\n"
     ]
    }
   ],
   "source": [
    "balance = 257000\n",
    "\n",
    "msg = f'Your current bank account balance is {balance}'\n",
    "\n",
    "print(msg)"
   ]
  },
  {
   "cell_type": "code",
   "execution_count": null,
   "id": "f79a9fec-60b3-4a78-ab4a-11e770b46a0e",
   "metadata": {},
   "outputs": [],
   "source": []
  }
 ],
 "metadata": {
  "kernelspec": {
   "display_name": "Python [conda env:base] *",
   "language": "python",
   "name": "conda-base-py"
  },
  "language_info": {
   "codemirror_mode": {
    "name": "ipython",
    "version": 3
   },
   "file_extension": ".py",
   "mimetype": "text/x-python",
   "name": "python",
   "nbconvert_exporter": "python",
   "pygments_lexer": "ipython3",
   "version": "3.12.7"
  }
 },
 "nbformat": 4,
 "nbformat_minor": 5
}
