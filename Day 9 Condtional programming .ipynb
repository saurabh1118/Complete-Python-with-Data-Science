{
 "cells": [
  {
   "cell_type": "markdown",
   "id": "7a5ef8e8-31c9-4bfb-af4e-67ea702fd85f",
   "metadata": {},
   "source": [
    "# CONDITIONAL PROGRAMMING ADVANCED\n",
    "- NESTED IF ELSE\n",
    "- ONE LINER IF ELSE\n",
    "- CONTROL FLOW STATEMENT : LOOPS"
   ]
  },
  {
   "cell_type": "code",
   "execution_count": 1,
   "id": "b3b1e3b7-5d21-48a8-8c02-675e9f36af4e",
   "metadata": {},
   "outputs": [],
   "source": [
    "# NESTED IF ELSE\n",
    "\n",
    "# IF CONDITION:\n",
    "#     IF CONDITION:\n",
    "#         PASS\n",
    "#     ELSE:\n",
    "#         PASS\n",
    "# ELSE:\n",
    "# PASS"
   ]
  },
  {
   "cell_type": "code",
   "execution_count": 5,
   "id": "d5172b41-156f-4b21-9042-899d48e36cd2",
   "metadata": {},
   "outputs": [
    {
     "name": "stdin",
     "output_type": "stream",
     "text": [
      "Enter Maths Marks:  13\n",
      "Enter English Marks:  12\n",
      "Enter hindi marks:  15\n",
      "Enter sst marks :  50\n",
      "Enter sci marks :  50\n"
     ]
    },
    {
     "name": "stdout",
     "output_type": "stream",
     "text": [
      "\n",
      "\n",
      "\n",
      "Failed in maths, Compartment\n",
      "Failed in eng, Compartment\n",
      "Failed in maths, Compartment\n",
      "\n",
      "\n",
      "\n",
      "You are failed !! Better luck next time \n"
     ]
    }
   ],
   "source": [
    "maths = float(input(\"Enter Maths Marks: \"))\n",
    "eng = float(input(\"Enter English Marks: \"))\n",
    "hindi = float(input(\"Enter hindi marks: \"))\n",
    "sst = float(input(\"Enter sst marks : \"))\n",
    "sci = float(input(\"Enter sci marks : \"))\n",
    "\n",
    "print('\\n\\n')\n",
    "\n",
    "all_failed =[]\n",
    "\n",
    "if maths >=33:\n",
    "    pass\n",
    "else:\n",
    "    all_failed.append('Maths')\n",
    "    print(\"Failed in maths, Compartment\")\n",
    "    \n",
    "if eng >=33:\n",
    "    pass\n",
    "else:\n",
    "    all_failed.append('eng')\n",
    "    print(\"Failed in eng, Compartment\")\n",
    "\n",
    "if hindi >=33:\n",
    "    pass\n",
    "else:\n",
    "    all_failed.append('hindi')\n",
    "    print(\"Failed in maths, Compartment\")\n",
    "\n",
    "if sst >=33:\n",
    "    pass\n",
    "else:\n",
    "    all_failed.append('sst')\n",
    "    print(\"Failed in sst, Compartment\")\n",
    "\n",
    "if sci >=33:\n",
    "    pass\n",
    "else:\n",
    "    all_failed.append('sci')\n",
    "    print(\"Failed in sci, Compartment\")\n",
    "\n",
    "\n",
    "print('\\n\\n')\n",
    "\n",
    "if len(all_failed) >= 3 :\n",
    "    print(\"You are failed !! Better luck next time \")\n",
    "else:\n",
    "        if (0<=maths<=100) and (0<=eng<=100) and (0<=hindi<=100) and (0<=sst<=100) and (0<=sci<=100):\n",
    "                total_marks = maths + eng + hindi + sst+ sci\n",
    "                \n",
    "                marks_per= round((total_marks/500)*100,2)\n",
    "                \n",
    "                if marks_per >=90:\n",
    "                    print(f'You have scored A+ with {marks_per}%')\n",
    "                elif marks_per >=80:\n",
    "                    print(f'You have scored A with {marks_per}%')\n",
    "                elif marks_per >=70:\n",
    "                    print(f'You have scored B+ with {marks_per}%')\n",
    "                elif marks_per >=60:\n",
    "                    print(f'You have scored B with {marks_per}%')\n",
    "                elif marks_per >=50:\n",
    "                    print(f'You have scored C with {marks_per}%')\n",
    "                elif marks_per >=40:\n",
    "                    print(f'You have scored D with {marks_per}%')\n",
    "                elif marks_per >=33:\n",
    "                    print(f'You have scored E with {marks_per}%')\n",
    "                else :\n",
    "                    print('YOU ARE FAIL !! 😂')  \n",
    "        else:\n",
    "            print('invalid marks !!! ❌❌ Input the marks between 0-100')\n",
    "            "
   ]
  },
  {
   "cell_type": "code",
   "execution_count": 7,
   "id": "049c7d0f-1f59-488c-a1bd-44161f73fad7",
   "metadata": {},
   "outputs": [
    {
     "name": "stdin",
     "output_type": "stream",
     "text": [
      "Enter name1 :  sa\n",
      "Enter name2 :  sa\n",
      "Enter name3 :  asa\n",
      "Enter name4 :  sas\n",
      "Enter name5 :  s\n",
      "Enter name6 :  as\n"
     ]
    },
    {
     "name": "stdout",
     "output_type": "stream",
     "text": [
      "\n",
      "\n",
      "\n",
      "hello  sa  how are you!\n",
      "hello  sa  how are you!\n",
      "hello  asa  how are you!\n",
      "hello  sas  how are you!\n",
      "hello  s  how are you!\n",
      "hello  as  how are you!\n"
     ]
    }
   ],
   "source": [
    "name1 = input(\"Enter name1 : \")\n",
    "name2 = input(\"Enter name2 : \")\n",
    "name3 = input(\"Enter name3 : \")\n",
    "name4 = input(\"Enter name4 : \")\n",
    "name5 = input(\"Enter name5 : \")\n",
    "name6 = input(\"Enter name6 : \")\n",
    "\n",
    "print('\\n\\n')\n",
    "\n",
    "print(f'hello ',name1,' how are you!')\n",
    "print(f'hello ',name2,' how are you!')\n",
    "print(f'hello ',name3,' how are you!')\n",
    "print(f'hello ',name4,' how are you!')\n",
    "print(f'hello ',name5,' how are you!')\n",
    "print(f'hello ',name6,' how are you!')"
   ]
  },
  {
   "cell_type": "code",
   "execution_count": 8,
   "id": "9f7e068d-70be-4104-9b6d-4ab2e1969ae0",
   "metadata": {},
   "outputs": [],
   "source": [
    "# for above we can use loops\n",
    "#there are 4 types :1.for loop 2.while loop (most used)\n",
    "#3.do while 4.for each"
   ]
  },
  {
   "cell_type": "code",
   "execution_count": 9,
   "id": "3803f399-0b23-4948-8f81-466223c06a36",
   "metadata": {},
   "outputs": [],
   "source": [
    "# for loop : \n",
    "# while loop : when we want to run loop based on conditions"
   ]
  },
  {
   "cell_type": "code",
   "execution_count": 11,
   "id": "215e193a-4d70-4282-aed9-d1cac0a530a1",
   "metadata": {},
   "outputs": [
    {
     "name": "stdin",
     "output_type": "stream",
     "text": [
      "Enter your Name:  rah\n"
     ]
    },
    {
     "name": "stdout",
     "output_type": "stream",
     "text": [
      "hello rah, How are you!!\n",
      "\n",
      "\n",
      "\n"
     ]
    },
    {
     "name": "stdin",
     "output_type": "stream",
     "text": [
      "Enter your Name:  agal\n"
     ]
    },
    {
     "name": "stdout",
     "output_type": "stream",
     "text": [
      "hello agal, How are you!!\n",
      "\n",
      "\n",
      "\n"
     ]
    },
    {
     "name": "stdin",
     "output_type": "stream",
     "text": [
      "Enter your Name:  lajdo\n"
     ]
    },
    {
     "name": "stdout",
     "output_type": "stream",
     "text": [
      "hello lajdo, How are you!!\n",
      "\n",
      "\n",
      "\n"
     ]
    },
    {
     "name": "stdin",
     "output_type": "stream",
     "text": [
      "Enter your Name:  kak\n"
     ]
    },
    {
     "name": "stdout",
     "output_type": "stream",
     "text": [
      "hello kak, How are you!!\n",
      "\n",
      "\n",
      "\n"
     ]
    },
    {
     "name": "stdin",
     "output_type": "stream",
     "text": [
      "Enter your Name:  a\n"
     ]
    },
    {
     "name": "stdout",
     "output_type": "stream",
     "text": [
      "hello a, How are you!!\n",
      "\n",
      "\n",
      "\n"
     ]
    }
   ],
   "source": [
    "# for loop : \n",
    "for i in range(5):\n",
    "    name = input('Enter your Name: ')\n",
    "    print(f'hello {name}, How are you!!')\n",
    "    print('\\n\\n')\n",
    "    "
   ]
  },
  {
   "cell_type": "code",
   "execution_count": null,
   "id": "55f01b53-43e3-4914-bbf9-de08f1ab3d6c",
   "metadata": {},
   "outputs": [],
   "source": []
  }
 ],
 "metadata": {
  "kernelspec": {
   "display_name": "Python [conda env:base] *",
   "language": "python",
   "name": "conda-base-py"
  },
  "language_info": {
   "codemirror_mode": {
    "name": "ipython",
    "version": 3
   },
   "file_extension": ".py",
   "mimetype": "text/x-python",
   "name": "python",
   "nbconvert_exporter": "python",
   "pygments_lexer": "ipython3",
   "version": "3.12.7"
  }
 },
 "nbformat": 4,
 "nbformat_minor": 5
}
