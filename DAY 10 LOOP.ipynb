{
 "cells": [
  {
   "cell_type": "markdown",
   "id": "ce063471-dad4-4847-a65a-8596ba5d7661",
   "metadata": {},
   "source": [
    "# For Loop , While Loop"
   ]
  },
  {
   "cell_type": "code",
   "execution_count": 1,
   "id": "ece55b30-4220-4daa-9453-a05f48511179",
   "metadata": {},
   "outputs": [],
   "source": [
    "# for i in Collection_Datatyoe:\n",
    "#   code block"
   ]
  },
  {
   "cell_type": "code",
   "execution_count": 2,
   "id": "5d772579-18ff-428d-8f1c-8f92b0212d56",
   "metadata": {},
   "outputs": [],
   "source": [
    "# Allowed :str,list,tuple , set , dict, froxzenset , any collection"
   ]
  },
  {
   "cell_type": "markdown",
   "id": "481fb247-2423-4048-a1b2-1cb554a53414",
   "metadata": {},
   "source": [
    "# String with for loop\n"
   ]
  },
  {
   "cell_type": "code",
   "execution_count": 5,
   "id": "bacb0622-b339-43c3-86fb-892bcfe3211c",
   "metadata": {},
   "outputs": [
    {
     "name": "stdout",
     "output_type": "stream",
     "text": [
      "H\n",
      "A\n",
      "R\n",
      "R\n",
      "Y\n"
     ]
    }
   ],
   "source": [
    "import time\n",
    "for i in 'Harry':\n",
    "    print(i.upper())\n",
    "    time.sleep(1)"
   ]
  },
  {
   "cell_type": "code",
   "execution_count": 6,
   "id": "11b3f645-7164-474d-82bb-38c4dc69dbf3",
   "metadata": {},
   "outputs": [
    {
     "name": "stdout",
     "output_type": "stream",
     "text": [
      "HARRY"
     ]
    }
   ],
   "source": [
    "import time\n",
    "for i in 'Harry':\n",
    "    print(i.upper(),end = '')\n",
    "    time.sleep(1)"
   ]
  },
  {
   "cell_type": "code",
   "execution_count": 7,
   "id": "92950b3f-6036-4a1d-b2f0-af42e9fd4df5",
   "metadata": {},
   "outputs": [],
   "source": [
    "p ='''Twinkle, twinkle, little star,\n",
    "How I wonder what you are!\n",
    "Up above the world so high,\n",
    "Like a diamond in the sky.\n",
    "\n",
    "When the blazing sun is gone,\n",
    "When he nothing shines upon,\n",
    "Then you show your little light,\n",
    "Twinkle, twinkle, all the night.\n",
    "\n",
    "Then the trav'ller in the dark,\n",
    "Thanks you for your tiny spark,\n",
    "He could not see which way to go,\n",
    "If you did not twinkle so.\n",
    "\n",
    "In the dark blue sky you keep,\n",
    "And often thro' my curtains peep,\n",
    "For you never shut your eye,\n",
    "Till the sun is in the sky.\n",
    "\n",
    "'Tis your bright and tiny spark,\n",
    "Lights the trav'ller in the dark:\n",
    "Tho' I know not what you are,\n",
    "Twinkle, twinkle, little star.'''"
   ]
  },
  {
   "cell_type": "code",
   "execution_count": 9,
   "id": "c9004301-7dcd-4e89-8791-06d817904e8f",
   "metadata": {},
   "outputs": [
    {
     "name": "stdout",
     "output_type": "stream",
     "text": [
      "TWINKLE, TWINKLE, LITTLE STAR,\n",
      "HOW I WONDER WHAT YOU ARE!\n",
      "UP ABOVE THE WORLD SO HIGH,\n",
      "LIKE A DIAMOND IN THE SKY.\n",
      "\n",
      "WHEN THE BLAZING SUN IS GONE,\n",
      "WHEN HE NOTHING SHINES UPON,\n",
      "THEN YOU SHOW YOUR LITTLE LIGHT,\n",
      "TWINKLE, TWINKLE, ALL THE NIGHT.\n",
      "\n",
      "THEN THE TRAV'LLER IN THE DARK,\n",
      "THANKS YOU FOR YOUR TINY SPARK,\n",
      "HE COULD NOT SEE WHICH WAY TO GO,\n",
      "IF YOU DID NOT TWINKLE SO.\n",
      "\n",
      "IN THE DARK BLUE SKY YOU KEEP,\n",
      "AND OFTEN THRO' MY CURTAINS PEEP,\n",
      "FOR YOU NEVER SHUT YOUR EYE,\n",
      "TILL THE SUN IS IN THE SKY.\n",
      "\n",
      "'TIS YOUR BRIGHT AND TINY SPARK,\n",
      "LIGHTS THE TRAV'LLER IN THE DARK:\n",
      "THO' I KNOW NOT WHAT YOU ARE,\n",
      "TWINKLE, TWINKLE, LITTLE STAR."
     ]
    }
   ],
   "source": [
    "for i in p:\n",
    "    print(i.upper(),end='')\n",
    "    time.sleep(0.005)"
   ]
  },
  {
   "cell_type": "markdown",
   "id": "dc3119f8-acb1-4ac0-b37e-e2401ff92489",
   "metadata": {},
   "source": [
    "# Loop with List"
   ]
  },
  {
   "cell_type": "code",
   "execution_count": 11,
   "id": "10187e72-0416-49f5-a1b1-565b0f535378",
   "metadata": {},
   "outputs": [],
   "source": [
    "data = [2,35,55,446,646,44,9696,85,76,83669,74,96]\n",
    "\n",
    "even =[]\n",
    "odd=[]\n",
    "\n",
    "for i in data:\n",
    "    if(i%2==0):\n",
    "        even.append(i)\n",
    "    else:\n",
    "        odd.append(i)"
   ]
  },
  {
   "cell_type": "code",
   "execution_count": 12,
   "id": "142c4312-a288-487a-85ac-d250e939d9bf",
   "metadata": {},
   "outputs": [
    {
     "name": "stdout",
     "output_type": "stream",
     "text": [
      "Even List :  [2, 446, 646, 44, 9696, 76, 74, 96]\n",
      "Odd List :  [35, 55, 85, 83669]\n"
     ]
    }
   ],
   "source": [
    "print('Even List : ',even)\n",
    "print('Odd List : ',odd)"
   ]
  },
  {
   "cell_type": "code",
   "execution_count": 15,
   "id": "73836d01-ed16-4900-9570-6068ccc9b46a",
   "metadata": {},
   "outputs": [
    {
     "name": "stdout",
     "output_type": "stream",
     "text": [
      "Vowels:  ['#OLA', '#UBER', '#ADANI']\n",
      "Consonants : ['@metro', '@blinkit', '@tcs', '@kia']\n"
     ]
    }
   ],
   "source": [
    "companies = ['ola','uber','metro','blinkit','adani','tcs','kia']\n",
    "\n",
    "vowels =[]\n",
    "consonants =[]\n",
    "\n",
    "for i in companies:\n",
    "    if i[0].lower() in 'aeiou':\n",
    "        vowels.append('#'+i.upper())\n",
    "    else:\n",
    "        consonants.append('@'+i.lower())\n",
    "\n",
    "print('Vowels: ',vowels)\n",
    "print('Consonants :',consonants)\n"
   ]
  },
  {
   "cell_type": "markdown",
   "id": "d490c8fc-4c39-4fbc-9457-14de5422eaf4",
   "metadata": {},
   "source": [
    "# Database Design"
   ]
  },
  {
   "cell_type": "code",
   "execution_count": 38,
   "id": "208da4b8-a61b-4b09-b2c0-51cb5ef4a33c",
   "metadata": {},
   "outputs": [
    {
     "name": "stdin",
     "output_type": "stream",
     "text": [
      "How many records you want to insert :  2\n",
      "Enter Name :  Rahul\n",
      "Enter Age :  25\n",
      "Enter Salary :  45000\n",
      "Enter Dept :  DA\n",
      "Enter Address :  agra\n",
      "Enter Designation :  Data Analysis\n"
     ]
    },
    {
     "name": "stdout",
     "output_type": "stream",
     "text": [
      "Rahul Your record has been inserted Successfully!!\n",
      "\n",
      "\n"
     ]
    },
    {
     "name": "stdin",
     "output_type": "stream",
     "text": [
      "Enter Name :  Raj\n",
      "Enter Age :  45\n",
      "Enter Salary :  10000\n",
      "Enter Dept :  Workshop\n",
      "Enter Address :  Manglore\n",
      "Enter Designation :  Intern\n"
     ]
    },
    {
     "name": "stdout",
     "output_type": "stream",
     "text": [
      "Raj Your record has been inserted Successfully!!\n",
      "\n",
      "\n",
      "{'Name': ['Rahul', 'Raj'], 'Age': [25, 45], 'Salary': [45000, 10000], 'Dept': ['DA', 'Workshop'], 'Address': ['agra', 'Manglore'], 'Designation': ['Data Analysis', 'Intern']}\n"
     ]
    }
   ],
   "source": [
    "records = int(input('How many records you want to insert : '))\n",
    "\n",
    "data ={'Name':[],'Age':[],'Salary':[],'Dept':[],'Address':[],'Designation':[]}\n",
    "\n",
    "for i in range(records):\n",
    "    name = input('Enter Name : ')\n",
    "    age = int(input('Enter Age : '))\n",
    "    salary = int(input('Enter Salary : '))\n",
    "    dept = input('Enter Dept : ')\n",
    "    address = input('Enter Address : ')\n",
    "    designation = input('Enter Designation : ')\n",
    "\n",
    "    data['Name'].append(name)\n",
    "    data['Age'].append(age)\n",
    "    data['Salary'].append(salary)\n",
    "    data['Dept'].append(dept)\n",
    "    data['Address'].append(address)\n",
    "    data['Designation'].append(designation)\n",
    "\n",
    "    print(f'{name} Your record has been inserted Successfully!!')\n",
    "    print('\\n')\n",
    "\n",
    "import pandas as pd\n",
    "table = pd.DataFrame(data)\n",
    "\n",
    "table"
   ]
  },
  {
   "cell_type": "code",
   "execution_count": 40,
   "id": "737f542e-6ff8-4b3d-a7a6-22ae4861d169",
   "metadata": {},
   "outputs": [
    {
     "name": "stdout",
     "output_type": "stream",
     "text": [
      "Done\n"
     ]
    }
   ],
   "source": [
    "table.to_excel('Emp_Records.xlsx')\n",
    "print('Done')"
   ]
  },
  {
   "cell_type": "markdown",
   "id": "76a0de08-82f0-4e91-aa99-01933be132ee",
   "metadata": {},
   "source": [
    "# Number Guess"
   ]
  },
  {
   "cell_type": "code",
   "execution_count": 20,
   "id": "8e27a4bf-b48f-4d36-ae5c-f6114de202c6",
   "metadata": {},
   "outputs": [
    {
     "name": "stdout",
     "output_type": "stream",
     "text": [
      "welcome to KB Number Guess Game\n",
      "\n",
      "\n",
      "\n"
     ]
    },
    {
     "name": "stdin",
     "output_type": "stream",
     "text": [
      "attempts 1 Guess a Number (1 -10):  4\n"
     ]
    },
    {
     "name": "stdout",
     "output_type": "stream",
     "text": [
      "\n",
      "    compuer choice :9\n",
      "    user choice : 4\n",
      "Better luck next time😒😒😒\n",
      "\n"
     ]
    },
    {
     "name": "stdin",
     "output_type": "stream",
     "text": [
      "attempts 2 Guess a Number (1 -10):  4\n"
     ]
    },
    {
     "name": "stdout",
     "output_type": "stream",
     "text": [
      "\n",
      "    compuer choice :9\n",
      "    user choice : 4\n",
      "Better luck next time😒😒😒\n",
      "\n"
     ]
    },
    {
     "name": "stdin",
     "output_type": "stream",
     "text": [
      "attempts 3 Guess a Number (1 -10):  5\n"
     ]
    },
    {
     "name": "stdout",
     "output_type": "stream",
     "text": [
      "\n",
      "    compuer choice :8\n",
      "    user choice : 5\n",
      "Better luck next time😒😒😒\n",
      "\n"
     ]
    },
    {
     "name": "stdin",
     "output_type": "stream",
     "text": [
      "attempts 4 Guess a Number (1 -10):  8\n"
     ]
    },
    {
     "name": "stdout",
     "output_type": "stream",
     "text": [
      "\n",
      "    compuer choice :8\n",
      "    user choice : 8\n",
      "You won 200 rs.✌✌✨✨\n",
      "\n"
     ]
    },
    {
     "name": "stdin",
     "output_type": "stream",
     "text": [
      "attempts 5 Guess a Number (1 -10):  8\n"
     ]
    },
    {
     "name": "stdout",
     "output_type": "stream",
     "text": [
      "\n",
      "    compuer choice :4\n",
      "    user choice : 8\n",
      "Better luck next time😒😒😒\n",
      "\n"
     ]
    },
    {
     "name": "stdin",
     "output_type": "stream",
     "text": [
      "attempts 6 Guess a Number (1 -10):  7\n"
     ]
    },
    {
     "name": "stdout",
     "output_type": "stream",
     "text": [
      "\n",
      "    compuer choice :8\n",
      "    user choice : 7\n",
      "Better luck next time😒😒😒\n",
      "\n"
     ]
    },
    {
     "name": "stdin",
     "output_type": "stream",
     "text": [
      "attempts 7 Guess a Number (1 -10):  5\n"
     ]
    },
    {
     "name": "stdout",
     "output_type": "stream",
     "text": [
      "\n",
      "    compuer choice :9\n",
      "    user choice : 5\n",
      "Better luck next time😒😒😒\n",
      "\n"
     ]
    },
    {
     "name": "stdin",
     "output_type": "stream",
     "text": [
      "attempts 8 Guess a Number (1 -10):  8\n"
     ]
    },
    {
     "name": "stdout",
     "output_type": "stream",
     "text": [
      "\n",
      "    compuer choice :9\n",
      "    user choice : 8\n",
      "Better luck next time😒😒😒\n",
      "\n"
     ]
    },
    {
     "name": "stdin",
     "output_type": "stream",
     "text": [
      "attempts 9 Guess a Number (1 -10):  8\n"
     ]
    },
    {
     "name": "stdout",
     "output_type": "stream",
     "text": [
      "\n",
      "    compuer choice :7\n",
      "    user choice : 8\n",
      "Better luck next time😒😒😒\n",
      "\n"
     ]
    },
    {
     "name": "stdin",
     "output_type": "stream",
     "text": [
      "attempts 10 Guess a Number (1 -10):  76\n"
     ]
    },
    {
     "name": "stdout",
     "output_type": "stream",
     "text": [
      "\n",
      "    compuer choice :9\n",
      "    user choice : 76\n",
      "Better luck next time😒😒😒\n",
      "\n"
     ]
    }
   ],
   "source": [
    "import random\n",
    "\n",
    "print('welcome to KB Number Guess Game')\n",
    "\n",
    "print('\\n\\n')\n",
    "\n",
    "attempts = 10\n",
    "entry_fees = 100\n",
    "company_collection = 0\n",
    "user_collection = attempts * entry_fees\n",
    "\n",
    "\n",
    "\n",
    "for i in range(attempts):\n",
    "    user_collection -=entry_fees\n",
    "    company_collection += entry_fees\n",
    "    comp = random.randint(1,10)\n",
    "    user = int(input(f'attempts {i+1} Guess a Number (1 -10): '))\n",
    "\n",
    "    print(f'''\n",
    "    compuer choice :{comp}\n",
    "    user choice : {user}''')\n",
    "\n",
    "    if user == comp:\n",
    "        print('You won 200 rs.✌✌✨✨',end ='\\n'*2)\n",
    "        user_collection +=entry_fees * 2\n",
    "        company_collection -=entry_fees * 2\n",
    "    else:\n",
    "        print('Better luck next time😒😒😒',end ='\\n'*2)"
   ]
  },
  {
   "cell_type": "code",
   "execution_count": 21,
   "id": "f3a4d3e3-1aee-4709-89b8-173b50184b3a",
   "metadata": {},
   "outputs": [
    {
     "name": "stdout",
     "output_type": "stream",
     "text": [
      "Company Collection :  800\n",
      "User_Collection :  200\n"
     ]
    }
   ],
   "source": [
    "print('Company Collection : ',company_collection)\n",
    "print('User_Collection : ',user_collection)"
   ]
  },
  {
   "cell_type": "markdown",
   "id": "ef4a6aac-0e85-4177-8559-e82b0dbdd4e6",
   "metadata": {},
   "source": [
    "# Password Generator"
   ]
  },
  {
   "cell_type": "code",
   "execution_count": 33,
   "id": "d65d0d84-fae1-4052-8a48-6baccec63539",
   "metadata": {},
   "outputs": [
    {
     "name": "stdout",
     "output_type": "stream",
     "text": [
      "Suggested Password : \"H*D`SZ=`+\n"
     ]
    }
   ],
   "source": [
    "import string\n",
    "import random\n",
    "\n",
    "all_possible_char=string.ascii_letters+string.digits+string.punctuation\n",
    "password_length = 10\n",
    "password = ''\n",
    "\n",
    "for i in range(password_length):\n",
    "    password += random.choice(all_possible_char)\n",
    "\n",
    "print('Suggested Password :',password.upper())"
   ]
  },
  {
   "cell_type": "code",
   "execution_count": null,
   "id": "1b91f31a-d6a1-4b56-b364-e52f150bcd98",
   "metadata": {},
   "outputs": [],
   "source": []
  },
  {
   "cell_type": "code",
   "execution_count": null,
   "id": "d180dfed-5038-4221-a6cc-5f12c6950b3d",
   "metadata": {},
   "outputs": [],
   "source": []
  }
 ],
 "metadata": {
  "kernelspec": {
   "display_name": "Python [conda env:base] *",
   "language": "python",
   "name": "conda-base-py"
  },
  "language_info": {
   "codemirror_mode": {
    "name": "ipython",
    "version": 3
   },
   "file_extension": ".py",
   "mimetype": "text/x-python",
   "name": "python",
   "nbconvert_exporter": "python",
   "pygments_lexer": "ipython3",
   "version": "3.12.7"
  }
 },
 "nbformat": 4,
 "nbformat_minor": 5
}
