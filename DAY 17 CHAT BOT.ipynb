{
 "cells": [
  {
   "cell_type": "code",
   "execution_count": 1,
   "id": "9ec2581c-b10a-4452-888a-80bb47af2d26",
   "metadata": {},
   "outputs": [],
   "source": [
    "def greet_person(name):\n",
    "    import random\n",
    "    all_msg = ['hello','Hii','Welcome','Hey!','WhatsUp']\n",
    "\n",
    "    first_msg= random.choice(all_msg) \n",
    "\n",
    "    # print(first_msg)\n",
    "    last_all_msg =  [\n",
    "    \"How's it going?\",\n",
    "    \"How are you doing?\",\n",
    "    \"What's up?\",\n",
    "    \"How are things?\",\n",
    "    \"How have you been?\",\n",
    "    \"How's everything?\",\n",
    "    \"How's life treating you?\",\n",
    "    \"What's good?\",\n",
    "    \"How's your day going?\",\n",
    "    \"How are things with you?\"]\n",
    "\n",
    "    last_msg = random.choice(last_all_msg)\n",
    "\n",
    "    final_msg =f'{first_msg} {name} , {last_msg}'\n",
    "    \n",
    "    return final_msg"
   ]
  },
  {
   "cell_type": "code",
   "execution_count": 18,
   "id": "57305fe7-a3a3-4129-98c4-55d528109a1a",
   "metadata": {},
   "outputs": [],
   "source": [
    "customer_query_database = {'Name':[],'Ticket ID':[], 'Customer_concerns':[],'Query':[],'Ticket_date':[]}    \n",
    "\n",
    "def chatbot():\n",
    "\n",
    "    import random \n",
    "    import time\n",
    "\n",
    "    customer_name = input('Enter name : ')\n",
    "    customer_query_database['Name'].append(customer_name)\n",
    "    print(greet_person(customer_name))\n",
    "    time.sleep(2)\n",
    "\n",
    "    print('Connecting with our customer care wait!!',end='')\n",
    "    for i in range(5):\n",
    "        print('.',end='')\n",
    "        time.sleep(1)\n",
    "\n",
    "    customer_care_names = [\"Aarav Kumar\",\"Priya Sharma\",\"Vikram Singh\",\"Ananya Gupta\",\"Rajesh Reddy\",\"Neha Patel\",\"Kunal Verma\",\"Sneha Iyer\"]\n",
    "\n",
    "    active_customer = random.choice(customer_care_names)\n",
    "\n",
    "    greetings_message = [\n",
    "    \"Hello! How can I assist you today?\",\n",
    "    \"Good day! How can we help you?\",\n",
    "    \"Hi there! Thank you for reaching out. How may I assist you?\",\n",
    "    \"Welcome! How can I make your experience better today?\",\n",
    "    \"Greetings! How can I assist you with your concerns?\",\n",
    "    \"Good morning/afternoon/evening! How can I help you today?\",\n",
    "    \"Thank you for contacting us! What can we do for you?\",\n",
    "    \"Hello and welcome! How may I assist you with your query?\",\n",
    "    \"Hi! Let me know how I can assist you today.\",\n",
    "    \"Welcome! How can I be of service to you today?\"\n",
    "    ]\n",
    "    customer_care_msg = random.choice(greetings_message)\n",
    "\n",
    "    print(f\"\\nHello I'm {active_customer} \", end='')\n",
    "    for i in range(3):\n",
    "        print('.',end='')\n",
    "        time.sleep(1)\n",
    "\n",
    "    print('\\n'+customer_care_msg)\n",
    "\n",
    "    customer_concerns = {\n",
    "                        \"Technical Issues\": [\n",
    "                            \"Difficulty logging in to the platform\",\n",
    "                            \"Issues with video playback or audio quality\",\n",
    "                            \"Inability to access certain course materials\",\n",
    "                            \"App crashes or freezes during use\",\n",
    "                            \"Problems with content loading or buffering\"\n",
    "                        ],\n",
    "                        \n",
    "                        \"Account & Billing\": [\n",
    "                            \"Issues with subscription or payment processing\",\n",
    "                            \"Questions regarding refund policy\",\n",
    "                            \"Billing discrepancies or overcharging\",\n",
    "                            \"Difficulty updating payment information\",\n",
    "                            \"Account suspension or deactivation issues\"\n",
    "                        ],\n",
    "                        \n",
    "                        \"Course Content & Quality\": [\n",
    "                            \"Requests for more detailed or advanced course material\",\n",
    "                            \"Issues with the course layout or design\",\n",
    "                            \"Desire for more interactive learning methods\",\n",
    "                            \"Confusion about course prerequisites or requirements\",\n",
    "                            \"Complaints about outdated or inaccurate content\"\n",
    "                        ],\n",
    "                        \n",
    "                        \"Customer Support & Service\": [\n",
    "                            \"Delayed responses from customer support\",\n",
    "                            \"Difficulty reaching a representative or live chat issue\",\n",
    "                            \"Lack of personalized assistance or guidance\",\n",
    "                            \"Unresolved inquiries or support tickets\",\n",
    "                            \"Negative experience with a support representative\"\n",
    "                        ],\n",
    "                        \n",
    "                        \"Platform Usability & Features\": [\n",
    "                            \"Difficulty navigating the platform interface\",\n",
    "                            \"Missing or non-functional features (e.g., bookmarking, progress tracking)\",\n",
    "                            \"Suggestions for new features or improvements\",\n",
    "                            \"Mobile app usability concerns\",\n",
    "                            \"Requests for language or accessibility options\"\n",
    "                        ]\n",
    "                    }\n",
    "\n",
    "    print('select your concern: ')\n",
    "    for index , key in enumerate(customer_concerns):\n",
    "        print(f'{index+1}. {key}')\n",
    "\n",
    "    concern_input = int(input('Enter value here : '))\n",
    "    time.sleep(2)\n",
    "    if 1<=concern_input<=5:\n",
    "        concern_topic = list(customer_concerns)[concern_input-1]\n",
    "        customer_query_database['Customer_concerns'].append(concern_topic)\n",
    "\n",
    "        for ix,msg in enumerate(customer_concerns[concern_topic]):\n",
    "            print(f' {ix+1}.{msg}')\n",
    "\n",
    "        query_input = int(input('Select value here: '))\n",
    "        query_msg = customer_concerns[concern_topic][query_input-1]\n",
    "        customer_query_database['Query'].append(query_msg)\n",
    "\n",
    "        if 1<=query_input<=5:\n",
    "            all_closing_msg = [\n",
    "                 \"Thank you for reaching out! Let us know if you need further help.\",\n",
    "                \"We’re happy to assist you! Feel free to contact us anytime.\",\n",
    "                \"Thanks for your time! We’re here if you need anything else.\",\n",
    "                \"Your satisfaction matters! Don’t hesitate to reach out again.\",\n",
    "                \"It was a pleasure helping you! Have a great day ahead!\"\n",
    "            ]\n",
    "    \n",
    "            final_closing_msg = random.choice(all_closing_msg)\n",
    "            time.sleep(2)\n",
    "            print(\"😊\"+final_closing_msg+\"😊\")\n",
    "            ticket_id = 'G'+str(random.randint(11111111,99999999))+'T'\n",
    "    \n",
    "            print(f'''Save this ticket ID for ref : \n",
    "            ticket_id : {ticket_id}''')\n",
    "    \n",
    "            customer_query_database['Ticket ID'].append(ticket_id)\n",
    "            customer_query_database['Ticket_date'].append(time.asctime())\n",
    "        else:\n",
    "            print('Invalid Input')\n",
    "\n",
    "    else:\n",
    "        print('Invalid Input')\n",
    "    display(clear = True)    \n",
    "        \n",
    "        "
   ]
  },
  {
   "cell_type": "code",
   "execution_count": 19,
   "id": "f8a00c7b-8ce3-4464-b8b5-2f83b5b90dee",
   "metadata": {},
   "outputs": [
    {
     "name": "stdin",
     "output_type": "stream",
     "text": [
      "Enter name :  SAURABH KUMAR\n"
     ]
    },
    {
     "name": "stdout",
     "output_type": "stream",
     "text": [
      "Hii SAURABH KUMAR , How's your day going?\n",
      "Connecting with our customer care wait!!.....\n",
      "Hello I'm Rajesh Reddy ...\n",
      "Hi! Let me know how I can assist you today.\n",
      "select your concern: \n",
      "1. Technical Issues\n",
      "2. Account & Billing\n",
      "3. Course Content & Quality\n",
      "4. Customer Support & Service\n",
      "5. Platform Usability & Features\n"
     ]
    },
    {
     "name": "stdin",
     "output_type": "stream",
     "text": [
      "Enter value here :  2\n"
     ]
    },
    {
     "name": "stdout",
     "output_type": "stream",
     "text": [
      " 1.Issues with subscription or payment processing\n",
      " 2.Questions regarding refund policy\n",
      " 3.Billing discrepancies or overcharging\n",
      " 4.Difficulty updating payment information\n",
      " 5.Account suspension or deactivation issues\n"
     ]
    },
    {
     "name": "stdin",
     "output_type": "stream",
     "text": [
      "Select value here:  3\n"
     ]
    },
    {
     "name": "stdout",
     "output_type": "stream",
     "text": [
      "😊Your satisfaction matters! Don’t hesitate to reach out again.😊\n",
      "Save this ticket ID for ref : \n",
      "            ticket_id : G71969493T\n"
     ]
    }
   ],
   "source": [
    "chatbot()"
   ]
  },
  {
   "cell_type": "code",
   "execution_count": 20,
   "id": "6a2a5e83-7e97-4723-8286-23a9c2c96cb6",
   "metadata": {},
   "outputs": [],
   "source": [
    "def show_all_tickets(admin=True):\n",
    "    import pandas as pd\n",
    "    if admin == True:\n",
    "        ticket_df = pd.DataFrame(customer_query_database)\n",
    "        return ticket_df\n",
    "    else:\n",
    "        print('You are not allowed to view!!')"
   ]
  },
  {
   "cell_type": "code",
   "execution_count": 21,
   "id": "0fac1fcd-a826-4b5c-ab8d-6ff816f82e02",
   "metadata": {},
   "outputs": [
    {
     "data": {
      "text/html": [
       "<div>\n",
       "<style scoped>\n",
       "    .dataframe tbody tr th:only-of-type {\n",
       "        vertical-align: middle;\n",
       "    }\n",
       "\n",
       "    .dataframe tbody tr th {\n",
       "        vertical-align: top;\n",
       "    }\n",
       "\n",
       "    .dataframe thead th {\n",
       "        text-align: right;\n",
       "    }\n",
       "</style>\n",
       "<table border=\"1\" class=\"dataframe\">\n",
       "  <thead>\n",
       "    <tr style=\"text-align: right;\">\n",
       "      <th></th>\n",
       "      <th>Name</th>\n",
       "      <th>Ticket ID</th>\n",
       "      <th>Customer_concerns</th>\n",
       "      <th>Query</th>\n",
       "      <th>Ticket_date</th>\n",
       "    </tr>\n",
       "  </thead>\n",
       "  <tbody>\n",
       "    <tr>\n",
       "      <th>0</th>\n",
       "      <td>SAURABH KUMAR</td>\n",
       "      <td>G71969493T</td>\n",
       "      <td>Account &amp; Billing</td>\n",
       "      <td>Billing discrepancies or overcharging</td>\n",
       "      <td>Mon Oct  6 11:16:09 2025</td>\n",
       "    </tr>\n",
       "  </tbody>\n",
       "</table>\n",
       "</div>"
      ],
      "text/plain": [
       "            Name   Ticket ID  Customer_concerns  \\\n",
       "0  SAURABH KUMAR  G71969493T  Account & Billing   \n",
       "\n",
       "                                   Query               Ticket_date  \n",
       "0  Billing discrepancies or overcharging  Mon Oct  6 11:16:09 2025  "
      ]
     },
     "execution_count": 21,
     "metadata": {},
     "output_type": "execute_result"
    }
   ],
   "source": [
    "show_all_tickets()"
   ]
  },
  {
   "cell_type": "code",
   "execution_count": null,
   "id": "a5717013-6b36-418f-9193-51448138be64",
   "metadata": {},
   "outputs": [],
   "source": []
  }
 ],
 "metadata": {
  "kernelspec": {
   "display_name": "Python [conda env:base] *",
   "language": "python",
   "name": "conda-base-py"
  },
  "language_info": {
   "codemirror_mode": {
    "name": "ipython",
    "version": 3
   },
   "file_extension": ".py",
   "mimetype": "text/x-python",
   "name": "python",
   "nbconvert_exporter": "python",
   "pygments_lexer": "ipython3",
   "version": "3.12.7"
  }
 },
 "nbformat": 4,
 "nbformat_minor": 5
}
