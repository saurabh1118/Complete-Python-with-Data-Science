{
 "cells": [
  {
   "cell_type": "markdown",
   "id": "9914fda6-dcc7-4c46-903d-b6f6e218ac1b",
   "metadata": {},
   "source": [
    "# Exception Handling"
   ]
  },
  {
   "cell_type": "code",
   "execution_count": 39,
   "id": "515f22c0-0b53-4e0a-a0e2-a3da27bd1421",
   "metadata": {},
   "outputs": [],
   "source": [
    "#Exception:exception are events that disrupt the normal flow of a program.\\\n",
    "# they occurs when an error is encountered during program execution."
   ]
  },
  {
   "cell_type": "code",
   "execution_count": 2,
   "id": "72772416-72a2-41f3-84c1-158422cdf3ce",
   "metadata": {},
   "outputs": [
    {
     "ename": "SyntaxError",
     "evalue": "expected ':' (1959387488.py, line 3)",
     "output_type": "error",
     "traceback": [
      "\u001b[1;36m  Cell \u001b[1;32mIn[2], line 3\u001b[1;36m\u001b[0m\n\u001b[1;33m    if age>=15\u001b[0m\n\u001b[1;37m              ^\u001b[0m\n\u001b[1;31mSyntaxError\u001b[0m\u001b[1;31m:\u001b[0m expected ':'\n"
     ]
    }
   ],
   "source": [
    "age = 45\n",
    "\n",
    "if age>=15\n",
    "    print('You can vote!')\n",
    "else:\n",
    "    print('can not vote')"
   ]
  },
  {
   "cell_type": "code",
   "execution_count": 3,
   "id": "638112b0-a4ff-48db-aabd-d241baf6e315",
   "metadata": {},
   "outputs": [
    {
     "name": "stdout",
     "output_type": "stream",
     "text": [
      "You can vote!\n"
     ]
    }
   ],
   "source": [
    "age = 45\n",
    "\n",
    "if age>=15:\n",
    "    print('You can vote!')\n",
    "else:\n",
    "    print('can not vote')"
   ]
  },
  {
   "cell_type": "code",
   "execution_count": 5,
   "id": "31b239c1-784e-41ac-b9f5-9685f73fa988",
   "metadata": {},
   "outputs": [
    {
     "ename": "TypeError",
     "evalue": "'>=' not supported between instances of 'list' and 'int'",
     "output_type": "error",
     "traceback": [
      "\u001b[1;31m---------------------------------------------------------------------------\u001b[0m",
      "\u001b[1;31mTypeError\u001b[0m                                 Traceback (most recent call last)",
      "Cell \u001b[1;32mIn[5], line 3\u001b[0m\n\u001b[0;32m      1\u001b[0m age \u001b[38;5;241m=\u001b[39m [\u001b[38;5;241m45\u001b[39m]\n\u001b[1;32m----> 3\u001b[0m \u001b[38;5;28;01mif\u001b[39;00m age\u001b[38;5;241m>\u001b[39m\u001b[38;5;241m=\u001b[39m\u001b[38;5;241m15\u001b[39m:\n\u001b[0;32m      4\u001b[0m     \u001b[38;5;28mprint\u001b[39m(\u001b[38;5;124m'\u001b[39m\u001b[38;5;124mYou can vote!\u001b[39m\u001b[38;5;124m'\u001b[39m)\n\u001b[0;32m      5\u001b[0m \u001b[38;5;28;01melse\u001b[39;00m:\n",
      "\u001b[1;31mTypeError\u001b[0m: '>=' not supported between instances of 'list' and 'int'"
     ]
    }
   ],
   "source": [
    "age = [45]\n",
    "\n",
    "if age>=15:\n",
    "    print('You can vote!')\n",
    "else:\n",
    "    print('can not vote')\n",
    "\n",
    "print('hello world')\n",
    "for i in range(10):\n",
    "    print('I love python')"
   ]
  },
  {
   "cell_type": "code",
   "execution_count": 11,
   "id": "649145bd-6169-4102-9e75-f47c34387b38",
   "metadata": {},
   "outputs": [
    {
     "name": "stdout",
     "output_type": "stream",
     "text": [
      "try block have error\n",
      "hello world\n",
      "I love python\n",
      "I love python\n",
      "I love python\n",
      "I love python\n",
      "I love python\n",
      "I love python\n",
      "I love python\n",
      "I love python\n",
      "I love python\n",
      "I love python\n"
     ]
    }
   ],
   "source": [
    "# to handle error use try and except\n",
    "try:\n",
    "    age = [45]\n",
    "    \n",
    "    if age>=15:\n",
    "        print('You can vote!')\n",
    "    else:\n",
    "        print('can not vote')\n",
    "except:\n",
    "    print('try block have error')\n",
    "    \n",
    "print('hello world')\n",
    "for i in range(10):\n",
    "    print('I love python')"
   ]
  },
  {
   "cell_type": "markdown",
   "id": "6d63f604-1822-4afd-88e8-54f00a3fe8e3",
   "metadata": {},
   "source": [
    "### Nested Exception handling"
   ]
  },
  {
   "cell_type": "code",
   "execution_count": 12,
   "id": "ee132964-dae1-4fdd-9bea-342eb9e46998",
   "metadata": {},
   "outputs": [
    {
     "name": "stdout",
     "output_type": "stream",
     "text": [
      "othr_code1\n"
     ]
    }
   ],
   "source": [
    "try:\n",
    "    try:\n",
    "        code\n",
    "        try:\n",
    "            code1\n",
    "        except:\n",
    "            code2\n",
    "    except:\n",
    "        try:\n",
    "            print('othr_code1')\n",
    "        except:\n",
    "            other_code2\n",
    "\n",
    "except:\n",
    "    print('some wrong')"
   ]
  },
  {
   "cell_type": "markdown",
   "id": "b93ee135-b987-4a53-b48b-0f09edc7be56",
   "metadata": {},
   "source": [
    "# Exception handling \n",
    "    - try\n",
    "    - except\n",
    "    - else\n",
    "    - finally"
   ]
  },
  {
   "cell_type": "code",
   "execution_count": 17,
   "id": "f1a835a0-d074-4569-8a42-6e4a14eb9c2f",
   "metadata": {},
   "outputs": [
    {
     "name": "stdout",
     "output_type": "stream",
     "text": [
      "try block: code that can return error or chances!!\n",
      "Else block: Run only when complete try block runs successfully!!\n",
      "finally block: finally block always run !!\n"
     ]
    }
   ],
   "source": [
    "try:\n",
    "    print('try block: code that can return error or chances!!')\n",
    "except:\n",
    "    print('except block: if try block is not run , then except block run!!')\n",
    "else:\n",
    "    print('Else block: Run only when complete try block runs successfully!!')\n",
    "finally:\n",
    "    print('finally block: finally block always run !!')"
   ]
  },
  {
   "cell_type": "code",
   "execution_count": 18,
   "id": "0ddecb12-bbba-436b-a32e-1d1411fbe191",
   "metadata": {},
   "outputs": [
    {
     "name": "stdout",
     "output_type": "stream",
     "text": [
      "try block: code that can return error or chances!!\n",
      "except block: if try block is not run , then except block run!!\n",
      "finally block: finally block always run !!\n"
     ]
    }
   ],
   "source": [
    "try:\n",
    "    print('try block: code that can return error or chances!!')\n",
    "    print(1/0)\n",
    "except:\n",
    "    print('except block: if try block is not run , then except block run!!')\n",
    "else:\n",
    "    print('Else block: Run only when complete try block runs successfully!!')\n",
    "finally:\n",
    "    print('finally block: finally block always run !!')"
   ]
  },
  {
   "cell_type": "code",
   "execution_count": 21,
   "id": "890df2dc-3516-4e3d-bb53-1e70ccb0cc82",
   "metadata": {},
   "outputs": [
    {
     "name": "stdout",
     "output_type": "stream",
     "text": [
      "except block: if try block is not run , then except block run!!\n",
      "finally block: finally block always run !!\n"
     ]
    }
   ],
   "source": [
    "try:\n",
    "    print(1/0)\n",
    "    print('try block: code that can return error or chances!!')\n",
    "except:\n",
    "    print('except block: if try block is not run , then except block run!!')\n",
    "else:\n",
    "    print('Else block: Run only when complete try block runs successfully!!')\n",
    "finally:\n",
    "    print('finally block: finally block always run !!')"
   ]
  },
  {
   "cell_type": "code",
   "execution_count": 23,
   "id": "a25a9c24-34d4-475f-9fd1-29423143de47",
   "metadata": {},
   "outputs": [
    {
     "name": "stdout",
     "output_type": "stream",
     "text": [
      "digvesh\n",
      "Something wrong\n",
      "finally block\n"
     ]
    }
   ],
   "source": [
    "try:\n",
    "    name = 'digvesh'\n",
    "    print(name)\n",
    "    print(1/0)\n",
    "    data=[12,458,77,85]\n",
    "    print(data[0])\n",
    "except:\n",
    "    print('Something wrong')\n",
    "else:\n",
    "    print('all case checked')\n",
    "finally:\n",
    "    print('finally block')"
   ]
  },
  {
   "cell_type": "code",
   "execution_count": 25,
   "id": "61d932d5-0a3b-49db-95a6-421feed68671",
   "metadata": {},
   "outputs": [
    {
     "ename": "IndexError",
     "evalue": "list index out of range",
     "output_type": "error",
     "traceback": [
      "\u001b[1;31m---------------------------------------------------------------------------\u001b[0m",
      "\u001b[1;31mIndexError\u001b[0m                                Traceback (most recent call last)",
      "Cell \u001b[1;32mIn[25], line 3\u001b[0m\n\u001b[0;32m      1\u001b[0m data \u001b[38;5;241m=\u001b[39m [\u001b[38;5;241m253\u001b[39m,\u001b[38;5;241m45\u001b[39m,\u001b[38;5;241m55\u001b[39m]\n\u001b[1;32m----> 3\u001b[0m data[\u001b[38;5;241m5\u001b[39m]\n",
      "\u001b[1;31mIndexError\u001b[0m: list index out of range"
     ]
    }
   ],
   "source": [
    "data = [253,45,55]\n",
    "\n",
    "data[5]"
   ]
  },
  {
   "cell_type": "code",
   "execution_count": 26,
   "id": "75cea3bb-d018-4122-8c66-effedf77e147",
   "metadata": {},
   "outputs": [
    {
     "ename": "TypeError",
     "evalue": "unhashable type: 'list'",
     "output_type": "error",
     "traceback": [
      "\u001b[1;31m---------------------------------------------------------------------------\u001b[0m",
      "\u001b[1;31mTypeError\u001b[0m                                 Traceback (most recent call last)",
      "Cell \u001b[1;32mIn[26], line 3\u001b[0m\n\u001b[0;32m      1\u001b[0m data \u001b[38;5;241m=\u001b[39m {\u001b[38;5;124m'\u001b[39m\u001b[38;5;124mname\u001b[39m\u001b[38;5;124m'\u001b[39m:\u001b[38;5;124m'\u001b[39m\u001b[38;5;124msk\u001b[39m\u001b[38;5;124m'\u001b[39m,\u001b[38;5;124m'\u001b[39m\u001b[38;5;124mage\u001b[39m\u001b[38;5;124m'\u001b[39m:\u001b[38;5;241m56\u001b[39m}\n\u001b[1;32m----> 3\u001b[0m data[age]\n",
      "\u001b[1;31mTypeError\u001b[0m: unhashable type: 'list'"
     ]
    }
   ],
   "source": [
    "data = {'name':'sk','age':56}\n",
    "\n",
    "data[age]"
   ]
  },
  {
   "cell_type": "code",
   "execution_count": 28,
   "id": "7eecca89-65a5-44f5-b841-5a5eef0ef66b",
   "metadata": {},
   "outputs": [
    {
     "ename": "IndentationError",
     "evalue": "expected an indented block after 'else' statement on line 4 (242374829.py, line 5)",
     "output_type": "error",
     "traceback": [
      "\u001b[1;36m  Cell \u001b[1;32mIn[28], line 5\u001b[1;36m\u001b[0m\n\u001b[1;33m    print('n')\u001b[0m\n\u001b[1;37m    ^\u001b[0m\n\u001b[1;31mIndentationError\u001b[0m\u001b[1;31m:\u001b[0m expected an indented block after 'else' statement on line 4\n"
     ]
    }
   ],
   "source": [
    "age= 45\n",
    "if age >=18:\n",
    "    print('y')\n",
    "else:\n",
    "print('n')"
   ]
  },
  {
   "cell_type": "code",
   "execution_count": 30,
   "id": "059a81b2-4f2a-447b-b2b3-84a3dadb0ac1",
   "metadata": {},
   "outputs": [
    {
     "name": "stdout",
     "output_type": "stream",
     "text": [
      "['ArithmeticError', 'AssertionError', 'AttributeError', 'BaseException', 'BaseExceptionGroup', 'BlockingIOError', 'BrokenPipeError', 'BufferError', 'BytesWarning', 'ChildProcessError', 'ConnectionAbortedError', 'ConnectionError', 'ConnectionRefusedError', 'ConnectionResetError', 'DeprecationWarning', 'EOFError', 'Ellipsis', 'EncodingWarning', 'EnvironmentError', 'Exception', 'ExceptionGroup', 'False', 'FileExistsError', 'FileNotFoundError', 'FloatingPointError', 'FutureWarning', 'GeneratorExit', 'IOError', 'ImportError', 'ImportWarning', 'IndentationError', 'IndexError', 'InterruptedError', 'IsADirectoryError', 'KeyError', 'KeyboardInterrupt', 'LookupError', 'MemoryError', 'ModuleNotFoundError', 'NameError', 'None', 'NotADirectoryError', 'NotImplemented', 'NotImplementedError', 'OSError', 'OverflowError', 'PendingDeprecationWarning', 'PermissionError', 'ProcessLookupError', 'RecursionError', 'ReferenceError', 'ResourceWarning', 'RuntimeError', 'RuntimeWarning', 'StopAsyncIteration', 'StopIteration', 'SyntaxError', 'SyntaxWarning', 'SystemError', 'SystemExit', 'TabError', 'TimeoutError', 'True', 'TypeError', 'UnboundLocalError', 'UnicodeDecodeError', 'UnicodeEncodeError', 'UnicodeError', 'UnicodeTranslateError', 'UnicodeWarning', 'UserWarning', 'ValueError', 'Warning', 'WindowsError', 'ZeroDivisionError', '__IPYTHON__', '__build_class__', '__debug__', '__doc__', '__import__', '__loader__', '__name__', '__package__', '__spec__', 'abs', 'aiter', 'all', 'anext', 'any', 'ascii', 'bin', 'bool', 'breakpoint', 'bytearray', 'bytes', 'callable', 'chr', 'classmethod', 'compile', 'complex', 'copyright', 'credits', 'delattr', 'dict', 'dir', 'display', 'divmod', 'enumerate', 'eval', 'exec', 'execfile', 'filter', 'float', 'format', 'frozenset', 'get_ipython', 'getattr', 'globals', 'hasattr', 'hash', 'help', 'hex', 'id', 'input', 'int', 'isinstance', 'issubclass', 'iter', 'len', 'license', 'list', 'locals', 'map', 'max', 'memoryview', 'min', 'next', 'object', 'oct', 'open', 'ord', 'pow', 'print', 'property', 'range', 'repr', 'reversed', 'round', 'runfile', 'set', 'setattr', 'slice', 'sorted', 'staticmethod', 'str', 'sum', 'super', 'tuple', 'type', 'vars', 'zip']\n"
     ]
    }
   ],
   "source": [
    "#errors in python\n",
    "\n",
    "print(dir(__builtin__))"
   ]
  },
  {
   "cell_type": "code",
   "execution_count": 31,
   "id": "7f3224a4-e69d-4002-b963-4cd6a46c15c2",
   "metadata": {},
   "outputs": [
    {
     "ename": "ImportError",
     "evalue": "cannot import name 'coww' from 'cowsay' (C:\\Users\\Saurabh\\anaconda3\\Lib\\site-packages\\cowsay\\__init__.py)",
     "output_type": "error",
     "traceback": [
      "\u001b[1;31m---------------------------------------------------------------------------\u001b[0m",
      "\u001b[1;31mImportError\u001b[0m                               Traceback (most recent call last)",
      "Cell \u001b[1;32mIn[31], line 1\u001b[0m\n\u001b[1;32m----> 1\u001b[0m \u001b[38;5;28;01mfrom\u001b[39;00m \u001b[38;5;21;01mcowsay\u001b[39;00m \u001b[38;5;28;01mimport\u001b[39;00m coww\n",
      "\u001b[1;31mImportError\u001b[0m: cannot import name 'coww' from 'cowsay' (C:\\Users\\Saurabh\\anaconda3\\Lib\\site-packages\\cowsay\\__init__.py)"
     ]
    }
   ],
   "source": [
    "from cowsay import coww"
   ]
  },
  {
   "cell_type": "code",
   "execution_count": 33,
   "id": "c97bbdfe-a178-4543-8658-57b112a09794",
   "metadata": {},
   "outputs": [
    {
     "name": "stdout",
     "output_type": "stream",
     "text": [
      "  _____\n",
      "| hello |\n",
      "  =====\n",
      "     \\\n",
      "      \\\n",
      "        ^__^\n",
      "        (oo)\\_______\n",
      "        (__)\\       )\\/\\\n",
      "            ||----w |\n",
      "            ||     ||\n",
      "Module loaded successfully\n"
     ]
    }
   ],
   "source": [
    "try:\n",
    "    from cowsay import coww\n",
    "except:\n",
    "    from cowsay import cow\n",
    "    cow('hello')\n",
    "else:\n",
    "    print('valid module or function name')\n",
    "    print('Hello karan')\n",
    "finally:\n",
    "    print('Module loaded successfully')"
   ]
  },
  {
   "cell_type": "code",
   "execution_count": 34,
   "id": "291a662a-29fe-42d1-8a9e-a63a1853e31d",
   "metadata": {},
   "outputs": [
    {
     "name": "stdout",
     "output_type": "stream",
     "text": [
      "valid module or function name\n",
      "Hello karan\n",
      "Module loaded successfully\n"
     ]
    }
   ],
   "source": [
    "try:\n",
    "    from cowsay import cow\n",
    "except:\n",
    "    from cowsay import cow\n",
    "    cow('hello')\n",
    "else:\n",
    "    print('valid module or function name')\n",
    "    print('Hello karan')\n",
    "finally:\n",
    "    print('Module loaded successfully')"
   ]
  },
  {
   "cell_type": "code",
   "execution_count": 35,
   "id": "4542ef54-0be3-46e5-a806-3169b5fb6b56",
   "metadata": {},
   "outputs": [
    {
     "ename": "TypeError",
     "evalue": "unsupported operand type(s) for /: 'int' and 'str'",
     "output_type": "error",
     "traceback": [
      "\u001b[1;31m---------------------------------------------------------------------------\u001b[0m",
      "\u001b[1;31mTypeError\u001b[0m                                 Traceback (most recent call last)",
      "Cell \u001b[1;32mIn[35], line 1\u001b[0m\n\u001b[1;32m----> 1\u001b[0m \u001b[38;5;241m12\u001b[39m\u001b[38;5;241m/\u001b[39m\u001b[38;5;124m'\u001b[39m\u001b[38;5;124m12\u001b[39m\u001b[38;5;124m'\u001b[39m\n",
      "\u001b[1;31mTypeError\u001b[0m: unsupported operand type(s) for /: 'int' and 'str'"
     ]
    }
   ],
   "source": [
    "12/'12'"
   ]
  },
  {
   "cell_type": "code",
   "execution_count": 36,
   "id": "395dc223-343c-4458-84ae-bf1f4e310c60",
   "metadata": {},
   "outputs": [
    {
     "ename": "ValueError",
     "evalue": "invalid literal for int() with base 10: '34.5'",
     "output_type": "error",
     "traceback": [
      "\u001b[1;31m---------------------------------------------------------------------------\u001b[0m",
      "\u001b[1;31mValueError\u001b[0m                                Traceback (most recent call last)",
      "Cell \u001b[1;32mIn[36], line 1\u001b[0m\n\u001b[1;32m----> 1\u001b[0m \u001b[38;5;28mint\u001b[39m(\u001b[38;5;124m'\u001b[39m\u001b[38;5;124m34.5\u001b[39m\u001b[38;5;124m'\u001b[39m)\n",
      "\u001b[1;31mValueError\u001b[0m: invalid literal for int() with base 10: '34.5'"
     ]
    }
   ],
   "source": [
    "int('34.5')"
   ]
  },
  {
   "cell_type": "code",
   "execution_count": 37,
   "id": "3c72b0ac-fb96-414e-b3e1-362bae9c6f81",
   "metadata": {},
   "outputs": [
    {
     "data": {
      "text/plain": [
       "34.5"
      ]
     },
     "execution_count": 37,
     "metadata": {},
     "output_type": "execute_result"
    }
   ],
   "source": [
    "float('34.5')"
   ]
  },
  {
   "cell_type": "code",
   "execution_count": 38,
   "id": "bb6df1e4-6b56-41fd-bc24-b2e18f3d6c3e",
   "metadata": {},
   "outputs": [
    {
     "data": {
      "text/plain": [
       "34"
      ]
     },
     "execution_count": 38,
     "metadata": {},
     "output_type": "execute_result"
    }
   ],
   "source": [
    "int(float('34.5'))"
   ]
  },
  {
   "cell_type": "code",
   "execution_count": null,
   "id": "b4b9806f-2f4d-4280-8dce-6458e07b8fbf",
   "metadata": {},
   "outputs": [],
   "source": []
  }
 ],
 "metadata": {
  "kernelspec": {
   "display_name": "Python [conda env:base] *",
   "language": "python",
   "name": "conda-base-py"
  },
  "language_info": {
   "codemirror_mode": {
    "name": "ipython",
    "version": 3
   },
   "file_extension": ".py",
   "mimetype": "text/x-python",
   "name": "python",
   "nbconvert_exporter": "python",
   "pygments_lexer": "ipython3",
   "version": "3.12.7"
  }
 },
 "nbformat": 4,
 "nbformat_minor": 5
}
