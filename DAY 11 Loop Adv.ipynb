{
 "cells": [
  {
   "cell_type": "markdown",
   "id": "eb806a40-18ad-4b70-a9ab-9c39e78cccf6",
   "metadata": {},
   "source": [
    "# For loop with Pass , Break , continue , Nested for Loop , Foor loop with Else\n",
    "- Pass"
   ]
  },
  {
   "cell_type": "code",
   "execution_count": 59,
   "id": "224928b4-9ba5-49be-9f0c-b43f0912abe0",
   "metadata": {},
   "outputs": [],
   "source": [
    "passengers = {'Gyan':{'Amount':450},'Riya':{'Amount':50},'Sakin':{'Amount':78},'Harsh':{'Amount':-10},'Ekansh':{'Amount':4500}}"
   ]
  },
  {
   "cell_type": "code",
   "execution_count": 60,
   "id": "9d795e92-18bb-4592-aa9a-24bb9bd36f5b",
   "metadata": {},
   "outputs": [
    {
     "name": "stdout",
     "output_type": "stream",
     "text": [
      "{'Gyan': {'Amount': 450}, 'Riya': {'Amount': 50}, 'Sakin': {'Amount': 78}, 'Harsh': {'Amount': -10}, 'Ekansh': {'Amount': 4500}}\n"
     ]
    }
   ],
   "source": [
    "print(passengers)"
   ]
  },
  {
   "cell_type": "code",
   "execution_count": 62,
   "id": "94a5c169-7a86-46f6-964d-43d6fad808f2",
   "metadata": {},
   "outputs": [
    {
     "name": "stdout",
     "output_type": "stream",
     "text": [
      "All Done\n"
     ]
    }
   ],
   "source": [
    "import IPython\n",
    "import time\n",
    "\n",
    "for i in passengers:\n",
    "    card_balance = passengers[i]['Amount']\n",
    "    if card_balance >=10:\n",
    "        url =  'https://media.tenor.com/MLG6yk-hRVsAAAAM/train-doors.gif'\n",
    "        \n",
    "        print(f'{i} You are allowd')\n",
    "        display(IPython.display.Image(url))\n",
    "    else:\n",
    "        url = 'https://media.tenor.com/xrgfudiAFW8AAAAM/missed-train-late.gif'\n",
    "        display(IPython.display.Image(url))\n",
    "        print(f'{i} You are not allowd')\n",
    "\n",
    "    display(clear = True)\n",
    "    time.sleep(3)\n",
    "\n",
    "display(clear = True)\n",
    "print('All Done')"
   ]
  },
  {
   "cell_type": "markdown",
   "id": "de5173e3-d8b6-4376-81cc-026190bba0e1",
   "metadata": {},
   "source": [
    "# Pass"
   ]
  },
  {
   "cell_type": "code",
   "execution_count": 12,
   "id": "f9db6f1c-b55c-4293-beea-6e4e19a54581",
   "metadata": {},
   "outputs": [
    {
     "name": "stdout",
     "output_type": "stream",
     "text": [
      "{'Gyan': {'Amount': 150}, 'Riya': {'Amount': 350}, 'Sakib': {'Amount': 1000}, 'Harsh': {'Amount': -10}, 'Ekansh': {'Amount': 1047}}\n"
     ]
    }
   ],
   "source": [
    "passengers = {'Gyan':{'Amount':150},\n",
    "              'Riya':{'Amount':350},\n",
    "              'Sakib':{'Amount':1000},\n",
    "              'Harsh':{'Amount':-10},\n",
    "              'Ekansh':{'Amount':1047}}\n",
    "\n",
    "print(passengers)\n",
    "            "
   ]
  },
  {
   "cell_type": "code",
   "execution_count": 14,
   "id": "f5c438c3-2615-40e7-913c-74826c8d69d5",
   "metadata": {},
   "outputs": [
    {
     "name": "stdout",
     "output_type": "stream",
     "text": [
      "Done\n",
      "Done\n",
      "Done\n",
      "Harsh , You card balance is low\n",
      "Done\n"
     ]
    }
   ],
   "source": [
    "import IPython \n",
    "import time\n",
    "\n",
    "for i in passengers:\n",
    "    card_balance = passengers[i]['Amount']\n",
    "\n",
    "    if card_balance >=10:\n",
    "        pass # iteration : skip , flow control , next code\n",
    "        print('Done')\n",
    "    else:\n",
    "        print(f'{i} , You card balance is low')"
   ]
  },
  {
   "cell_type": "markdown",
   "id": "af185da5-f9f5-45a1-8b42-0eec1ca215e1",
   "metadata": {},
   "source": [
    "# Break"
   ]
  },
  {
   "cell_type": "code",
   "execution_count": 35,
   "id": "7c853c38-8fa8-4367-8f16-bdf7307e16d5",
   "metadata": {},
   "outputs": [
    {
     "name": "stdout",
     "output_type": "stream",
     "text": [
      "{'Gyan': {'Luggage': ['Books', 'Laptop', 'Wallet']}, 'Riya': {'Luggage': ['Books', 'Bottle', 'Purse']}, 'Sakib': {'Luggage': ['Resume', 'Passport', 'Bag']}, 'Harsh': {'Luggage': ['Books', 'Knife', 'Resume']}, 'Ekansh': {'Luggage': [None]}, 'Dhruv': {'Luggage': ['Books', 'Laptop']}, 'Luv': {'Luggage': ['Explosives', 'Laptop']}}\n"
     ]
    }
   ],
   "source": [
    "passengers = {\"Gyan\":{'Luggage':['Books','Laptop','Wallet']},\n",
    "              \"Riya\":{'Luggage':['Books','Bottle','Purse']},\n",
    "              'Sakib':{'Luggage':['Resume','Passport','Bag']},\n",
    "              'Harsh':{'Luggage':['Books','Knife','Resume']},\n",
    "              'Ekansh':{'Luggage':[None]},\n",
    "              'Dhruv':{'Luggage':['Books','Laptop']},\n",
    "              'Luv':{'Luggage':['Explosives','Laptop']}}\n",
    "\n",
    "print(passengers)\n"
   ]
  },
  {
   "cell_type": "code",
   "execution_count": 36,
   "id": "0b06145b-fc71-4ad0-b342-7cd7e9deb6d3",
   "metadata": {},
   "outputs": [
    {
     "name": "stdout",
     "output_type": "stream",
     "text": [
      "['Knife', 'Firearms', 'Explosives', 'Sharp objects', 'Illegal drugs', 'Flammable substances', 'Acids or corrosive chemicals', 'Gas canisters', 'Toxic materials', 'Large or bulky luggage', 'Alcohol (in some regions)', 'Pets (unless in carrier)', 'Bicycles (in some regions)', 'Skateboards', 'Glass bottles', 'Ammunition', 'Fireworks', 'Pepper spray', 'Self-defense weapons (such as tasers)', 'Loudspeakers or amplifiers']\n"
     ]
    }
   ],
   "source": [
    "banned_items = [\n",
    "    \"Knife\",\n",
    "    \"Firearms\",\n",
    "    \"Explosives\",\n",
    "    \"Sharp objects\",\n",
    "    \"Illegal drugs\",\n",
    "    \"Flammable substances\",\n",
    "    \"Acids or corrosive chemicals\",\n",
    "    \"Gas canisters\",\n",
    "    \"Toxic materials\",\n",
    "    \"Large or bulky luggage\",\n",
    "    \"Alcohol (in some regions)\",\n",
    "    \"Pets (unless in carrier)\",\n",
    "    \"Bicycles (in some regions)\",\n",
    "    \"Skateboards\",\n",
    "    \"Glass bottles\",\n",
    "    \"Ammunition\",\n",
    "    \"Fireworks\",\n",
    "    \"Pepper spray\",\n",
    "    \"Self-defense weapons (such as tasers)\",\n",
    "    \"Loudspeakers or amplifiers\"\n",
    "]\n",
    "print(banned_items)"
   ]
  },
  {
   "cell_type": "code",
   "execution_count": 46,
   "id": "1cda81fb-65c8-48bb-9be7-fceb82c7e702",
   "metadata": {},
   "outputs": [
    {
     "name": "stdout",
     "output_type": "stream",
     "text": [
      "Done\n"
     ]
    }
   ],
   "source": [
    "import winsound\n",
    "import IPython\n",
    "import time\n",
    "\n",
    "result = False\n",
    "\n",
    "for name in passengers:\n",
    "    passengers_items = passengers[name]['Luggage']\n",
    "    for items in passengers_items:\n",
    "        if items not in banned_items:\n",
    "            pass\n",
    "        else:\n",
    "            print(f'{name} Your Luddage have illegal items , You are not allowed')\n",
    "            url='https://media.tenor.com/vKFl6YLvErMAAAAM/cops-running-from-tackle.gif'\n",
    "            display(IPython.display.Image(url,width=100))\n",
    "            winsound.Beep(2000,5000)\n",
    "            display(clear = True)\n",
    "            result = True\n",
    "            break # It terminate code\n",
    "\n",
    "    if result == True:\n",
    "        break\n",
    "    else:\n",
    "        print(f'{name} , You can Go !!!')\n",
    "        winsound.Beep(2000,1000)\n",
    "    time.sleep(2)\n",
    "    display(clear = True)\n",
    "    \n",
    "print('Done')  "
   ]
  },
  {
   "cell_type": "markdown",
   "id": "3509418c-0705-4161-95f1-b7c90a695c33",
   "metadata": {},
   "source": [
    "# Continue"
   ]
  },
  {
   "cell_type": "code",
   "execution_count": 57,
   "id": "263ad064-e608-44f2-bece-87e5b522d08c",
   "metadata": {},
   "outputs": [
    {
     "name": "stdout",
     "output_type": "stream",
     "text": [
      "Done\n"
     ]
    }
   ],
   "source": [
    "import winsound\n",
    "import IPython\n",
    "import time\n",
    "\n",
    "#result = False\n",
    "\n",
    "for name in passengers:\n",
    "    result = False\n",
    "    passengers_items = passengers[name]['Luggage']\n",
    "    for items in passengers_items:\n",
    "        if items not in banned_items:\n",
    "            pass\n",
    "        else:\n",
    "           # result = False\n",
    "            print(f'{name} Your Luddage have illegal items , You are not allowed')\n",
    "            url='https://media.tenor.com/vKFl6YLvErMAAAAM/cops-running-from-tackle.gif'\n",
    "            display(IPython.display.Image(url,width=100))\n",
    "            winsound.Beep(2000,5000)\n",
    "            display(clear = True)\n",
    "            result = True\n",
    "            continue # skip this step and continue\n",
    "\n",
    "    if result == True:\n",
    "        continue\n",
    "    else:\n",
    "        print(f'{name} , You can Go !!!')\n",
    "        winsound.Beep(2000,1000)\n",
    "    time.sleep(2)\n",
    "    display(clear = True)\n",
    "    \n",
    "print('Done')  "
   ]
  },
  {
   "cell_type": "code",
   "execution_count": null,
   "id": "e4bc3e21-a440-47ec-bf9d-b8fac59a14c6",
   "metadata": {},
   "outputs": [],
   "source": []
  },
  {
   "cell_type": "code",
   "execution_count": null,
   "id": "86f59f6f-666c-4f8a-be6c-f363c0c0e07c",
   "metadata": {},
   "outputs": [],
   "source": []
  }
 ],
 "metadata": {
  "kernelspec": {
   "display_name": "Python [conda env:base] *",
   "language": "python",
   "name": "conda-base-py"
  },
  "language_info": {
   "codemirror_mode": {
    "name": "ipython",
    "version": 3
   },
   "file_extension": ".py",
   "mimetype": "text/x-python",
   "name": "python",
   "nbconvert_exporter": "python",
   "pygments_lexer": "ipython3",
   "version": "3.12.7"
  }
 },
 "nbformat": 4,
 "nbformat_minor": 5
}
