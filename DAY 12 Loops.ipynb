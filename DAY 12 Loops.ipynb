{
 "cells": [
  {
   "cell_type": "markdown",
   "id": "dc555442-d1f0-440e-9425-505ab9899a90",
   "metadata": {},
   "source": [
    "# Continue , For with Else , Nested Loop , While Loop"
   ]
  },
  {
   "cell_type": "code",
   "execution_count": 1,
   "id": "e237d265-7836-4d5c-bf83-cd27327cb5d6",
   "metadata": {},
   "outputs": [],
   "source": [
    "#Continue:Loop iteration sskip , and pass control to next iteration\n",
    "# Pass: Loop iteration skip and pass control to next code\n",
    "# Break : Loop completely break and exit outside the loop"
   ]
  },
  {
   "cell_type": "code",
   "execution_count": 7,
   "id": "f4709e42-6cc6-4c81-8ee3-e5da1b4d5262",
   "metadata": {},
   "outputs": [
    {
     "name": "stdout",
     "output_type": "stream",
     "text": [
      "Your ID 12 Payment approved\n",
      "Your ID 584 Payment approved\n",
      "Your ID 25 Payment approved\n",
      "Your ID 1 Payment approved\n",
      "Your ID 56 Payment approved\n",
      "Your ID 146 Payment approved\n",
      "Your ID 65 Payment approved\n",
      "Your ID 666 Payment approved\n",
      "Your ID 66 Payment approved\n",
      "Your ID 426 Payment approved\n"
     ]
    }
   ],
   "source": [
    "data = [12,584,25,1,56,146,65,67,666,574,66,426]\n",
    "\n",
    "for i in data:\n",
    "    if i in [67,574]:\n",
    "        continue #continue :skip the all next line code\n",
    "        print('Just checking')\n",
    "    else:\n",
    "        print(f'Your ID {i} Payment approved')"
   ]
  },
  {
   "cell_type": "code",
   "execution_count": 4,
   "id": "fb8dbc01-83bd-4ca7-ac96-9d1e68a21723",
   "metadata": {},
   "outputs": [
    {
     "name": "stdout",
     "output_type": "stream",
     "text": [
      "Your ID 12 Payment approved\n",
      "Your ID 584 Payment approved\n",
      "Your ID 25 Payment approved\n",
      "Your ID 1 Payment approved\n",
      "Your ID 56 Payment approved\n",
      "Your ID 146 Payment approved\n",
      "Your ID 65 Payment approved\n",
      "Just checking\n",
      "Your ID 666 Payment approved\n",
      "Just checking\n",
      "Your ID 66 Payment approved\n",
      "Your ID 426 Payment approved\n"
     ]
    }
   ],
   "source": [
    "data = [12,584,25,1,56,146,65,67,666,574,66,426]\n",
    "\n",
    "for i in data:\n",
    "    if i in [67,574]:\n",
    "        pass #pass\n",
    "        print('Just checking')\n",
    "    else:\n",
    "        print(f'Your ID {i} Payment approved')"
   ]
  },
  {
   "cell_type": "code",
   "execution_count": 5,
   "id": "8f6bda3a-39da-4ce8-878f-4cb7089b52a0",
   "metadata": {},
   "outputs": [
    {
     "name": "stdout",
     "output_type": "stream",
     "text": [
      "Your ID 12 Payment approved\n",
      "Your ID 584 Payment approved\n",
      "Your ID 25 Payment approved\n",
      "Your ID 1 Payment approved\n",
      "Your ID 56 Payment approved\n",
      "Your ID 146 Payment approved\n",
      "Your ID 65 Payment approved\n"
     ]
    }
   ],
   "source": [
    "data = [12,584,25,1,56,146,65,67,666,574,66,426]\n",
    "\n",
    "for i in data:\n",
    "    if i in [67,574]:\n",
    "        break\n",
    "        print('Just checking')\n",
    "    else:\n",
    "        print(f'Your ID {i} Payment approved')"
   ]
  },
  {
   "cell_type": "markdown",
   "id": "3a80bc0f-7786-460c-9147-6d05b6bb899f",
   "metadata": {},
   "source": [
    "# For with Else"
   ]
  },
  {
   "cell_type": "code",
   "execution_count": 8,
   "id": "b74eff91-8af7-4273-a8a8-ea749f08021a",
   "metadata": {},
   "outputs": [],
   "source": [
    "# Prime Numnber"
   ]
  },
  {
   "cell_type": "code",
   "execution_count": 15,
   "id": "28d0ba97-5310-40b4-a907-b3fc7836aec7",
   "metadata": {},
   "outputs": [
    {
     "name": "stdin",
     "output_type": "stream",
     "text": [
      "Enter number:  50\n"
     ]
    },
    {
     "name": "stdout",
     "output_type": "stream",
     "text": [
      "Prime Number list upto 50:  [2, 3, 5, 7, 11, 13, 17, 19, 23, 29, 31, 37, 41, 43, 47]\n"
     ]
    }
   ],
   "source": [
    "all_prime = []\n",
    "max_range = int(input(\"Enter number: \"))\n",
    "for i in range(2,max_range):\n",
    "    for j in range(2,i):\n",
    "        if i % j == 0:\n",
    "           # print('Not Prime Number')\n",
    "            break\n",
    "    else:\n",
    "       all_prime.append(i)\n",
    "\n",
    "print(f\"Prime Number list upto {max_range}: \",all_prime)"
   ]
  },
  {
   "cell_type": "code",
   "execution_count": 16,
   "id": "1dbe0cc6-63d7-4004-908c-b05734ed2148",
   "metadata": {},
   "outputs": [
    {
     "name": "stdout",
     "output_type": "stream",
     "text": [
      "Not Prime\n"
     ]
    }
   ],
   "source": [
    "user_number = 45146521\n",
    "\n",
    "for i in range(2,user_number):\n",
    "    if user_number % i == 0:\n",
    "        print('Not Prime')\n",
    "        break\n",
    "else:\n",
    "    print('Yes Its prime number')"
   ]
  },
  {
   "cell_type": "markdown",
   "id": "0111f877-3718-48af-a201-a4242e01e597",
   "metadata": {},
   "source": [
    "# Nested Loop"
   ]
  },
  {
   "cell_type": "code",
   "execution_count": 18,
   "id": "01101d31-66a2-4fca-8eb7-4a9e74539e79",
   "metadata": {},
   "outputs": [
    {
     "name": "stdout",
     "output_type": "stream",
     "text": [
      "Common_id :  [555, 665, 44, 44]\n"
     ]
    }
   ],
   "source": [
    "sales_id = [4,655,447,423,555,455,665,44,586]\n",
    "\n",
    "new_sales_id = [34,54,885,2669,14,6,44,555,665,44]\n",
    "\n",
    "common_id =[]\n",
    "\n",
    "for i in sales_id:\n",
    "    for j in new_sales_id:\n",
    "        if i  == j :\n",
    "            common_id.append(i)\n",
    "\n",
    "print('Common_id : ',common_id)"
   ]
  },
  {
   "cell_type": "code",
   "execution_count": 2,
   "id": "afd3d8da-6d7f-4e1c-b6d9-83d737a73e12",
   "metadata": {},
   "outputs": [
    {
     "name": "stdout",
     "output_type": "stream",
     "text": [
      "Common_id :  [555, 44]\n"
     ]
    }
   ],
   "source": [
    "sales_id = [4,655,447,423,555,455,665,44,586]\n",
    "new_sales_id = [34,54,885,2669,14,644,555,665,44]\n",
    "old_sales_id = [42,852,146,852,485,96,44,555]\n",
    "common_id = []\n",
    "\n",
    "for i in sales_id:\n",
    "    for j in new_sales_id:\n",
    "        for k in old_sales_id:\n",
    "            if i==j==k:\n",
    "                common_id.append(i)\n",
    "\n",
    "print('Common_id : ',common_id)"
   ]
  },
  {
   "cell_type": "code",
   "execution_count": 26,
   "id": "b2654f81-19a9-4598-89f2-7eb55e693046",
   "metadata": {},
   "outputs": [
    {
     "name": "stdout",
     "output_type": "stream",
     "text": [
      "Max : 665\n"
     ]
    }
   ],
   "source": [
    "#max sales\n",
    "\n",
    "sales = [4,655,447,423,555,455,665,44,586]\n",
    "\n",
    "max_num = sales[0]\n",
    "\n",
    "for i in sales:\n",
    "    if i>max_num:\n",
    "        max_num = i\n",
    "\n",
    "print(\"Max :\",max_num)"
   ]
  },
  {
   "cell_type": "code",
   "execution_count": 27,
   "id": "883c32f2-5889-4914-b04d-27ff33e85b48",
   "metadata": {},
   "outputs": [
    {
     "name": "stdout",
     "output_type": "stream",
     "text": [
      "Max : 4\n"
     ]
    }
   ],
   "source": [
    "#min sales\n",
    "\n",
    "sales = [4,655,447,423,555,455,665,44,586]\n",
    "\n",
    "min_num = sales[0]\n",
    "\n",
    "for i in sales:\n",
    "    if i<min_num:\n",
    "        min_num = i\n",
    "\n",
    "print(\"Max :\",min_num)"
   ]
  },
  {
   "cell_type": "markdown",
   "id": "2d59bd72-97e0-4ea8-9f25-d80e30b30874",
   "metadata": {},
   "source": [
    "# While Loop : Works on conditions"
   ]
  },
  {
   "cell_type": "code",
   "execution_count": 32,
   "id": "015229cb-07ab-4315-983d-910fd7da9e89",
   "metadata": {},
   "outputs": [],
   "source": [
    "# while conditions:\n",
    "#     code block\n",
    "#     if else : break"
   ]
  },
  {
   "cell_type": "code",
   "execution_count": 33,
   "id": "941e8c76-c24e-41ab-9357-6e3c24acc049",
   "metadata": {},
   "outputs": [],
   "source": [
    "# while True : While start\n",
    "# while False : While End"
   ]
  },
  {
   "cell_type": "code",
   "execution_count": 34,
   "id": "e89eb488-6571-4f7d-a556-9fec52b3dbe4",
   "metadata": {},
   "outputs": [],
   "source": [
    "while False :\n",
    "    print('Hello World')"
   ]
  },
  {
   "cell_type": "code",
   "execution_count": 35,
   "id": "8dabdfa1-7dab-442d-90a5-d3efad73b100",
   "metadata": {},
   "outputs": [
    {
     "name": "stdout",
     "output_type": "stream",
     "text": [
      "Hello  1\n",
      "Hello  2\n",
      "Hello  3\n",
      "Hello  4\n",
      "Hello  5\n",
      "Hello  6\n",
      "Hello  7\n",
      "Hello  8\n",
      "Hello  9\n",
      "Hello  10\n"
     ]
    }
   ],
   "source": [
    "counter = 1\n",
    "while True: # infinite loop\n",
    "    print('Hello ',counter)\n",
    "    if counter ==10:\n",
    "        break\n",
    "    counter +=1"
   ]
  },
  {
   "cell_type": "code",
   "execution_count": 4,
   "id": "1b066284-bebe-4921-b587-6ce1ac5eced7",
   "metadata": {},
   "outputs": [
    {
     "name": "stdout",
     "output_type": "stream",
     "text": [
      "Thu Sep 18 14:17:20 2025\n"
     ]
    },
    {
     "ename": "KeyboardInterrupt",
     "evalue": "",
     "output_type": "error",
     "traceback": [
      "\u001b[1;31m---------------------------------------------------------------------------\u001b[0m",
      "\u001b[1;31mKeyboardInterrupt\u001b[0m                         Traceback (most recent call last)",
      "Cell \u001b[1;32mIn[4], line 4\u001b[0m\n\u001b[0;32m      2\u001b[0m \u001b[38;5;28;01mwhile\u001b[39;00m \u001b[38;5;28;01mTrue\u001b[39;00m:\n\u001b[0;32m      3\u001b[0m     \u001b[38;5;28mprint\u001b[39m(time\u001b[38;5;241m.\u001b[39masctime())\n\u001b[1;32m----> 4\u001b[0m     time\u001b[38;5;241m.\u001b[39msleep(\u001b[38;5;241m1\u001b[39m)\n\u001b[0;32m      5\u001b[0m     display(clear \u001b[38;5;241m=\u001b[39m \u001b[38;5;28;01mTrue\u001b[39;00m)\n",
      "\u001b[1;31mKeyboardInterrupt\u001b[0m: "
     ]
    }
   ],
   "source": [
    "import time\n",
    "while True:\n",
    "    print(time.asctime())\n",
    "    time.sleep(1)\n",
    "    display(clear = True)"
   ]
  },
  {
   "cell_type": "code",
   "execution_count": null,
   "id": "e3f63de6-4fe8-487f-9011-0c9cec6eb897",
   "metadata": {},
   "outputs": [],
   "source": []
  }
 ],
 "metadata": {
  "kernelspec": {
   "display_name": "Python [conda env:base] *",
   "language": "python",
   "name": "conda-base-py"
  },
  "language_info": {
   "codemirror_mode": {
    "name": "ipython",
    "version": 3
   },
   "file_extension": ".py",
   "mimetype": "text/x-python",
   "name": "python",
   "nbconvert_exporter": "python",
   "pygments_lexer": "ipython3",
   "version": "3.12.7"
  }
 },
 "nbformat": 4,
 "nbformat_minor": 5
}
