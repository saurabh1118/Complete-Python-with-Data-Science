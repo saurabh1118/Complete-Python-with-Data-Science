{
 "cells": [
  {
   "cell_type": "code",
   "execution_count": 1,
   "id": "19c77602-176c-41fe-bddf-6409ba31e68d",
   "metadata": {},
   "outputs": [],
   "source": [
    "# 1>> Function with return\n",
    "# 2>> args ,kwargs\n",
    "# 3>> Function Docstring \n",
    "# 4>> Nested Function\n",
    "# 5>> IMportant Function\n",
    "# 6>> Scope in python Function Variable\n",
    "# 7>> LAmbda Function"
   ]
  },
  {
   "cell_type": "markdown",
   "id": "0ba1b65f-7d3c-4dc1-b5fd-9e45adb71d8d",
   "metadata": {},
   "source": [
    "# Check Prime"
   ]
  },
  {
   "cell_type": "code",
   "execution_count": 7,
   "id": "581eb8b1-f2a5-40a6-bb84-df6498ee957d",
   "metadata": {},
   "outputs": [],
   "source": [
    "def check_prime(number):\n",
    "    '''This is a check prime fuction , return True If number is Prime otherwise return False\n",
    "    eg.\n",
    "    check_prime(22)>>False\n",
    "    check_prime(23)>>True'''\n",
    "    for i in range(2,number):\n",
    "        if number % i == 0:\n",
    "            return False\n",
    "            break\n",
    "        else:\n",
    "            return True"
   ]
  },
  {
   "cell_type": "code",
   "execution_count": 3,
   "id": "daf547d8-4b8f-40fb-9d43-4f42a5f19d71",
   "metadata": {},
   "outputs": [
    {
     "data": {
      "text/plain": [
       "False"
      ]
     },
     "execution_count": 3,
     "metadata": {},
     "output_type": "execute_result"
    }
   ],
   "source": [
    "check_prime(22)"
   ]
  },
  {
   "cell_type": "code",
   "execution_count": 4,
   "id": "afa5dc17-8706-4306-ab2a-17e34c176493",
   "metadata": {},
   "outputs": [
    {
     "data": {
      "text/plain": [
       "True"
      ]
     },
     "execution_count": 4,
     "metadata": {},
     "output_type": "execute_result"
    }
   ],
   "source": [
    "check_prime(23)"
   ]
  },
  {
   "cell_type": "code",
   "execution_count": 5,
   "id": "553b907a-0173-4298-ab78-dd9cd0d7fad3",
   "metadata": {},
   "outputs": [
    {
     "data": {
      "text/plain": [
       "True"
      ]
     },
     "execution_count": 5,
     "metadata": {},
     "output_type": "execute_result"
    }
   ],
   "source": [
    "check_prime(15451361)"
   ]
  },
  {
   "cell_type": "code",
   "execution_count": 8,
   "id": "57e82870-6fd5-46a7-8d61-a1e591cb5587",
   "metadata": {},
   "outputs": [],
   "source": [
    "import pandas as pd"
   ]
  },
  {
   "cell_type": "markdown",
   "id": "83a35f83-cd7b-48f3-9a23-c5d5dbaec325",
   "metadata": {},
   "source": [
    "## Give Fibbonacci"
   ]
  },
  {
   "cell_type": "code",
   "execution_count": 9,
   "id": "4314e7af-c5a8-42d6-8acf-4b38e687da06",
   "metadata": {},
   "outputs": [],
   "source": [
    "def fibbonacci(number):\n",
    "    fibo=[0,1]\n",
    "    for i in range(number-2):\n",
    "        last_element=fibo[-1]\n",
    "        second_last_element=fibo[-2]\n",
    "        next_element = last_element+second_last_element\n",
    "        fibo.append(next_element)\n",
    "\n",
    "    return fibo"
   ]
  },
  {
   "cell_type": "code",
   "execution_count": 10,
   "id": "a12c2206-b70d-41c5-b98b-6c82c0173884",
   "metadata": {},
   "outputs": [
    {
     "data": {
      "text/plain": [
       "[0, 1, 1, 2, 3, 5, 8, 13, 21, 34]"
      ]
     },
     "execution_count": 10,
     "metadata": {},
     "output_type": "execute_result"
    }
   ],
   "source": [
    "fibbonacci(10)"
   ]
  },
  {
   "cell_type": "markdown",
   "id": "c9f0c88b-c81f-4e13-8621-36cc06a23c3f",
   "metadata": {},
   "source": [
    "# CHECK ANAGRAM"
   ]
  },
  {
   "cell_type": "code",
   "execution_count": 18,
   "id": "3c2948a9-e4e7-48c7-998b-ad74199d7de7",
   "metadata": {},
   "outputs": [],
   "source": [
    "def check_anagram(word1,word2):\n",
    "    word1=word1.lower()\n",
    "    word2=word2.lower()\n",
    "    \n",
    "    word1_dict = {}\n",
    "    word2_dict = {}\n",
    "    for i in word1:\n",
    "        word1_dict[i]=word1.count(i)\n",
    "\n",
    "    for i in word2:\n",
    "        word2_dict[i]=word2.count(i)\n",
    "\n",
    "    if word1_dict == word2_dict:\n",
    "        print('Anagram')\n",
    "    else:\n",
    "        print('NOt Anagram')\n",
    "    \n",
    "    # print(word1_dict)\n",
    "    # print(word2_dict)"
   ]
  },
  {
   "cell_type": "code",
   "execution_count": 19,
   "id": "cceb2085-c549-4a8d-b476-58a2eef0a858",
   "metadata": {},
   "outputs": [
    {
     "name": "stdout",
     "output_type": "stream",
     "text": [
      "Anagram\n"
     ]
    }
   ],
   "source": [
    "check_anagram('silent','listen')"
   ]
  },
  {
   "cell_type": "code",
   "execution_count": 20,
   "id": "0bb60334-0bc3-4f3f-bc37-3666d5144490",
   "metadata": {},
   "outputs": [
    {
     "name": "stdout",
     "output_type": "stream",
     "text": [
      "Anagram\n"
     ]
    }
   ],
   "source": [
    "check_anagram('arm','RAM')"
   ]
  },
  {
   "cell_type": "markdown",
   "id": "e708765f-8077-4f81-a051-6425700db343",
   "metadata": {},
   "source": [
    "# CHECK ARMSTRONG"
   ]
  },
  {
   "cell_type": "code",
   "execution_count": 21,
   "id": "1034836f-bc4c-404c-aaf4-2569d73e65fb",
   "metadata": {},
   "outputs": [],
   "source": [
    "def check_armstrong(number):\n",
    "    pass"
   ]
  },
  {
   "cell_type": "code",
   "execution_count": 22,
   "id": "79017ac9-6c23-4b32-84fa-f60ec3bcb7bd",
   "metadata": {},
   "outputs": [],
   "source": [
    "import calendar"
   ]
  },
  {
   "cell_type": "code",
   "execution_count": 24,
   "id": "3b8ad6b0-a185-4803-80b4-641479bb5228",
   "metadata": {},
   "outputs": [
    {
     "data": {
      "text/plain": [
       "True"
      ]
     },
     "execution_count": 24,
     "metadata": {},
     "output_type": "execute_result"
    }
   ],
   "source": [
    "calendar.isleap(2020)"
   ]
  },
  {
   "cell_type": "markdown",
   "id": "acb64d81-5bdc-45c0-b2fc-419bc5794e39",
   "metadata": {},
   "source": [
    "# Check Leap Year"
   ]
  },
  {
   "cell_type": "code",
   "execution_count": 30,
   "id": "c14f29bb-d513-4850-8441-abd87512d476",
   "metadata": {},
   "outputs": [],
   "source": [
    "def check_year(year):\n",
    "    if (year % 4 ==0 and year % 100 !=0 )or( year%400 ==0):\n",
    "        return True\n",
    "    else:\n",
    "        return False"
   ]
  },
  {
   "cell_type": "code",
   "execution_count": 31,
   "id": "891845ab-269a-4699-8961-58930562623c",
   "metadata": {},
   "outputs": [
    {
     "data": {
      "text/plain": [
       "False"
      ]
     },
     "execution_count": 31,
     "metadata": {},
     "output_type": "execute_result"
    }
   ],
   "source": [
    "check_year(2100)"
   ]
  },
  {
   "cell_type": "code",
   "execution_count": null,
   "id": "dd0b5589-cd17-42fb-8e54-edc54508b421",
   "metadata": {},
   "outputs": [],
   "source": []
  }
 ],
 "metadata": {
  "kernelspec": {
   "display_name": "Python [conda env:base] *",
   "language": "python",
   "name": "conda-base-py"
  },
  "language_info": {
   "codemirror_mode": {
    "name": "ipython",
    "version": 3
   },
   "file_extension": ".py",
   "mimetype": "text/x-python",
   "name": "python",
   "nbconvert_exporter": "python",
   "pygments_lexer": "ipython3",
   "version": "3.12.7"
  }
 },
 "nbformat": 4,
 "nbformat_minor": 5
}
